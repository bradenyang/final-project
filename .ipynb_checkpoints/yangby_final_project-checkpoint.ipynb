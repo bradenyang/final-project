{
 "cells": [
  {
   "cell_type": "markdown",
   "metadata": {},
   "source": [
    "## Introduction and Problem Statement\n",
    "\n",
    "Every week since 1958, *Billboard* magazine compiles their list of the top 100 songs currently trending in the United States. Some songs only appear on the chart for as little as one week, while other songs remain near the top for multiple weeks. But is there a secret formula in how a song is written that leads to success in getting to the top of the charts, particularly in the chord structure of a song?\n",
    "\n",
    "In this BIOF509 Applied Machine Learning project, we will attempt to predict a song's peak rank attained in the *Billboard* Hot 100 chart (the **hotness index**) using information about the chord progressions it uses. We will also attempt to predict how long a song stays on the charts (the **consistency index**)"
   ]
  },
  {
   "cell_type": "markdown",
   "metadata": {},
   "source": [
    "## The Dataset\n",
    "\n",
    "Data was obtained from *The McGill Billboard Project*, which has released annotated text files on 890 total songs which contains full information about the chord structure of a song, along with the key it is in, the time signature, and the verse structure. An example text file is demonstrated for one such song in the database (\"I Feel Good\" by James Brown)."
   ]
  },
  {
   "cell_type": "code",
   "execution_count": 28,
   "metadata": {},
   "outputs": [
    {
     "name": "stdout",
     "output_type": "stream",
     "text": [
      "# title: I Got You (I Feel Good)\n",
      "# artist: James Brown\n",
      "# metre: 4/4\n",
      "# tonic: D\n",
      "\n",
      "0.000000000\tsilence\n",
      "0.301859410\tA, verse, | D:7 | D:7 | D:7 | D:7 |, (voice\n",
      "8.979795918\t| G:7 | G:7 | D:7 | D:7 |\n",
      "15.538435374\t| A:7 | G:7 | D:7 | D:7 |\n",
      "22.198276643\tA, verse, | D:7 | D:7 | D:7 | D:7 |\n",
      "28.886938775\t| G:7 | G:7 | D:7 | D:7 |\n",
      "35.522993197\t| A:7 | G:7 | D:7 | D:7 |, voice)\n",
      "42.116553287\tB, solo, | N | N | N | N |, (saxophone)\n",
      "48.710090702\tC, bridge, | G:7 | G:7 | D:7 | D:7 |, (voice\n",
      "55.154557823\t| G:7 | G:7 | A:7 | N |\n",
      "61.718639455\tA, verse, | D:7 | D:7 | D:7 | D:7 |\n",
      "68.359138321\t| G:7 | G:7 | D:7 | D:7 |\n",
      "74.994217687\t| A:7 | G:7 | D:7 | D:7 |, voice)\n",
      "81.548480725\tB, solo, | N | N | N | N |, (saxophone)\n",
      "88.182222222\tC, bridge, | G:7 | G:7 | D:7 | D:7 |, (voice\n",
      "94.662607709\t| G:7 | G:7 | A:7 | N |\n",
      "101.345668934\tA, verse, | D:7 | D:7 | D:7 | D:7 |\n",
      "108.098911564\t| G:7 | G:7 | D:7 | D:7 |\n",
      "114.781723356\t| A:7 | G:7 | D:7 | D:7 |\n",
      "121.458752834\tA', verse, | D:7 | D:7 | D:7 | D:7 |\n",
      "128.150680272\t| G:7 | G:7 | D:7 | D:7 |\n",
      "134.915238095\t| A:7 | G:7 | D:7 | D:7 |\n",
      "141.545192743\t| A:7 | G:7 | D:7 | D:7 |\n",
      "148.261519274\t| A:7 | G:7 | D:7 | D:7 | D:7 | D:7 |, voice)\n",
      "159.134716553\t| D:9 |, (trumpet)\n",
      "165.511836734\tsilence\n",
      "168.777142857\tend\n",
      "\n"
     ]
    }
   ],
   "source": [
    "# show example text file\n",
    "f_example = open(\"data/McGill-Billboard/0314/salami_chords.txt\",\"r\")\n",
    "print(f_example.read())\n",
    "f_example.close()"
   ]
  },
  {
   "cell_type": "markdown",
   "metadata": {},
   "source": [
    "A note on chord notation: chords are sandwiched between the vertical bars \"|\", and are notated as (pitch):(quality). Pitch can be any of the 12 musical notes (A, B-flat, etc), and quality represents the type of chord (major, minor, 7, etc)"
   ]
  },
  {
   "cell_type": "markdown",
   "metadata": {},
   "source": [
    "## Import modules"
   ]
  },
  {
   "cell_type": "code",
   "execution_count": 1,
   "metadata": {},
   "outputs": [],
   "source": [
    "import numpy as np\n",
    "import pandas as pd\n",
    "import os.path\n",
    "import time\n",
    "import seaborn as sns\n",
    "import matplotlib.pyplot as plt\n",
    "from collections import Counter"
   ]
  },
  {
   "cell_type": "markdown",
   "metadata": {},
   "source": [
    "## Define global variables"
   ]
  },
  {
   "cell_type": "code",
   "execution_count": 2,
   "metadata": {},
   "outputs": [],
   "source": [
    "# dictionary of chord (key) to numeral (value)\n",
    "CHORD_DICT = {\n",
    "    'A':0,\n",
    "    'A#':1,\n",
    "    'Bb':1,\n",
    "    'B':2,\n",
    "    'Cb':2,\n",
    "    'C':3,\n",
    "    'C#':4,\n",
    "    'Db':4,\n",
    "    'D':5,\n",
    "    'D#':6,\n",
    "    'Eb':6,\n",
    "    'E':7,\n",
    "    'Fb':7,\n",
    "    'F':8,\n",
    "    'F#':9,\n",
    "    'Gb':8,\n",
    "    'G':10,\n",
    "    'G#':11,\n",
    "    'Ab':11,\n",
    "}\n",
    "\n",
    "# dictionary of quality to simplified quality\n",
    "QUALITY_DICT = {\n",
    "    'min7':'min',\n",
    "    'sus4':'sus',\n",
    "    'maj7':'maj',\n",
    "    'maj6':'maj',\n",
    "    'min9':'min',\n",
    "    'maj9':'maj',\n",
    "    '9':'7',\n",
    "    '11':'7',\n",
    "    'sus2':'sus',\n",
    "    '13':'7',\n",
    "    'min6':'min',\n",
    "    'min11':'min',\n",
    "    'hdim7':'dim',\n",
    "    'maj13':'maj',\n",
    "    'dim7':'dim',\n",
    "    'minmaj7':'min',\n",
    "    'min13':'min'\n",
    "}\n",
    "\n",
    "# absolute path to McGill Billboard data\n",
    "# MCGILL_PATH = os.path.expanduser(\"~\") + \"/biof509/final-project/data/McGill-Billboard\"\n",
    "MCGILL_PATH = \"data/McGill-Billboard\"\n",
    "\n",
    "# bool to indicate whether to simplify quality of chords\n",
    "QUALITY_SIMPLIFY = True\n",
    "\n",
    "# bool to indicate whether to normalize data based on the total number of sequences of a\n",
    "#   certain length found in a song (reflective of the size of a song)\n",
    "NORM = False\n",
    "\n",
    "# list of sequence lengths to search for\n",
    "SEQ_LEN_LIST = [2,3,4]\n",
    "\n",
    "# number of chart rank categories to bin into\n",
    "NUM_CATEGORIES = 5"
   ]
  },
  {
   "cell_type": "markdown",
   "metadata": {},
   "source": [
    "## Define Functions"
   ]
  },
  {
   "cell_type": "code",
   "execution_count": 3,
   "metadata": {},
   "outputs": [],
   "source": [
    "def parse_data(path):\n",
    "    \"\"\"\n",
    "    Funtion parse_data parses text file provided from the McGill Billboard\n",
    "    project and returns two lists of lists containing a sequence of chords\n",
    "    and their qualities respectively\n",
    "    -----------------------\n",
    "    Input\n",
    "        path: string containing absolute path to text file to parse\n",
    "    \n",
    "    Output\n",
    "        chords: list of lists; each inner list corresponds to a chord sequence\n",
    "            in an individual line of the song, and contains 2-element tuples\n",
    "            that give the relative chord numeral and its quality\n",
    "    \"\"\"\n",
    "    # initialize global list\n",
    "    chords = []\n",
    "    # iterate over every line\n",
    "    for line in open(path):\n",
    "        # set new tonic, if applicable\n",
    "        if \"# tonic:\" in line:\n",
    "            tonic = line.rsplit(\" \")[-1][:-1]\n",
    "        # initialize line-specific lists\n",
    "        chords_line = []\n",
    "        # split bars (separated by \"|\")\n",
    "        bars = line.rsplit(\"|\")[1:-1]\n",
    "        # iterate over bars\n",
    "        for bar in bars:\n",
    "            # split chords+quality (separated by space)\n",
    "            cqs = bar.rsplit(\" \")[1:-1]\n",
    "            # iterate over chords+quality\n",
    "            for cq in cqs:\n",
    "                # check for existence of \":\"\n",
    "                if \":\" in cq:\n",
    "                    # get chord and convert to relative numeral\n",
    "                    c = convert_numeral(cq.rsplit(\":\")[0],tonic)\n",
    "                    # get quality\n",
    "                    q = cq.rsplit(\":\")[-1]\n",
    "                    if QUALITY_SIMPLIFY:\n",
    "                        q = q.split(\"(\")[0]\n",
    "                        q = q.split(\"/\")[0]\n",
    "                        if q in QUALITY_DICT.keys():\n",
    "                            q = QUALITY_DICT[q]\n",
    "                    # append to line list as tuple\n",
    "                    chords_line.append((c,q))\n",
    "        # append line list to global list (ignore empty lines)\n",
    "        if chords_line:\n",
    "            chords.append(chords_line)\n",
    "\n",
    "    return chords\n",
    "\n",
    "def reduce_song(chords):\n",
    "    \"\"\"\n",
    "    Function reduce_song takes in the output of parse_data as input, and outputs a reduced chord\n",
    "    stored in a single list, with repeated chords removed\n",
    "    \n",
    "    -----------------------\n",
    "    Input\n",
    "        chords: list of lists; each inner list corresponds to a chord sequence\n",
    "            in an individual line of the song, and contains 2-element tuples\n",
    "            that give the relative chord numeral and its quality (outputed by parse_data\n",
    "    \n",
    "    Output\n",
    "        chords_reduced: list; reduced form of chords stored in a single list and with repeated chords removed\n",
    "    \"\"\"\n",
    "    # initialize reduced chord sequence list\n",
    "    chords_reduced = []\n",
    "    # keep track of previous chord in iteration\n",
    "    chord_prev = ()\n",
    "    # iterate over lines\n",
    "    for line in chords:\n",
    "        # iterate over chords in line\n",
    "        for chord in line:\n",
    "            # check if repeated chord\n",
    "            if chord == chord_prev:\n",
    "                pass\n",
    "            else:\n",
    "                chords_reduced.append(chord)\n",
    "                chord_prev = chord\n",
    "    \n",
    "    return chords_reduced\n",
    "\n",
    "def get_chord_seq(chords_reduced,seq_len):\n",
    "    \"\"\"\n",
    "    Function get_chord_seq parses through a song's chord structure and returns a\n",
    "    dictionary, with keys representing chord sequences in nested tuples, and values\n",
    "    representing the counts of each chord sequence found in a particular song.\n",
    "    User can specify the length of chord sequence to search for\n",
    "    \n",
    "    -----------------------\n",
    "    Input\n",
    "        chords_reduced: list containing a song's reduced chord structure (outputed by reduce_song)\n",
    "        seq_len: int specifying the length of chord sequence to search for\n",
    "    \n",
    "    Output\n",
    "        seq_dict: dict containing specific chord sequences as keys and the counts of\n",
    "            each sequence found within the song as values\n",
    "    \"\"\"\n",
    "    # initialize dict\n",
    "    seq_dict = {}\n",
    "    # raster over sequences and store in dict\n",
    "    for i in range(len(chords_reduced) - seq_len + 1):\n",
    "        seq = tuple(chords_reduced[i:(i+seq_len)]) # get sequence as tuple\n",
    "        if seq in seq_dict:\n",
    "            seq_dict[seq] += 1\n",
    "        else:\n",
    "            seq_dict[seq] = 1\n",
    "    \n",
    "    return seq_dict\n",
    "\n",
    "def convert_numeral(chord,tonic):\n",
    "    \"\"\"\n",
    "    Function convert_numeral converts a chord (string) into a\n",
    "    numeric representation (int) that is relative to the tonic key (string)\n",
    "    \n",
    "    For example, if chord = \"F\" and tonic = \"Bb\", then the output would be\n",
    "    the integer 7\n",
    "    -----------------------\n",
    "    Input\n",
    "        chord: string of the chord to be converted to a numeral\n",
    "        tonic: string of the tonic key\n",
    "    Output\n",
    "        numeral: int representation of \"chord\"\n",
    "    \"\"\"\n",
    "    numeral = CHORD_DICT[chord] - CHORD_DICT[tonic]\n",
    "    if numeral < 0:\n",
    "        return numeral + 12\n",
    "    else:\n",
    "        return numeral\n",
    "\n",
    "def get_decade(d):\n",
    "    \"\"\"\n",
    "    Function get_decade returns a string representing the decade of an input date (also\n",
    "    string); for example, if '1968-03-01' is inputed, then the output would be '1960'\n",
    "    \n",
    "    -----------------------\n",
    "    Input\n",
    "        d: string, input date in the format 'yyyy-mm-dd'\n",
    "    \n",
    "    Output\n",
    "        decade: string, output decade\n",
    "    \"\"\"\n",
    "    # remove substring past first \"-\"\n",
    "    y = float(d.split(\"-\")[0])\n",
    "    \n",
    "    # round to the nearest decade\n",
    "    decade = str(int(10*np.floor(y/10)))\n",
    "    \n",
    "    return decade"
   ]
  },
  {
   "cell_type": "markdown",
   "metadata": {},
   "source": [
    "## Load in CSV file of metadata\n",
    "\n",
    "A CSV file containing metadata of all songs is also provided in the *McGill Billboard Project* dataset. This file contains all ranking information such as the peak rank attained and the number of weeks that a song remained on the charts, among other parameters. A large portion of the rows are missing ranking data; these empty rows are filtered out for subsequent analysis."
   ]
  },
  {
   "cell_type": "code",
   "execution_count": 29,
   "metadata": {},
   "outputs": [
    {
     "data": {
      "text/html": [
       "<div>\n",
       "<style scoped>\n",
       "    .dataframe tbody tr th:only-of-type {\n",
       "        vertical-align: middle;\n",
       "    }\n",
       "\n",
       "    .dataframe tbody tr th {\n",
       "        vertical-align: top;\n",
       "    }\n",
       "\n",
       "    .dataframe thead th {\n",
       "        text-align: right;\n",
       "    }\n",
       "</style>\n",
       "<table border=\"1\" class=\"dataframe\">\n",
       "  <thead>\n",
       "    <tr style=\"text-align: right;\">\n",
       "      <th></th>\n",
       "      <th>index</th>\n",
       "      <th>id</th>\n",
       "      <th>chart_date</th>\n",
       "      <th>target_rank</th>\n",
       "      <th>actual_rank</th>\n",
       "      <th>title</th>\n",
       "      <th>artist</th>\n",
       "      <th>peak_rank</th>\n",
       "      <th>weeks_on_chart</th>\n",
       "      <th>decade</th>\n",
       "      <th>actual_rank_category</th>\n",
       "    </tr>\n",
       "  </thead>\n",
       "  <tbody>\n",
       "    <tr>\n",
       "      <th>0</th>\n",
       "      <td>2</td>\n",
       "      <td>3</td>\n",
       "      <td>1961-07-03</td>\n",
       "      <td>56</td>\n",
       "      <td>57.0</td>\n",
       "      <td>I Don't Mind</td>\n",
       "      <td>James Brown</td>\n",
       "      <td>47.0</td>\n",
       "      <td>8.0</td>\n",
       "      <td>1960</td>\n",
       "      <td>3</td>\n",
       "    </tr>\n",
       "    <tr>\n",
       "      <th>1</th>\n",
       "      <td>3</td>\n",
       "      <td>4</td>\n",
       "      <td>1971-08-07</td>\n",
       "      <td>32</td>\n",
       "      <td>31.0</td>\n",
       "      <td>You've Got A Friend</td>\n",
       "      <td>Roberta Flack,Donny Hathaway</td>\n",
       "      <td>29.0</td>\n",
       "      <td>12.0</td>\n",
       "      <td>1970</td>\n",
       "      <td>2</td>\n",
       "    </tr>\n",
       "    <tr>\n",
       "      <th>2</th>\n",
       "      <td>5</td>\n",
       "      <td>6</td>\n",
       "      <td>1980-08-02</td>\n",
       "      <td>15</td>\n",
       "      <td>16.0</td>\n",
       "      <td>The Rose</td>\n",
       "      <td>Bette Midler</td>\n",
       "      <td>3.0</td>\n",
       "      <td>25.0</td>\n",
       "      <td>1980</td>\n",
       "      <td>1</td>\n",
       "    </tr>\n",
       "    <tr>\n",
       "      <th>3</th>\n",
       "      <td>9</td>\n",
       "      <td>10</td>\n",
       "      <td>1984-03-24</td>\n",
       "      <td>49</td>\n",
       "      <td>51.0</td>\n",
       "      <td>An Innocent Man</td>\n",
       "      <td>Billy Joel</td>\n",
       "      <td>10.0</td>\n",
       "      <td>18.0</td>\n",
       "      <td>1980</td>\n",
       "      <td>3</td>\n",
       "    </tr>\n",
       "    <tr>\n",
       "      <th>4</th>\n",
       "      <td>11</td>\n",
       "      <td>12</td>\n",
       "      <td>1980-11-15</td>\n",
       "      <td>65</td>\n",
       "      <td>63.0</td>\n",
       "      <td>Lookin' For Love</td>\n",
       "      <td>Johnny Lee</td>\n",
       "      <td>5.0</td>\n",
       "      <td>21.0</td>\n",
       "      <td>1980</td>\n",
       "      <td>4</td>\n",
       "    </tr>\n",
       "  </tbody>\n",
       "</table>\n",
       "</div>"
      ],
      "text/plain": [
       "   index  id  chart_date  target_rank  actual_rank                title  \\\n",
       "0      2   3  1961-07-03           56         57.0         I Don't Mind   \n",
       "1      3   4  1971-08-07           32         31.0  You've Got A Friend   \n",
       "2      5   6  1980-08-02           15         16.0             The Rose   \n",
       "3      9  10  1984-03-24           49         51.0      An Innocent Man   \n",
       "4     11  12  1980-11-15           65         63.0     Lookin' For Love   \n",
       "\n",
       "                         artist  peak_rank  weeks_on_chart decade  \\\n",
       "0                   James Brown       47.0             8.0   1960   \n",
       "1  Roberta Flack,Donny Hathaway       29.0            12.0   1970   \n",
       "2                  Bette Midler        3.0            25.0   1980   \n",
       "3                    Billy Joel       10.0            18.0   1980   \n",
       "4                    Johnny Lee        5.0            21.0   1980   \n",
       "\n",
       "   actual_rank_category  \n",
       "0                     3  \n",
       "1                     2  \n",
       "2                     1  \n",
       "3                     3  \n",
       "4                     4  "
      ]
     },
     "execution_count": 29,
     "metadata": {},
     "output_type": "execute_result"
    }
   ],
   "source": [
    "# load CSV\n",
    "songs_meta_df = pd.read_csv(\"data/billboard-2.0-index.csv\");\n",
    "\n",
    "# filter out rows that have NaN in the \"actual_rank\" column\n",
    "songs_meta_filter_df = songs_meta_df[songs_meta_df.actual_rank.notnull()].copy().reset_index()\n",
    "\n",
    "# get song indices\n",
    "song_id = songs_meta_filter_df.id.values\n",
    "\n",
    "# get decade and append new column\n",
    "dates = songs_meta_filter_df.chart_date\n",
    "decade = [get_decade(date) for date in dates]\n",
    "decade_ser = pd.Series(decade, name=\"decade\")\n",
    "songs_meta_filter_df = songs_meta_filter_df.join(decade_ser)\n",
    "\n",
    "# get chart rank category and append new column\n",
    "rank_bin = np.digitize(x = songs_meta_filter_df[\"actual_rank\"], bins = np.linspace(0,100,NUM_CATEGORIES+1))\n",
    "rank_bin_ser = pd.Series(rank_bin, name=\"actual_rank_category\")\n",
    "songs_meta_filter_df = songs_meta_filter_df.join(rank_bin_ser)\n",
    "\n",
    "# display head of metadata\n",
    "songs_meta_filter_df.head()"
   ]
  },
  {
   "cell_type": "markdown",
   "metadata": {},
   "source": [
    "## Parse all text files and extract chord sequence data\n",
    "\n",
    "This step parses through all chord text files, extracts only the chord information, and stores it in a Python-storable format"
   ]
  },
  {
   "cell_type": "code",
   "execution_count": 6,
   "metadata": {},
   "outputs": [],
   "source": [
    "# initialize dicts to keep track of global counts\n",
    "num_cq = {}\n",
    "num_chord = {}\n",
    "num_quality = {}\n",
    "\n",
    "# initialize list of dicts to keep track of song chord sequences\n",
    "song_seq_all = []\n",
    "\n",
    "# iterate through all songs\n",
    "for song in song_id:\n",
    "    # parse song\n",
    "    chords = parse_data(MCGILL_PATH + f\"/{str(song).zfill(4)}/salami_chords.txt\")\n",
    "    # reduce song chord sequence\n",
    "    chords_reduced = reduce_song(chords)\n",
    "    \n",
    "    # -------- EXTRACT SONG-SPECIFIC CHORD SEQUENCES --------\n",
    "    # initialize song chord sequence dict\n",
    "    song_seq = {}\n",
    "    \n",
    "    # iterate over different sequence lengths, add to song_seq\n",
    "    for seq_len in SEQ_LEN_LIST:\n",
    "        # get dict of chord sequence counts for sequences of length seq_len\n",
    "        dict_temp = get_chord_seq(chords_reduced,seq_len)\n",
    "        # add to total count of sequences of all lengths\n",
    "        song_seq.update(dict_temp)\n",
    "    \n",
    "    # append song_seq to song_seq_all\n",
    "    song_seq_all.append(song_seq)\n",
    "    \n",
    "    # ----------------- FIND GLOBAL COUNTS ------------------\n",
    "    # iterate through lines in a song\n",
    "    for line in chords:\n",
    "        # iterate through individual chords\n",
    "        for chord in line:\n",
    "            # populate dicts\n",
    "            if chord in num_cq:\n",
    "                num_cq[chord] += 1\n",
    "            else:\n",
    "                num_cq[chord] = 1\n",
    "            \n",
    "            if chord[0] in num_chord:\n",
    "                num_chord[chord[0]] += 1\n",
    "            else:\n",
    "                num_chord[chord[0]] = 1\n",
    "            \n",
    "            if chord[1] in num_quality:\n",
    "                num_quality[chord[1]] += 1\n",
    "            else:\n",
    "                num_quality[chord[1]] = 1\n",
    "\n",
    "# sort key-value pairs by values\n",
    "cq_sort = sorted(num_cq.items(), key = lambda kv: kv[1], reverse=True)\n",
    "quality_sort = sorted(num_quality.items(), key = lambda kv: kv[1], reverse=True)\n",
    "chord_sort = sorted(num_chord.items(), key = lambda kv: kv[1], reverse=True)\n",
    "\n",
    "# get counts of all unique chord sequences\n",
    "seq_total_count = Counter({})\n",
    "for song in song_seq_all:\n",
    "    seq_total_count = seq_total_count + Counter(song)"
   ]
  },
  {
   "cell_type": "markdown",
   "metadata": {},
   "source": [
    "### Original text file\n",
    "*show how this is reduced to a single list with repeated chords removed*"
   ]
  },
  {
   "cell_type": "code",
   "execution_count": 30,
   "metadata": {},
   "outputs": [
    {
     "name": "stdout",
     "output_type": "stream",
     "text": [
      "# title: I Got You (I Feel Good)\n",
      "# artist: James Brown\n",
      "# metre: 4/4\n",
      "# tonic: D\n",
      "\n",
      "0.000000000\tsilence\n",
      "0.301859410\tA, verse, | D:7 | D:7 | D:7 | D:7 |, (voice\n",
      "8.979795918\t| G:7 | G:7 | D:7 | D:7 |\n",
      "15.538435374\t| A:7 | G:7 | D:7 | D:7 |\n",
      "22.198276643\tA, verse, | D:7 | D:7 | D:7 | D:7 |\n",
      "28.886938775\t| G:7 | G:7 | D:7 | D:7 |\n",
      "35.522993197\t| A:7 | G:7 | D:7 | D:7 |, voice)\n",
      "42.116553287\tB, solo, | N | N | N | N |, (saxophone)\n",
      "48.710090702\tC, bridge, | G:7 | G:7 | D:7 | D:7 |, (voice\n",
      "55.154557823\t| G:7 | G:7 | A:7 | N |\n",
      "61.718639455\tA, verse, | D:7 | D:7 | D:7 | D:7 |\n",
      "68.359138321\t| G:7 | G:7 | D:7 | D:7 |\n",
      "74.994217687\t| A:7 | G:7 | D:7 | D:7 |, voice)\n",
      "81.548480725\tB, solo, | N | N | N | N |, (saxophone)\n",
      "88.182222222\tC, bridge, | G:7 | G:7 | D:7 | D:7 |, (voice\n",
      "94.662607709\t| G:7 | G:7 | A:7 | N |\n",
      "101.345668934\tA, verse, | D:7 | D:7 | D:7 | D:7 |\n",
      "108.098911564\t| G:7 | G:7 | D:7 | D:7 |\n",
      "114.781723356\t| A:7 | G:7 | D:7 | D:7 |\n",
      "121.458752834\tA', verse, | D:7 | D:7 | D:7 | D:7 |\n",
      "128.150680272\t| G:7 | G:7 | D:7 | D:7 |\n",
      "134.915238095\t| A:7 | G:7 | D:7 | D:7 |\n",
      "141.545192743\t| A:7 | G:7 | D:7 | D:7 |\n",
      "148.261519274\t| A:7 | G:7 | D:7 | D:7 | D:7 | D:7 |, voice)\n",
      "159.134716553\t| D:9 |, (trumpet)\n",
      "165.511836734\tsilence\n",
      "168.777142857\tend\n",
      "\n"
     ]
    }
   ],
   "source": [
    "f_example = open(\"data/McGill-Billboard/0314/salami_chords.txt\",\"r\")\n",
    "print(f_example.read())\n",
    "f_example.close()"
   ]
  },
  {
   "cell_type": "markdown",
   "metadata": {},
   "source": [
    "### Parsed output"
   ]
  },
  {
   "cell_type": "code",
   "execution_count": 31,
   "metadata": {},
   "outputs": [],
   "source": [
    "chords = parse_data(\"data/McGill-Billboard/0314/salami_chords.txt\")"
   ]
  },
  {
   "cell_type": "markdown",
   "metadata": {},
   "source": [
    "## Example of data parsing pipeline"
   ]
  },
  {
   "cell_type": "markdown",
   "metadata": {},
   "source": [
    "- raw text data\n",
    "- parsing output: song chord structure\n",
    "    - standardize chord (show a piano?)\n",
    "- reduced chord list with repeated chord removed\n",
    "- sub-sequences extracted (differing lengths)"
   ]
  },
  {
   "cell_type": "markdown",
   "metadata": {},
   "source": [
    "### Plot overall distributions"
   ]
  },
  {
   "cell_type": "code",
   "execution_count": 7,
   "metadata": {},
   "outputs": [],
   "source": [
    "def plot_bar(data,filter_data=False):\n",
    "    \"\"\"\n",
    "    Function plot_bar plots a bar plot of a pair list of items and counts stored in input \"data\"\n",
    "    NOTE: filters out items that have a count less than 1000\n",
    "    \"\"\"\n",
    "    # get counts and labels in separate np arrays\n",
    "    my_data = np.array([pair[1] for pair in data])\n",
    "    my_labels = np.array([str(pair[0]) for pair in data])\n",
    "\n",
    "    # filter out low counts for visualization purposes\n",
    "    if filter_data:\n",
    "        idx = my_data > 1000\n",
    "        my_data = my_data[idx]\n",
    "        my_labels = my_labels[idx]\n",
    "\n",
    "    # plot frequency distribution of all chords from all songs\n",
    "    %matplotlib inline\n",
    "    plt.figure(figsize=(12,6))\n",
    "    plt.bar(\n",
    "        x = range(len(my_data)),\n",
    "        height = my_data\n",
    "    );\n",
    "    plt.xticks(\n",
    "        ticks=range(len(my_data)),\n",
    "        labels=my_labels,\n",
    "        rotation='vertical'\n",
    "    )"
   ]
  },
  {
   "cell_type": "markdown",
   "metadata": {},
   "source": [
    "#### CHORD AND QUALITY"
   ]
  },
  {
   "cell_type": "code",
   "execution_count": 8,
   "metadata": {},
   "outputs": [
    {
     "name": "stdout",
     "output_type": "stream",
     "text": [
      "[((0, 'maj'), 27265), ((5, 'maj'), 15807), ((7, 'maj'), 10087), ((0, 'min'), 8343), ((9, 'min'), 5204), ((10, 'maj'), 4580), ((2, 'min'), 4575), ((7, '7'), 4327), ((0, '7'), 3814), ((8, 'maj'), 2855)]\n"
     ]
    },
    {
     "data": {
      "image/png": "[encoded data removed]",
      "text/plain": [
       "<Figure size 864x432 with 1 Axes>"
      ]
     },
     "metadata": {
      "needs_background": "light"
     },
     "output_type": "display_data"
    }
   ],
   "source": [
    "# plot chord and quality\n",
    "plot_bar(cq_sort,filter_data=True)\n",
    "plt.title(\"Frequency of common chords in the McGill Billboard database\")\n",
    "plt.xlabel(\"chord+quality\")\n",
    "plt.ylabel(\"frequency\")\n",
    "# print out top 10 chord+quality by count\n",
    "print(cq_sort[0:10])"
   ]
  },
  {
   "cell_type": "markdown",
   "metadata": {},
   "source": [
    "#### CHORD ONLY"
   ]
  },
  {
   "cell_type": "code",
   "execution_count": 9,
   "metadata": {},
   "outputs": [
    {
     "name": "stdout",
     "output_type": "stream",
     "text": [
      "[(0, 42440), (5, 20280), (7, 18341), (2, 7006), (9, 6810), (10, 5778), (4, 3641), (8, 3362), (3, 2603), (1, 765), (6, 653), (11, 628)]\n"
     ]
    },
    {
     "data": {
      "image/png": "[encoded data removed]",
      "text/plain": [
       "<Figure size 864x432 with 1 Axes>"
      ]
     },
     "metadata": {
      "needs_background": "light"
     },
     "output_type": "display_data"
    }
   ],
   "source": [
    "plot_bar(chord_sort)\n",
    "plt.title(\"Frequency of common chords in the McGill Billboard database\")\n",
    "plt.xlabel(\"chord\")\n",
    "plt.ylabel(\"frequency\")\n",
    "print(chord_sort)"
   ]
  },
  {
   "cell_type": "markdown",
   "metadata": {},
   "source": [
    "#### QUALITY ONLY"
   ]
  },
  {
   "cell_type": "code",
   "execution_count": 10,
   "metadata": {},
   "outputs": [
    {
     "name": "stdout",
     "output_type": "stream",
     "text": [
      "[('maj', 66578), ('min', 24564), ('7', 11782), ('sus', 3736), ('5', 2580), ('1', 2362), ('dim', 510), ('aug', 195)]\n"
     ]
    },
    {
     "data": {
      "image/png": "[encoded data removed]",
      "text/plain": [
       "<Figure size 864x432 with 1 Axes>"
      ]
     },
     "metadata": {
      "needs_background": "light"
     },
     "output_type": "display_data"
    }
   ],
   "source": [
    "plot_bar(quality_sort)\n",
    "plt.title(\"Frequency of common qualities in the McGill Billboard database\")\n",
    "plt.xlabel(\"quality\")\n",
    "plt.ylabel(\"frequency\")\n",
    "print(quality_sort)"
   ]
  },
  {
   "cell_type": "markdown",
   "metadata": {},
   "source": [
    "## Add chord sequence features to pandas dataframe"
   ]
  },
  {
   "cell_type": "code",
   "execution_count": 11,
   "metadata": {
    "scrolled": true
   },
   "outputs": [
    {
     "name": "stdout",
     "output_type": "stream",
     "text": [
      "line 0 done\n",
      "line 100 done\n",
      "line 200 done\n",
      "line 300 done\n",
      "line 400 done\n",
      "line 500 done\n",
      "line 600 done\n",
      "line 700 done\n",
      "line 800 done\n",
      "Time elapsed: 215.93103623390198\n"
     ]
    }
   ],
   "source": [
    "start = time.time() # start time\n",
    "\n",
    "# instantiate feature dataframe for all songs\n",
    "df_features = pd.DataFrame()\n",
    "# iterate over all song chord progressions\n",
    "for idx, song_seq in enumerate(song_seq_all):\n",
    "    # if dict not empty\n",
    "    if song_seq:\n",
    "        # initialize row\n",
    "        df_row = pd.DataFrame()\n",
    "        # iterate over all key/value pairs\n",
    "        for kv in song_seq.items():\n",
    "            # populate dataframe\n",
    "            df_row.loc[0,str(kv[0])] = kv[1]\n",
    "        # concatentate df_features\n",
    "        df_features = df_features.append(\n",
    "            other=df_row,\n",
    "            ignore_index=True,\n",
    "            sort=True\n",
    "        )\n",
    "    else:\n",
    "        df_features = df_features.append(pd.Series(),ignore_index=True)\n",
    "    # print statement\n",
    "    if not np.mod(idx,100):\n",
    "        print(\"line \" + str(idx) + \" done\")\n",
    "        \n",
    "end = time.time() # end time\n",
    "print(\"Time elapsed: \" + str(end - start)) # time elapsed\n",
    "\n",
    "# fill NaN values with 0\n",
    "df_features = df_features.fillna(value=0)"
   ]
  },
  {
   "cell_type": "markdown",
   "metadata": {},
   "source": [
    "#### Show head of dataframe"
   ]
  },
  {
   "cell_type": "code",
   "execution_count": 12,
   "metadata": {},
   "outputs": [
    {
     "data": {
      "text/html": [
       "<div>\n",
       "<style scoped>\n",
       "    .dataframe tbody tr th:only-of-type {\n",
       "        vertical-align: middle;\n",
       "    }\n",
       "\n",
       "    .dataframe tbody tr th {\n",
       "        vertical-align: top;\n",
       "    }\n",
       "\n",
       "    .dataframe thead th {\n",
       "        text-align: right;\n",
       "    }\n",
       "</style>\n",
       "<table border=\"1\" class=\"dataframe\">\n",
       "  <thead>\n",
       "    <tr style=\"text-align: right;\">\n",
       "      <th></th>\n",
       "      <th>((0, '1'), (0, '5'))</th>\n",
       "      <th>((0, '1'), (0, '5'), (0, '1'))</th>\n",
       "      <th>((0, '1'), (0, '5'), (0, '1'), (0, '5'))</th>\n",
       "      <th>((0, '1'), (0, '5'), (0, '1'), (5, '1'))</th>\n",
       "      <th>((0, '1'), (0, '5'), (0, '1'), (5, 'maj'))</th>\n",
       "      <th>((0, '1'), (0, '5'), (0, 'min'))</th>\n",
       "      <th>((0, '1'), (0, '5'), (0, 'min'), (7, 'min'))</th>\n",
       "      <th>((0, '1'), (0, '5'), (0, 'min'), (8, 'maj'))</th>\n",
       "      <th>((0, '1'), (0, '5'), (3, 'maj'))</th>\n",
       "      <th>((0, '1'), (0, '5'), (3, 'maj'), (10, 'maj'))</th>\n",
       "      <th>...</th>\n",
       "      <th>((9, 'sus'), (9, 'min'), (4, 'min'))</th>\n",
       "      <th>((9, 'sus'), (9, 'min'), (4, 'min'), (7, 'sus'))</th>\n",
       "      <th>((9, 'sus'), (9, 'min'), (4, 'sus'))</th>\n",
       "      <th>((9, 'sus'), (9, 'min'), (4, 'sus'), (9, 'sus'))</th>\n",
       "      <th>((9, 'sus'), (9, 'min'), (5, 'sus'))</th>\n",
       "      <th>((9, 'sus'), (9, 'min'), (5, 'sus'), (5, 'maj'))</th>\n",
       "      <th>((9, 'sus'), (9, 'min'), (7, 'maj'))</th>\n",
       "      <th>((9, 'sus'), (9, 'min'), (7, 'maj'), (5, '5'))</th>\n",
       "      <th>((9, 'sus'), (9, 'min'), (9, 'sus'))</th>\n",
       "      <th>((9, 'sus'), (9, 'min'), (9, 'sus'), (9, 'min'))</th>\n",
       "    </tr>\n",
       "  </thead>\n",
       "  <tbody>\n",
       "    <tr>\n",
       "      <th>0</th>\n",
       "      <td>0.0</td>\n",
       "      <td>0.0</td>\n",
       "      <td>0.0</td>\n",
       "      <td>0.0</td>\n",
       "      <td>0.0</td>\n",
       "      <td>0.0</td>\n",
       "      <td>0.0</td>\n",
       "      <td>0.0</td>\n",
       "      <td>0.0</td>\n",
       "      <td>0.0</td>\n",
       "      <td>...</td>\n",
       "      <td>0.0</td>\n",
       "      <td>0.0</td>\n",
       "      <td>0.0</td>\n",
       "      <td>0.0</td>\n",
       "      <td>0.0</td>\n",
       "      <td>0.0</td>\n",
       "      <td>0.0</td>\n",
       "      <td>0.0</td>\n",
       "      <td>0.0</td>\n",
       "      <td>0.0</td>\n",
       "    </tr>\n",
       "    <tr>\n",
       "      <th>1</th>\n",
       "      <td>0.0</td>\n",
       "      <td>0.0</td>\n",
       "      <td>0.0</td>\n",
       "      <td>0.0</td>\n",
       "      <td>0.0</td>\n",
       "      <td>0.0</td>\n",
       "      <td>0.0</td>\n",
       "      <td>0.0</td>\n",
       "      <td>0.0</td>\n",
       "      <td>0.0</td>\n",
       "      <td>...</td>\n",
       "      <td>0.0</td>\n",
       "      <td>0.0</td>\n",
       "      <td>0.0</td>\n",
       "      <td>0.0</td>\n",
       "      <td>0.0</td>\n",
       "      <td>0.0</td>\n",
       "      <td>0.0</td>\n",
       "      <td>0.0</td>\n",
       "      <td>0.0</td>\n",
       "      <td>0.0</td>\n",
       "    </tr>\n",
       "    <tr>\n",
       "      <th>2</th>\n",
       "      <td>0.0</td>\n",
       "      <td>0.0</td>\n",
       "      <td>0.0</td>\n",
       "      <td>0.0</td>\n",
       "      <td>0.0</td>\n",
       "      <td>0.0</td>\n",
       "      <td>0.0</td>\n",
       "      <td>0.0</td>\n",
       "      <td>0.0</td>\n",
       "      <td>0.0</td>\n",
       "      <td>...</td>\n",
       "      <td>0.0</td>\n",
       "      <td>0.0</td>\n",
       "      <td>0.0</td>\n",
       "      <td>0.0</td>\n",
       "      <td>0.0</td>\n",
       "      <td>0.0</td>\n",
       "      <td>0.0</td>\n",
       "      <td>0.0</td>\n",
       "      <td>0.0</td>\n",
       "      <td>0.0</td>\n",
       "    </tr>\n",
       "    <tr>\n",
       "      <th>3</th>\n",
       "      <td>0.0</td>\n",
       "      <td>0.0</td>\n",
       "      <td>0.0</td>\n",
       "      <td>0.0</td>\n",
       "      <td>0.0</td>\n",
       "      <td>0.0</td>\n",
       "      <td>0.0</td>\n",
       "      <td>0.0</td>\n",
       "      <td>0.0</td>\n",
       "      <td>0.0</td>\n",
       "      <td>...</td>\n",
       "      <td>0.0</td>\n",
       "      <td>0.0</td>\n",
       "      <td>0.0</td>\n",
       "      <td>0.0</td>\n",
       "      <td>0.0</td>\n",
       "      <td>0.0</td>\n",
       "      <td>0.0</td>\n",
       "      <td>0.0</td>\n",
       "      <td>0.0</td>\n",
       "      <td>0.0</td>\n",
       "    </tr>\n",
       "    <tr>\n",
       "      <th>4</th>\n",
       "      <td>0.0</td>\n",
       "      <td>0.0</td>\n",
       "      <td>0.0</td>\n",
       "      <td>0.0</td>\n",
       "      <td>0.0</td>\n",
       "      <td>0.0</td>\n",
       "      <td>0.0</td>\n",
       "      <td>0.0</td>\n",
       "      <td>0.0</td>\n",
       "      <td>0.0</td>\n",
       "      <td>...</td>\n",
       "      <td>0.0</td>\n",
       "      <td>0.0</td>\n",
       "      <td>0.0</td>\n",
       "      <td>0.0</td>\n",
       "      <td>0.0</td>\n",
       "      <td>0.0</td>\n",
       "      <td>0.0</td>\n",
       "      <td>0.0</td>\n",
       "      <td>0.0</td>\n",
       "      <td>0.0</td>\n",
       "    </tr>\n",
       "  </tbody>\n",
       "</table>\n",
       "<p>5 rows × 17385 columns</p>\n",
       "</div>"
      ],
      "text/plain": [
       "   ((0, '1'), (0, '5'))  ((0, '1'), (0, '5'), (0, '1'))  \\\n",
       "0                   0.0                             0.0   \n",
       "1                   0.0                             0.0   \n",
       "2                   0.0                             0.0   \n",
       "3                   0.0                             0.0   \n",
       "4                   0.0                             0.0   \n",
       "\n",
       "   ((0, '1'), (0, '5'), (0, '1'), (0, '5'))  \\\n",
       "0                                       0.0   \n",
       "1                                       0.0   \n",
       "2                                       0.0   \n",
       "3                                       0.0   \n",
       "4                                       0.0   \n",
       "\n",
       "   ((0, '1'), (0, '5'), (0, '1'), (5, '1'))  \\\n",
       "0                                       0.0   \n",
       "1                                       0.0   \n",
       "2                                       0.0   \n",
       "3                                       0.0   \n",
       "4                                       0.0   \n",
       "\n",
       "   ((0, '1'), (0, '5'), (0, '1'), (5, 'maj'))  \\\n",
       "0                                         0.0   \n",
       "1                                         0.0   \n",
       "2                                         0.0   \n",
       "3                                         0.0   \n",
       "4                                         0.0   \n",
       "\n",
       "   ((0, '1'), (0, '5'), (0, 'min'))  \\\n",
       "0                               0.0   \n",
       "1                               0.0   \n",
       "2                               0.0   \n",
       "3                               0.0   \n",
       "4                               0.0   \n",
       "\n",
       "   ((0, '1'), (0, '5'), (0, 'min'), (7, 'min'))  \\\n",
       "0                                           0.0   \n",
       "1                                           0.0   \n",
       "2                                           0.0   \n",
       "3                                           0.0   \n",
       "4                                           0.0   \n",
       "\n",
       "   ((0, '1'), (0, '5'), (0, 'min'), (8, 'maj'))  \\\n",
       "0                                           0.0   \n",
       "1                                           0.0   \n",
       "2                                           0.0   \n",
       "3                                           0.0   \n",
       "4                                           0.0   \n",
       "\n",
       "   ((0, '1'), (0, '5'), (3, 'maj'))  \\\n",
       "0                               0.0   \n",
       "1                               0.0   \n",
       "2                               0.0   \n",
       "3                               0.0   \n",
       "4                               0.0   \n",
       "\n",
       "   ((0, '1'), (0, '5'), (3, 'maj'), (10, 'maj'))  ...  \\\n",
       "0                                            0.0  ...   \n",
       "1                                            0.0  ...   \n",
       "2                                            0.0  ...   \n",
       "3                                            0.0  ...   \n",
       "4                                            0.0  ...   \n",
       "\n",
       "   ((9, 'sus'), (9, 'min'), (4, 'min'))  \\\n",
       "0                                   0.0   \n",
       "1                                   0.0   \n",
       "2                                   0.0   \n",
       "3                                   0.0   \n",
       "4                                   0.0   \n",
       "\n",
       "   ((9, 'sus'), (9, 'min'), (4, 'min'), (7, 'sus'))  \\\n",
       "0                                               0.0   \n",
       "1                                               0.0   \n",
       "2                                               0.0   \n",
       "3                                               0.0   \n",
       "4                                               0.0   \n",
       "\n",
       "   ((9, 'sus'), (9, 'min'), (4, 'sus'))  \\\n",
       "0                                   0.0   \n",
       "1                                   0.0   \n",
       "2                                   0.0   \n",
       "3                                   0.0   \n",
       "4                                   0.0   \n",
       "\n",
       "   ((9, 'sus'), (9, 'min'), (4, 'sus'), (9, 'sus'))  \\\n",
       "0                                               0.0   \n",
       "1                                               0.0   \n",
       "2                                               0.0   \n",
       "3                                               0.0   \n",
       "4                                               0.0   \n",
       "\n",
       "   ((9, 'sus'), (9, 'min'), (5, 'sus'))  \\\n",
       "0                                   0.0   \n",
       "1                                   0.0   \n",
       "2                                   0.0   \n",
       "3                                   0.0   \n",
       "4                                   0.0   \n",
       "\n",
       "   ((9, 'sus'), (9, 'min'), (5, 'sus'), (5, 'maj'))  \\\n",
       "0                                               0.0   \n",
       "1                                               0.0   \n",
       "2                                               0.0   \n",
       "3                                               0.0   \n",
       "4                                               0.0   \n",
       "\n",
       "   ((9, 'sus'), (9, 'min'), (7, 'maj'))  \\\n",
       "0                                   0.0   \n",
       "1                                   0.0   \n",
       "2                                   0.0   \n",
       "3                                   0.0   \n",
       "4                                   0.0   \n",
       "\n",
       "   ((9, 'sus'), (9, 'min'), (7, 'maj'), (5, '5'))  \\\n",
       "0                                             0.0   \n",
       "1                                             0.0   \n",
       "2                                             0.0   \n",
       "3                                             0.0   \n",
       "4                                             0.0   \n",
       "\n",
       "   ((9, 'sus'), (9, 'min'), (9, 'sus'))  \\\n",
       "0                                   0.0   \n",
       "1                                   0.0   \n",
       "2                                   0.0   \n",
       "3                                   0.0   \n",
       "4                                   0.0   \n",
       "\n",
       "   ((9, 'sus'), (9, 'min'), (9, 'sus'), (9, 'min'))  \n",
       "0                                               0.0  \n",
       "1                                               0.0  \n",
       "2                                               0.0  \n",
       "3                                               0.0  \n",
       "4                                               0.0  \n",
       "\n",
       "[5 rows x 17385 columns]"
      ]
     },
     "execution_count": 12,
     "metadata": {},
     "output_type": "execute_result"
    }
   ],
   "source": [
    "df_features.head()"
   ]
  },
  {
   "cell_type": "markdown",
   "metadata": {},
   "source": [
    "*large number of features relative to observations, very sparse matrix, \"curse of dimensionality\"; use PCA for feature reduction*"
   ]
  },
  {
   "cell_type": "markdown",
   "metadata": {},
   "source": [
    "## Prepare data for machine learning modeling"
   ]
  },
  {
   "cell_type": "code",
   "execution_count": 13,
   "metadata": {},
   "outputs": [],
   "source": [
    "# import modules from sci-kit learn\n",
    "from sklearn.model_selection import train_test_split, KFold, cross_validate, GridSearchCV\n",
    "from sklearn.metrics import r2_score, make_scorer\n",
    "from sklearn.decomposition import PCA\n",
    "\n",
    "from sklearn.linear_model import LinearRegression\n",
    "from sklearn.neighbors import KNeighborsRegressor, KNeighborsClassifier\n",
    "from sklearn.ensemble import RandomForestRegressor, RandomForestClassifier, AdaBoostClassifier"
   ]
  },
  {
   "cell_type": "markdown",
   "metadata": {},
   "source": [
    "#### Principal Component Analysis (PCA) for feature reduction"
   ]
  },
  {
   "cell_type": "code",
   "execution_count": 14,
   "metadata": {},
   "outputs": [
    {
     "data": {
      "text/html": [
       "<div>\n",
       "<style scoped>\n",
       "    .dataframe tbody tr th:only-of-type {\n",
       "        vertical-align: middle;\n",
       "    }\n",
       "\n",
       "    .dataframe tbody tr th {\n",
       "        vertical-align: top;\n",
       "    }\n",
       "\n",
       "    .dataframe thead th {\n",
       "        text-align: right;\n",
       "    }\n",
       "</style>\n",
       "<table border=\"1\" class=\"dataframe\">\n",
       "  <thead>\n",
       "    <tr style=\"text-align: right;\">\n",
       "      <th></th>\n",
       "      <th>pc1</th>\n",
       "      <th>pc2</th>\n",
       "      <th>pc3</th>\n",
       "      <th>pc4</th>\n",
       "      <th>pc5</th>\n",
       "      <th>pc6</th>\n",
       "      <th>pc7</th>\n",
       "      <th>pc8</th>\n",
       "      <th>pc9</th>\n",
       "      <th>pc10</th>\n",
       "      <th>...</th>\n",
       "      <th>pc91</th>\n",
       "      <th>pc92</th>\n",
       "      <th>pc93</th>\n",
       "      <th>pc94</th>\n",
       "      <th>pc95</th>\n",
       "      <th>pc96</th>\n",
       "      <th>pc97</th>\n",
       "      <th>pc98</th>\n",
       "      <th>pc99</th>\n",
       "      <th>pc100</th>\n",
       "    </tr>\n",
       "  </thead>\n",
       "  <tbody>\n",
       "    <tr>\n",
       "      <th>0</th>\n",
       "      <td>-9.093352</td>\n",
       "      <td>-1.350986</td>\n",
       "      <td>-2.623216</td>\n",
       "      <td>0.722676</td>\n",
       "      <td>-3.839284</td>\n",
       "      <td>-3.840706</td>\n",
       "      <td>6.223640</td>\n",
       "      <td>-1.921357</td>\n",
       "      <td>-2.355094</td>\n",
       "      <td>2.221748</td>\n",
       "      <td>...</td>\n",
       "      <td>0.781831</td>\n",
       "      <td>-0.563220</td>\n",
       "      <td>1.149402</td>\n",
       "      <td>1.272618</td>\n",
       "      <td>1.259887</td>\n",
       "      <td>0.969779</td>\n",
       "      <td>-0.634160</td>\n",
       "      <td>0.757036</td>\n",
       "      <td>0.793513</td>\n",
       "      <td>1.000973</td>\n",
       "    </tr>\n",
       "    <tr>\n",
       "      <th>1</th>\n",
       "      <td>4.246911</td>\n",
       "      <td>-8.630045</td>\n",
       "      <td>-4.961612</td>\n",
       "      <td>1.306482</td>\n",
       "      <td>-2.620418</td>\n",
       "      <td>-1.018285</td>\n",
       "      <td>-1.612583</td>\n",
       "      <td>0.824390</td>\n",
       "      <td>-1.045952</td>\n",
       "      <td>-1.259222</td>\n",
       "      <td>...</td>\n",
       "      <td>0.277620</td>\n",
       "      <td>1.101739</td>\n",
       "      <td>0.329138</td>\n",
       "      <td>1.067141</td>\n",
       "      <td>-0.202373</td>\n",
       "      <td>0.016567</td>\n",
       "      <td>-0.889864</td>\n",
       "      <td>1.295130</td>\n",
       "      <td>-0.351192</td>\n",
       "      <td>0.168253</td>\n",
       "    </tr>\n",
       "    <tr>\n",
       "      <th>2</th>\n",
       "      <td>-2.980933</td>\n",
       "      <td>17.920002</td>\n",
       "      <td>3.301077</td>\n",
       "      <td>-8.379465</td>\n",
       "      <td>1.637305</td>\n",
       "      <td>-0.826605</td>\n",
       "      <td>-1.302264</td>\n",
       "      <td>8.298878</td>\n",
       "      <td>-3.397143</td>\n",
       "      <td>-0.561753</td>\n",
       "      <td>...</td>\n",
       "      <td>-0.441193</td>\n",
       "      <td>-0.866607</td>\n",
       "      <td>-0.517672</td>\n",
       "      <td>0.887001</td>\n",
       "      <td>1.131820</td>\n",
       "      <td>0.912774</td>\n",
       "      <td>1.190491</td>\n",
       "      <td>0.198496</td>\n",
       "      <td>0.312256</td>\n",
       "      <td>-0.743954</td>\n",
       "    </tr>\n",
       "    <tr>\n",
       "      <th>3</th>\n",
       "      <td>20.526971</td>\n",
       "      <td>21.738587</td>\n",
       "      <td>2.432119</td>\n",
       "      <td>18.884578</td>\n",
       "      <td>-2.996945</td>\n",
       "      <td>12.469314</td>\n",
       "      <td>-0.160976</td>\n",
       "      <td>-2.962386</td>\n",
       "      <td>0.031131</td>\n",
       "      <td>1.972835</td>\n",
       "      <td>...</td>\n",
       "      <td>2.754821</td>\n",
       "      <td>-2.046682</td>\n",
       "      <td>6.020165</td>\n",
       "      <td>-1.855903</td>\n",
       "      <td>2.343836</td>\n",
       "      <td>-2.423776</td>\n",
       "      <td>-3.996358</td>\n",
       "      <td>2.398950</td>\n",
       "      <td>-3.881205</td>\n",
       "      <td>4.614866</td>\n",
       "    </tr>\n",
       "    <tr>\n",
       "      <th>4</th>\n",
       "      <td>5.501799</td>\n",
       "      <td>4.271461</td>\n",
       "      <td>-0.910193</td>\n",
       "      <td>-2.506988</td>\n",
       "      <td>-0.622667</td>\n",
       "      <td>-1.248516</td>\n",
       "      <td>-0.746096</td>\n",
       "      <td>-2.239389</td>\n",
       "      <td>0.458351</td>\n",
       "      <td>-0.163790</td>\n",
       "      <td>...</td>\n",
       "      <td>1.089891</td>\n",
       "      <td>0.404791</td>\n",
       "      <td>-0.826810</td>\n",
       "      <td>-0.948617</td>\n",
       "      <td>1.148749</td>\n",
       "      <td>-2.523614</td>\n",
       "      <td>1.637797</td>\n",
       "      <td>-1.231899</td>\n",
       "      <td>-1.040244</td>\n",
       "      <td>1.688047</td>\n",
       "    </tr>\n",
       "  </tbody>\n",
       "</table>\n",
       "<p>5 rows × 100 columns</p>\n",
       "</div>"
      ],
      "text/plain": [
       "         pc1        pc2       pc3        pc4       pc5        pc6       pc7  \\\n",
       "0  -9.093352  -1.350986 -2.623216   0.722676 -3.839284  -3.840706  6.223640   \n",
       "1   4.246911  -8.630045 -4.961612   1.306482 -2.620418  -1.018285 -1.612583   \n",
       "2  -2.980933  17.920002  3.301077  -8.379465  1.637305  -0.826605 -1.302264   \n",
       "3  20.526971  21.738587  2.432119  18.884578 -2.996945  12.469314 -0.160976   \n",
       "4   5.501799   4.271461 -0.910193  -2.506988 -0.622667  -1.248516 -0.746096   \n",
       "\n",
       "        pc8       pc9      pc10  ...      pc91      pc92      pc93      pc94  \\\n",
       "0 -1.921357 -2.355094  2.221748  ...  0.781831 -0.563220  1.149402  1.272618   \n",
       "1  0.824390 -1.045952 -1.259222  ...  0.277620  1.101739  0.329138  1.067141   \n",
       "2  8.298878 -3.397143 -0.561753  ... -0.441193 -0.866607 -0.517672  0.887001   \n",
       "3 -2.962386  0.031131  1.972835  ...  2.754821 -2.046682  6.020165 -1.855903   \n",
       "4 -2.239389  0.458351 -0.163790  ...  1.089891  0.404791 -0.826810 -0.948617   \n",
       "\n",
       "       pc95      pc96      pc97      pc98      pc99     pc100  \n",
       "0  1.259887  0.969779 -0.634160  0.757036  0.793513  1.000973  \n",
       "1 -0.202373  0.016567 -0.889864  1.295130 -0.351192  0.168253  \n",
       "2  1.131820  0.912774  1.190491  0.198496  0.312256 -0.743954  \n",
       "3  2.343836 -2.423776 -3.996358  2.398950 -3.881205  4.614866  \n",
       "4  1.148749 -2.523614  1.637797 -1.231899 -1.040244  1.688047  \n",
       "\n",
       "[5 rows x 100 columns]"
      ]
     },
     "execution_count": 14,
     "metadata": {},
     "output_type": "execute_result"
    }
   ],
   "source": [
    "# apply PCA to features\n",
    "my_pca = PCA(n_components = 100)\n",
    "\n",
    "# apply PCA on chord progression features\n",
    "pc = my_pca.fit_transform(df_features)\n",
    "\n",
    "# store principal components as dataframe\n",
    "col_names = [\"pc\" + str(idx) for idx in range(1,pc.shape[1]+1)] # get PC names\n",
    "pc_df = pd.DataFrame(data=pc, columns=col_names)                # make dataframe\n",
    "pc_df.head()"
   ]
  },
  {
   "cell_type": "code",
   "execution_count": 15,
   "metadata": {},
   "outputs": [
    {
     "data": {
      "image/png": "[encoded data removed]",
      "text/plain": [
       "<Figure size 864x432 with 1 Axes>"
      ]
     },
     "metadata": {
      "needs_background": "light"
     },
     "output_type": "display_data"
    }
   ],
   "source": [
    "# plot explained variance\n",
    "evr_list = my_pca.explained_variance_ratio_\n",
    "my_data = [(name,evr) for name,evr in zip(col_names,evr_list)]\n",
    "plot_bar(my_data)\n",
    "plt.title(f\"PC Explained Variance (sum={str(np.sum(evr_list))})\");\n",
    "plt.xlabel(\"Principal component\");\n",
    "plt.ylabel(\"Explained variance ratio\");"
   ]
  },
  {
   "cell_type": "code",
   "execution_count": 16,
   "metadata": {},
   "outputs": [],
   "source": [
    "# ----------------- ALL DATA ------------------\n",
    "X_all = pc_df  # PC data\n",
    "actual_rank = songs_meta_filter_df[\"weeks_on_chart\"]  # actual rank (continuous)\n",
    "decade = songs_meta_filter_df[\"decade\"]  # decade (categorical)\n",
    "actual_rank_category = songs_meta_filter_df[\"actual_rank_category\"]  # actual rank category (categorical)"
   ]
  },
  {
   "cell_type": "markdown",
   "metadata": {},
   "source": [
    "## Build regressors to predict chart rank"
   ]
  },
  {
   "cell_type": "markdown",
   "metadata": {},
   "source": [
    "#### MULTIVARIATE LINEAR REGRESSION using original features"
   ]
  },
  {
   "cell_type": "code",
   "execution_count": 17,
   "metadata": {},
   "outputs": [
    {
     "data": {
      "text/html": [
       "<div>\n",
       "<style scoped>\n",
       "    .dataframe tbody tr th:only-of-type {\n",
       "        vertical-align: middle;\n",
       "    }\n",
       "\n",
       "    .dataframe tbody tr th {\n",
       "        vertical-align: top;\n",
       "    }\n",
       "\n",
       "    .dataframe thead th {\n",
       "        text-align: right;\n",
       "    }\n",
       "</style>\n",
       "<table border=\"1\" class=\"dataframe\">\n",
       "  <thead>\n",
       "    <tr style=\"text-align: right;\">\n",
       "      <th></th>\n",
       "      <th>fit_time</th>\n",
       "      <th>score_time</th>\n",
       "      <th>test_score</th>\n",
       "    </tr>\n",
       "  </thead>\n",
       "  <tbody>\n",
       "    <tr>\n",
       "      <th>0</th>\n",
       "      <td>0.050422</td>\n",
       "      <td>0.003258</td>\n",
       "      <td>-0.681327</td>\n",
       "    </tr>\n",
       "    <tr>\n",
       "      <th>1</th>\n",
       "      <td>0.019667</td>\n",
       "      <td>0.002203</td>\n",
       "      <td>-15.606917</td>\n",
       "    </tr>\n",
       "    <tr>\n",
       "      <th>2</th>\n",
       "      <td>0.011309</td>\n",
       "      <td>0.003386</td>\n",
       "      <td>-0.146925</td>\n",
       "    </tr>\n",
       "    <tr>\n",
       "      <th>3</th>\n",
       "      <td>0.005344</td>\n",
       "      <td>0.001351</td>\n",
       "      <td>-1.526708</td>\n",
       "    </tr>\n",
       "    <tr>\n",
       "      <th>4</th>\n",
       "      <td>0.006257</td>\n",
       "      <td>0.001371</td>\n",
       "      <td>-1.151918</td>\n",
       "    </tr>\n",
       "    <tr>\n",
       "      <th>5</th>\n",
       "      <td>0.005387</td>\n",
       "      <td>0.001396</td>\n",
       "      <td>-1.167251</td>\n",
       "    </tr>\n",
       "    <tr>\n",
       "      <th>6</th>\n",
       "      <td>0.008759</td>\n",
       "      <td>0.001190</td>\n",
       "      <td>0.024606</td>\n",
       "    </tr>\n",
       "    <tr>\n",
       "      <th>7</th>\n",
       "      <td>0.005661</td>\n",
       "      <td>0.001317</td>\n",
       "      <td>-2.340304</td>\n",
       "    </tr>\n",
       "    <tr>\n",
       "      <th>8</th>\n",
       "      <td>0.006609</td>\n",
       "      <td>0.002232</td>\n",
       "      <td>-1.614642</td>\n",
       "    </tr>\n",
       "    <tr>\n",
       "      <th>9</th>\n",
       "      <td>0.006870</td>\n",
       "      <td>0.001359</td>\n",
       "      <td>-0.137229</td>\n",
       "    </tr>\n",
       "  </tbody>\n",
       "</table>\n",
       "</div>"
      ],
      "text/plain": [
       "   fit_time  score_time  test_score\n",
       "0  0.050422    0.003258   -0.681327\n",
       "1  0.019667    0.002203  -15.606917\n",
       "2  0.011309    0.003386   -0.146925\n",
       "3  0.005344    0.001351   -1.526708\n",
       "4  0.006257    0.001371   -1.151918\n",
       "5  0.005387    0.001396   -1.167251\n",
       "6  0.008759    0.001190    0.024606\n",
       "7  0.005661    0.001317   -2.340304\n",
       "8  0.006609    0.002232   -1.614642\n",
       "9  0.006870    0.001359   -0.137229"
      ]
     },
     "execution_count": 17,
     "metadata": {},
     "output_type": "execute_result"
    }
   ],
   "source": [
    "# instantiate a KFold instance\n",
    "kf = KFold(n_splits=10, shuffle=True,random_state=10)\n",
    "# instantiate a linear regression instance\n",
    "lr = LinearRegression()\n",
    "# perform cross-validation using linear regression on original chord sequence data\n",
    "cv_lr = cross_validate(\n",
    "    estimator=lr,\n",
    "    X=X_all, y=actual_rank,\n",
    "    cv=kf,\n",
    "    scoring=make_scorer(r2_score)\n",
    ")\n",
    "cv_lr_df = pd.DataFrame(cv_lr)\n",
    "cv_lr_df"
   ]
  },
  {
   "cell_type": "markdown",
   "metadata": {},
   "source": [
    "#### K-NEAREST NEIGHBOR REGRESSOR"
   ]
  },
  {
   "cell_type": "code",
   "execution_count": 18,
   "metadata": {},
   "outputs": [
    {
     "data": {
      "image/png": "[encoded data removed]",
      "text/plain": [
       "<Figure size 432x288 with 1 Axes>"
      ]
     },
     "metadata": {
      "needs_background": "light"
     },
     "output_type": "display_data"
    }
   ],
   "source": [
    "# Create kf instance \n",
    "kf = KFold(n_splits=10, shuffle=True, random_state=42)\n",
    "# Create knn instance \n",
    "knn = KNeighborsRegressor()\n",
    "# Create grid search instance \n",
    "gscv = GridSearchCV(knn, {\"n_neighbors\": range(1, 20)}, cv=kf, n_jobs=-1)\n",
    "gscv.fit(X_all, actual_rank)\n",
    "# Get cross-validation data\n",
    "cv_df = pd.DataFrame(gscv.cv_results_)\n",
    "# Plot results of grid search\n",
    "cv_df.plot.line(x=\"param_n_neighbors\", y=\"mean_test_score\");\n",
    "plt.title(\"KNN grid search over n_neighbors\");\n",
    "plt.ylabel(\"R^2\");"
   ]
  },
  {
   "cell_type": "markdown",
   "metadata": {},
   "source": [
    "#### RANDOM FOREST REGRESSOR"
   ]
  },
  {
   "cell_type": "code",
   "execution_count": 19,
   "metadata": {},
   "outputs": [
    {
     "data": {
      "image/png": "[encoded data removed]",
      "text/plain": [
       "<Figure size 432x288 with 1 Axes>"
      ]
     },
     "metadata": {
      "needs_background": "light"
     },
     "output_type": "display_data"
    }
   ],
   "source": [
    "# Create kf instance\n",
    "kf = KFold(n_splits=10, shuffle=True, random_state=42)\n",
    "# Create rf instance\n",
    "rf = RandomForestRegressor(n_estimators=20)\n",
    "# Create grid search instance\n",
    "gscv = GridSearchCV(rf,{\"max_depth\": range(100,1001,100)},cv=kf, n_jobs=-1)\n",
    "# Run grid search\n",
    "gscv.fit(X_all, actual_rank)\n",
    "# Get cross-validation data\n",
    "cv_df = pd.DataFrame(gscv.cv_results_)\n",
    "# Plot results of grid search\n",
    "cv_df.plot.line(x=\"param_max_depth\", y=\"mean_test_score\");\n",
    "plt.title(\"Random forest grid search over max_depth\");\n",
    "plt.ylabel(\"R^2\");\n",
    "\n",
    "# # Create a heatmap-style table\n",
    "# pivoted_df = cv_df.pivot(index=\"param_max_depth\",\n",
    "#            columns=\"param_n_estimators\",\n",
    "#            values=\"mean_test_score\").round(3)\n",
    "# pivoted_df.style.background_gradient(\n",
    "#     cmap=\"nipy_spectral\",\n",
    "#     axis=None\n",
    "# )"
   ]
  },
  {
   "cell_type": "markdown",
   "metadata": {},
   "source": [
    "## Build classifiers to predict chart rank category and decade"
   ]
  },
  {
   "cell_type": "markdown",
   "metadata": {},
   "source": [
    "#### K-NEAREST NEIGHBOR CLASSIFIER"
   ]
  },
  {
   "cell_type": "code",
   "execution_count": 20,
   "metadata": {},
   "outputs": [
    {
     "data": {
      "image/png": "[encoded data removed]",
      "text/plain": [
       "<Figure size 432x288 with 1 Axes>"
      ]
     },
     "metadata": {
      "needs_background": "light"
     },
     "output_type": "display_data"
    }
   ],
   "source": [
    "# -------------------- DECADE --------------------\n",
    "# Create kf instance \n",
    "kf = KFold(n_splits=10, shuffle=True, random_state=42)\n",
    "# Create knn instance \n",
    "knn = KNeighborsClassifier()\n",
    "# Create grid search instance \n",
    "gscv = GridSearchCV(knn, {\"n_neighbors\": range(1, 20)}, cv=kf, n_jobs=-1)\n",
    "gscv.fit(X_all, decade)\n",
    "# Get cross-validation data\n",
    "cv_df = pd.DataFrame(gscv.cv_results_)\n",
    "# Plot results\n",
    "cv_df.plot.line(x=\"param_n_neighbors\", y=\"mean_test_score\");\n",
    "plt.title(\"KNN grid search over n_neighbors, decade\");\n",
    "plt.ylabel(\"R^2\");"
   ]
  },
  {
   "cell_type": "code",
   "execution_count": 21,
   "metadata": {},
   "outputs": [
    {
     "data": {
      "image/png": "[encoded data removed]",
      "text/plain": [
       "<Figure size 432x288 with 1 Axes>"
      ]
     },
     "metadata": {
      "needs_background": "light"
     },
     "output_type": "display_data"
    }
   ],
   "source": [
    "# -------------------- ACTUAL_RANK_CATEGORY --------------------\n",
    "# Create kf instance \n",
    "kf = KFold(n_splits=10, shuffle=True, random_state=42)\n",
    "# Create knn instance \n",
    "knn = KNeighborsClassifier()\n",
    "# Create grid search instance \n",
    "gscv = GridSearchCV(knn, {\"n_neighbors\": range(1, 20)}, cv=kf, n_jobs=-1)\n",
    "gscv.fit(X_all, actual_rank_category)\n",
    "# Get cross-validation data\n",
    "cv_df = pd.DataFrame(gscv.cv_results_)\n",
    "# Plot results\n",
    "cv_df.plot.line(x=\"param_n_neighbors\", y=\"mean_test_score\");\n",
    "plt.title(\"KNN grid search over n_neighbors, actual_rank_category\");\n",
    "plt.ylabel(\"R^2\");"
   ]
  },
  {
   "cell_type": "markdown",
   "metadata": {},
   "source": [
    "#### RANDOM FOREST CLASSIFIER"
   ]
  },
  {
   "cell_type": "code",
   "execution_count": 22,
   "metadata": {},
   "outputs": [
    {
     "data": {
      "image/png": "[encoded data removed]",
      "text/plain": [
       "<Figure size 432x288 with 1 Axes>"
      ]
     },
     "metadata": {
      "needs_background": "light"
     },
     "output_type": "display_data"
    }
   ],
   "source": [
    "# -------------------- DECADE --------------------\n",
    "# Create kf instance \n",
    "kf = KFold(n_splits=10, shuffle=True, random_state=42)\n",
    "# Create rf instance \n",
    "rf = RandomForestClassifier(n_estimators=20)\n",
    "# Create grid search instance\n",
    "gscv = GridSearchCV(rf, {\"max_depth\": range(1,21)}, cv=kf, n_jobs=-1)\n",
    "gscv.fit(X_all, decade)\n",
    "# Get cross-validation data\n",
    "cv_df = pd.DataFrame(gscv.cv_results_)\n",
    "# Get k values versus mean_test_scores\n",
    "cv_df.plot.line(x=\"param_max_depth\", y=\"mean_test_score\");\n",
    "plt.title(\"Random forest grid search over max_depth, decade\");\n",
    "plt.ylabel(\"R^2\");"
   ]
  },
  {
   "cell_type": "code",
   "execution_count": 23,
   "metadata": {},
   "outputs": [
    {
     "data": {
      "image/png": "[encoded data removed]",
      "text/plain": [
       "<Figure size 432x288 with 1 Axes>"
      ]
     },
     "metadata": {
      "needs_background": "light"
     },
     "output_type": "display_data"
    }
   ],
   "source": [
    "# -------------------- ACTUAL_RANK_CATEGORY --------------------\n",
    "# Create kf instance \n",
    "kf = KFold(n_splits=10, shuffle=True, random_state=42)\n",
    "# Create rf instance \n",
    "rf = RandomForestClassifier(n_estimators=20)\n",
    "# Create grid search instance\n",
    "gscv = GridSearchCV(rf, {\"max_depth\": range(1,21)}, cv=kf, n_jobs=-1)\n",
    "gscv.fit(X_all, actual_rank_category)\n",
    "# Get cross-validation data\n",
    "cv_df = pd.DataFrame(gscv.cv_results_)\n",
    "# Get k values versus mean_test_scores\n",
    "cv_df.plot.line(x=\"param_max_depth\", y=\"mean_test_score\");\n",
    "plt.title(\"Random forest grid search over max_depth, actual_rank_cateogry\");\n",
    "plt.ylabel(\"R^2\");"
   ]
  },
  {
   "cell_type": "markdown",
   "metadata": {},
   "source": [
    "#### ADABOOST CLASSIFIER (using default decision tree classifier as base)"
   ]
  },
  {
   "cell_type": "code",
   "execution_count": 24,
   "metadata": {},
   "outputs": [
    {
     "data": {
      "image/png": "[encoded data removed]",
      "text/plain": [
       "<Figure size 432x288 with 1 Axes>"
      ]
     },
     "metadata": {
      "needs_background": "light"
     },
     "output_type": "display_data"
    }
   ],
   "source": [
    "# -------------------- DECADE --------------------\n",
    "# Create kf instance \n",
    "kf = KFold(n_splits=10, shuffle=True, random_state=42)\n",
    "# Create rf instance \n",
    "ada = AdaBoostClassifier(n_estimators=20)\n",
    "# Create grid search instance\n",
    "gscv = GridSearchCV(ada, {\"n_estimators\": range(1,21)}, cv=kf, n_jobs=-1)\n",
    "gscv.fit(X_all, decade)\n",
    "# Get cross-validation data\n",
    "cv_df = pd.DataFrame(gscv.cv_results_)\n",
    "# Get k values versus mean_test_scores\n",
    "cv_df.plot.line(x=\"param_n_estimators\", y=\"mean_test_score\");\n",
    "plt.title(\"AdaBoost grid search over n_estimators, decade\");\n",
    "plt.ylabel(\"R^2\");"
   ]
  },
  {
   "cell_type": "code",
   "execution_count": 25,
   "metadata": {},
   "outputs": [
    {
     "data": {
      "image/png": "[encoded data removed]",
      "text/plain": [
       "<Figure size 432x288 with 1 Axes>"
      ]
     },
     "metadata": {
      "needs_background": "light"
     },
     "output_type": "display_data"
    }
   ],
   "source": [
    "# -------------------- ACTUAL_RANK_CATEGORY --------------------\n",
    "# Create kf instance \n",
    "kf = KFold(n_splits=10, shuffle=True, random_state=42)\n",
    "# Create rf instance \n",
    "ada = AdaBoostClassifier(n_estimators=20)\n",
    "# Create grid search instance\n",
    "gscv = GridSearchCV(ada, {\"n_estimators\": range(1,21)}, cv=kf, n_jobs=-1)\n",
    "gscv.fit(X_all, actual_rank_category)\n",
    "# Get cross-validation data\n",
    "cv_df = pd.DataFrame(gscv.cv_results_)\n",
    "# Get k values versus mean_test_scores\n",
    "cv_df.plot.line(x=\"param_n_estimators\", y=\"mean_test_score\");\n",
    "plt.title(\"AdaBoost grid search over n_estimators, actual_rank_category\");\n",
    "plt.ylabel(\"R^2\");"
   ]
  },
  {
   "cell_type": "markdown",
   "metadata": {},
   "source": [
    "Potential problems with analysis:\n",
    "- more features (1365) than observations (890)\n",
    "- feature matrix was very sparse (a result of songs only containing a handful of unique chord sequences out of all possibilities, and not having many sequences in common with other songs)\n",
    "\n",
    "Improvements:\n",
    "- better feature extraction and feature reduction techniques\n",
    "\n",
    "Future questions to address:\n",
    "- can you predict a song's rank with the amount of repeated chords? or homogeneity of its chord structure?"
   ]
  }
 ],
 "metadata": {
  "kernelspec": {
   "display_name": "Python 3",
   "language": "python",
   "name": "python3"
  },
  "language_info": {
   "codemirror_mode": {
    "name": "ipython",
    "version": 3
   },
   "file_extension": ".py",
   "mimetype": "text/x-python",
   "name": "python",
   "nbconvert_exporter": "python",
   "pygments_lexer": "ipython3",
   "version": "3.6.9"
  }
 },
 "nbformat": 4,
 "nbformat_minor": 4
}
