{
 "cells": [
  {
   "cell_type": "markdown",
   "metadata": {},
   "source": [
    "## TODO"
   ]
  },
  {
   "cell_type": "markdown",
   "metadata": {},
   "source": [
    "- use number of unique chords as regressors/features"
   ]
  },
  {
   "cell_type": "markdown",
   "metadata": {},
   "source": [
    "*introduction to dataset, problem statement*\n",
    "\n",
    "*show an example of a data text file, and the process of how this is parsed*\n",
    "\n",
    "*show the reduced form of the text file (the parsing output)*"
   ]
  },
  {
   "cell_type": "markdown",
   "metadata": {},
   "source": [
    "## Import modules"
   ]
  },
  {
   "cell_type": "code",
   "execution_count": 1,
   "metadata": {},
   "outputs": [],
   "source": [
    "import numpy as np\n",
    "import pandas as pd\n",
    "import os.path\n",
    "import time\n",
    "import seaborn as sns\n",
    "import matplotlib.pyplot as plt\n",
    "from collections import Counter"
   ]
  },
  {
   "cell_type": "markdown",
   "metadata": {},
   "source": [
    "## Define global variables"
   ]
  },
  {
   "cell_type": "code",
   "execution_count": 17,
   "metadata": {},
   "outputs": [],
   "source": [
    "# dictionary of chord (key) to numeral (value)\n",
    "CHORD_DICT = {\n",
    "    'A':0,\n",
    "    'A#':1,\n",
    "    'Bb':1,\n",
    "    'B':2,\n",
    "    'Cb':2,\n",
    "    'C':3,\n",
    "    'C#':4,\n",
    "    'Db':4,\n",
    "    'D':5,\n",
    "    'D#':6,\n",
    "    'Eb':6,\n",
    "    'E':7,\n",
    "    'Fb':7,\n",
    "    'F':8,\n",
    "    'F#':9,\n",
    "    'Gb':8,\n",
    "    'G':10,\n",
    "    'G#':11,\n",
    "    'Ab':11,\n",
    "}\n",
    "\n",
    "# dictionary of quality to simplified quality\n",
    "QUALITY_DICT = {\n",
    "    'min7':'min',\n",
    "    'sus4':'sus',\n",
    "    'maj7':'maj',\n",
    "    'maj6':'maj',\n",
    "    'min9':'min',\n",
    "    'maj9':'maj',\n",
    "    '9':'7',\n",
    "    '11':'7',\n",
    "    'sus2':'sus',\n",
    "    '13':'7',\n",
    "    'min6':'min',\n",
    "    'min11':'min',\n",
    "    'hdim7':'dim',\n",
    "    'maj13':'maj',\n",
    "    'dim7':'dim',\n",
    "    'minmaj7':'min',\n",
    "    'min13':'min'\n",
    "}\n",
    "\n",
    "# absolute path to McGill Billboard data\n",
    "MCGILL_PATH = os.path.expanduser(\"~\") + \"/biof509/final-project/data/McGill-Billboard\"\n",
    "\n",
    "# bool to indicate whether to simplify quality of chords\n",
    "QUALITY_SIMPLIFY = True\n",
    "\n",
    "# bool to indicate whether to normalize data based on the total number of sequences of a\n",
    "#   certain length found in a song (reflective of the size of a song)\n",
    "NORM = False\n",
    "\n",
    "# list of sequence lengths to search for\n",
    "SEQ_LEN_LIST = [1]\n",
    "\n",
    "# number of chart rank categories to bin into\n",
    "NUM_CATEGORIES = 5"
   ]
  },
  {
   "cell_type": "markdown",
   "metadata": {},
   "source": [
    "## Define Functions"
   ]
  },
  {
   "cell_type": "code",
   "execution_count": 3,
   "metadata": {},
   "outputs": [],
   "source": [
    "def parse_data(path):\n",
    "    \"\"\"\n",
    "    Funtion parse_data parses text file provided from the McGill Billboard\n",
    "    project and returns two lists of lists containing a sequence of chords\n",
    "    and their qualities respectively\n",
    "    -----------------------\n",
    "    Input\n",
    "        path: string containing absolute path to text file to parse\n",
    "    \n",
    "    Output\n",
    "        chords: list of lists; each inner list corresponds to a chord sequence\n",
    "            in an individual line of the song, and contains 2-element tuples\n",
    "            that give the relative chord numeral and its quality\n",
    "    \"\"\"\n",
    "    # initialize global list\n",
    "    chords = []\n",
    "    # iterate over every line\n",
    "    for line in open(path):\n",
    "        # set new tonic, if applicable\n",
    "        if \"# tonic:\" in line:\n",
    "            tonic = line.rsplit(\" \")[-1][:-1]\n",
    "        # initialize line-specific lists\n",
    "        chords_line = []\n",
    "        # split bars (separated by \"|\")\n",
    "        bars = line.rsplit(\"|\")[1:-1]\n",
    "        # iterate over bars\n",
    "        for bar in bars:\n",
    "            # split chords+quality (separated by space)\n",
    "            cqs = bar.rsplit(\" \")[1:-1]\n",
    "            # iterate over chords+quality\n",
    "            for cq in cqs:\n",
    "                # check for existence of \":\"\n",
    "                if \":\" in cq:\n",
    "                    # get chord and convert to relative numeral\n",
    "                    c = convert_numeral(cq.rsplit(\":\")[0],tonic)\n",
    "                    # get quality\n",
    "                    q = cq.rsplit(\":\")[-1]\n",
    "                    if QUALITY_SIMPLIFY:\n",
    "                        q = q.split(\"(\")[0]\n",
    "                        q = q.split(\"/\")[0]\n",
    "                        if q in QUALITY_DICT.keys():\n",
    "                            q = QUALITY_DICT[q]\n",
    "                    # append to line list as tuple\n",
    "                    chords_line.append((c,q))\n",
    "        # append line list to global list (ignore empty lines)\n",
    "        if chords_line:\n",
    "            chords.append(chords_line)\n",
    "\n",
    "    return chords\n",
    "\n",
    "def reduce_song(chords):\n",
    "    \"\"\"\n",
    "    Function reduce_song takes in the output of parse_data as input, and outputs a reduced chord\n",
    "    stored in a single list, with repeated chords removed\n",
    "    \n",
    "    -----------------------\n",
    "    Input\n",
    "        chords: list of lists; each inner list corresponds to a chord sequence\n",
    "            in an individual line of the song, and contains 2-element tuples\n",
    "            that give the relative chord numeral and its quality (outputed by parse_data\n",
    "    \n",
    "    Output\n",
    "        chords_reduced: list; reduced form of chords stored in a single list and with repeated chords removed\n",
    "    \"\"\"\n",
    "    # initialize reduced chord sequence list\n",
    "    chords_reduced = []\n",
    "    # keep track of previous chord in iteration\n",
    "    chord_prev = ()\n",
    "    # iterate over lines\n",
    "    for line in chords:\n",
    "        # iterate over chords in line\n",
    "        for chord in line:\n",
    "            # check if repeated chord\n",
    "            if chord == chord_prev:\n",
    "                pass\n",
    "            else:\n",
    "                chords_reduced.append(chord)\n",
    "                chord_prev = chord\n",
    "    \n",
    "    return chords_reduced\n",
    "\n",
    "def get_chord_seq(chords_reduced,seq_len):\n",
    "    \"\"\"\n",
    "    Function get_chord_seq parses through a song's chord structure and returns a\n",
    "    dictionary, with keys representing chord sequences in nested tuples, and values\n",
    "    representing the counts of each chord sequence found in a particular song.\n",
    "    User can specify the length of chord sequence to search for\n",
    "    \n",
    "    -----------------------\n",
    "    Input\n",
    "        chords_reduced: list containing a song's reduced chord structure (outputed by reduce_song)\n",
    "        seq_len: int specifying the length of chord sequence to search for\n",
    "    \n",
    "    Output\n",
    "        seq_dict: dict containing specific chord sequences as keys and the counts of\n",
    "            each sequence found within the song as values\n",
    "    \"\"\"\n",
    "    # initialize dict\n",
    "    seq_dict = {}\n",
    "    # raster over sequences and store in dict\n",
    "    for i in range(len(chords_reduced) - seq_len + 1):\n",
    "        seq = tuple(chords_reduced[i:(i+seq_len)]) # get sequence as tuple\n",
    "        if seq in seq_dict:\n",
    "            seq_dict[seq] += 1\n",
    "        else:\n",
    "            seq_dict[seq] = 1\n",
    "    \n",
    "    return seq_dict\n",
    "\n",
    "def convert_numeral(chord,tonic):\n",
    "    \"\"\"\n",
    "    Function convert_numeral converts a chord (string) into a\n",
    "    numeric representation (int) that is relative to the tonic key (string)\n",
    "    \n",
    "    For example, if chord = \"F\" and tonic = \"Bb\", then the output would be\n",
    "    the integer 7\n",
    "    -----------------------\n",
    "    Input\n",
    "        chord: string of the chord to be converted to a numeral\n",
    "        tonic: string of the tonic key\n",
    "    Output\n",
    "        numeral: int representation of \"chord\"\n",
    "    \"\"\"\n",
    "    numeral = CHORD_DICT[chord] - CHORD_DICT[tonic]\n",
    "    if numeral < 0:\n",
    "        return numeral + 12\n",
    "    else:\n",
    "        return numeral\n",
    "\n",
    "def get_decade(d):\n",
    "    \"\"\"\n",
    "    Function get_decade returns a string representing the decade of an input date (also\n",
    "    string); for example, if '1968-03-01' is inputed, then the output would be '1960'\n",
    "    \n",
    "    -----------------------\n",
    "    Input\n",
    "        d: string, input date in the format 'yyyy-mm-dd'\n",
    "    \n",
    "    Output\n",
    "        decade: string, output decade\n",
    "    \"\"\"\n",
    "    # remove substring past first \"-\"\n",
    "    y = float(d.split(\"-\")[0])\n",
    "    \n",
    "    # round to the nearest decade\n",
    "    decade = str(int(10*np.floor(y/10)))\n",
    "    \n",
    "    return decade"
   ]
  },
  {
   "cell_type": "markdown",
   "metadata": {},
   "source": [
    "## Example of data parsing pipeline"
   ]
  },
  {
   "cell_type": "markdown",
   "metadata": {},
   "source": [
    "## Load in CSV file of metadata"
   ]
  },
  {
   "cell_type": "code",
   "execution_count": 18,
   "metadata": {},
   "outputs": [],
   "source": [
    "# load CSV\n",
    "songs_meta_df = pd.read_csv(\"data/billboard-2.0-index.csv\");\n",
    "\n",
    "# filter out rows that have NaN in the \"actual_rank\" column\n",
    "songs_meta_filter_df = songs_meta_df[songs_meta_df.actual_rank.notnull()].copy().reset_index()\n",
    "\n",
    "# get song indices\n",
    "song_id = songs_meta_filter_df.id.values\n",
    "\n",
    "# get decade and append new column\n",
    "dates = songs_meta_filter_df.chart_date\n",
    "decade = [get_decade(date) for date in dates]\n",
    "decade_ser = pd.Series(decade, name=\"decade\")\n",
    "songs_meta_filter_df = songs_meta_filter_df.join(decade_ser)\n",
    "\n",
    "# get chart rank category and append new column\n",
    "rank_bin = np.digitize(x = songs_meta_filter_df[\"actual_rank\"], bins = np.linspace(0,100,NUM_CATEGORIES+1))\n",
    "rank_bin_ser = pd.Series(rank_bin, name=\"actual_rank_category\")\n",
    "songs_meta_filter_df = songs_meta_filter_df.join(rank_bin_ser)"
   ]
  },
  {
   "cell_type": "markdown",
   "metadata": {},
   "source": [
    "*show the metadata in more detail*\n",
    "\n",
    "*show example of the raw data, along with the parsed data*"
   ]
  },
  {
   "cell_type": "markdown",
   "metadata": {},
   "source": [
    "## Parse all text files and extract chord sequence data"
   ]
  },
  {
   "cell_type": "code",
   "execution_count": 23,
   "metadata": {},
   "outputs": [],
   "source": [
    "# initialize dicts to keep track of global counts\n",
    "num_cq = {}\n",
    "num_chord = {}\n",
    "num_quality = {}\n",
    "\n",
    "# initialize list of dicts to keep track of song chord sequences\n",
    "song_seq_all = []"
   ]
  },
  {
   "cell_type": "code",
   "execution_count": 24,
   "metadata": {},
   "outputs": [],
   "source": [
    "# iterate through all songs\n",
    "for song in song_id:\n",
    "    # parse song\n",
    "    chords = parse_data(MCGILL_PATH + f\"/{str(song).zfill(4)}/salami_chords.txt\")\n",
    "    # reduce song chord sequence\n",
    "    chords_reduced = reduce_song(chords)\n",
    "    \n",
    "    # -------- EXTRACT SONG-SPECIFIC CHORD SEQUENCES --------\n",
    "    # initialize song chord sequence dict\n",
    "    song_seq = {}\n",
    "    \n",
    "    # iterate over different sequence lengths, add to song_seq\n",
    "    for seq_len in SEQ_LEN_LIST:\n",
    "        # get dict of chord sequence counts for sequences of length seq_len\n",
    "        dict_temp = get_chord_seq(chords_reduced,seq_len)\n",
    "        # add to total count of sequences of all lengths\n",
    "        song_seq.update(dict_temp)\n",
    "    \n",
    "    # append song_seq to song_seq_all\n",
    "    song_seq_all.append(song_seq)\n",
    "    \n",
    "    # ----------------- FIND GLOBAL COUNTS ------------------\n",
    "    # iterate through lines in a song\n",
    "    for line in chords:\n",
    "        # iterate through individual chords\n",
    "        for chord in line:\n",
    "            # populate dicts\n",
    "            if chord in num_cq:\n",
    "                num_cq[chord] += 1\n",
    "            else:\n",
    "                num_cq[chord] = 1\n",
    "            \n",
    "            if chord[0] in num_chord:\n",
    "                num_chord[chord[0]] += 1\n",
    "            else:\n",
    "                num_chord[chord[0]] = 1\n",
    "            \n",
    "            if chord[1] in num_quality:\n",
    "                num_quality[chord[1]] += 1\n",
    "            else:\n",
    "                num_quality[chord[1]] = 1\n",
    "\n",
    "# sort key-value pairs by values\n",
    "cq_sort = sorted(num_cq.items(), key = lambda kv: kv[1], reverse=True)\n",
    "quality_sort = sorted(num_quality.items(), key = lambda kv: kv[1], reverse=True)\n",
    "chord_sort = sorted(num_chord.items(), key = lambda kv: kv[1], reverse=True)\n",
    "\n",
    "# get counts of all unique chord sequences\n",
    "seq_total_count = Counter({})\n",
    "for song in song_seq_all:\n",
    "    seq_total_count = seq_total_count + Counter(song)"
   ]
  },
  {
   "cell_type": "markdown",
   "metadata": {},
   "source": [
    "*show an example of the whole chord sequence of a song*\n",
    "\n",
    "*show how this is reduced to a single list with repeated chords removed*"
   ]
  },
  {
   "cell_type": "markdown",
   "metadata": {},
   "source": [
    "### Plot overall distributions"
   ]
  },
  {
   "cell_type": "code",
   "execution_count": 45,
   "metadata": {},
   "outputs": [],
   "source": [
    "def plot_bar(data,filter_data=False):\n",
    "    \"\"\"\n",
    "    Function plot_bar plots a bar plot of a pair list of items and counts stored in input \"data\"\n",
    "    NOTE: filters out items that have a count less than 1000\n",
    "    \"\"\"\n",
    "    # get counts and labels in separate np arrays\n",
    "    my_data = np.array([pair[1] for pair in data])\n",
    "    my_labels = np.array([str(pair[0]) for pair in data])\n",
    "\n",
    "    # filter out low counts for visualization purposes\n",
    "    if filter_data:\n",
    "        idx = my_data > 1000\n",
    "        my_data = my_data[idx]\n",
    "        my_labels = my_labels[idx]\n",
    "\n",
    "    # plot frequency distribution of all chords from all songs\n",
    "    %matplotlib inline\n",
    "    plt.figure(figsize=(12,6))\n",
    "    plt.bar(\n",
    "        x = range(len(my_data)),\n",
    "        height = my_data\n",
    "    );\n",
    "    plt.xticks(\n",
    "        ticks=range(len(my_data)),\n",
    "        labels=my_labels,\n",
    "        rotation='vertical'\n",
    "    )"
   ]
  },
  {
   "cell_type": "markdown",
   "metadata": {},
   "source": [
    "#### CHORD AND QUALITY"
   ]
  },
  {
   "cell_type": "code",
   "execution_count": 48,
   "metadata": {},
   "outputs": [
    {
     "name": "stdout",
     "output_type": "stream",
     "text": [
      "[((0, 'maj'), 27265), ((5, 'maj'), 15807), ((7, 'maj'), 10087), ((0, 'min'), 8343), ((9, 'min'), 5204), ((10, 'maj'), 4580), ((2, 'min'), 4575), ((7, '7'), 4327), ((0, '7'), 3814), ((8, 'maj'), 2855)]\n"
     ]
    },
    {
     "data": {
      "image/png": "[encoded data removed]",
      "text/plain": [
       "<Figure size 864x432 with 1 Axes>"
      ]
     },
     "metadata": {
      "needs_background": "light"
     },
     "output_type": "display_data"
    }
   ],
   "source": [
    "# plot chord and quality\n",
    "plot_bar(cq_sort,filter_data=True)\n",
    "plt.title(\"Frequency of common chords in the McGill Billboard database\")\n",
    "plt.xlabel(\"chord+quality\")\n",
    "plt.ylabel(\"frequency\")\n",
    "# print out top 10 chord+quality by count\n",
    "print(cq_sort[0:10])"
   ]
  },
  {
   "cell_type": "markdown",
   "metadata": {},
   "source": [
    "#### CHORD ONLY"
   ]
  },
  {
   "cell_type": "code",
   "execution_count": 49,
   "metadata": {},
   "outputs": [
    {
     "name": "stdout",
     "output_type": "stream",
     "text": [
      "[(0, 42440), (5, 20280), (7, 18341), (2, 7006), (9, 6810), (10, 5778), (4, 3641), (8, 3362), (3, 2603), (1, 765), (6, 653), (11, 628)]\n"
     ]
    },
    {
     "data": {
      "image/png": "[encoded data removed]",
      "text/plain": [
       "<Figure size 864x432 with 1 Axes>"
      ]
     },
     "metadata": {
      "needs_background": "light"
     },
     "output_type": "display_data"
    }
   ],
   "source": [
    "plot_bar(chord_sort)\n",
    "plt.title(\"Frequency of common chords in the McGill Billboard database\")\n",
    "plt.xlabel(\"chord\")\n",
    "plt.ylabel(\"frequency\")\n",
    "print(chord_sort)"
   ]
  },
  {
   "cell_type": "markdown",
   "metadata": {},
   "source": [
    "#### QUALITY ONLY"
   ]
  },
  {
   "cell_type": "code",
   "execution_count": 50,
   "metadata": {},
   "outputs": [
    {
     "name": "stdout",
     "output_type": "stream",
     "text": [
      "[('maj', 66578), ('min', 24564), ('7', 11782), ('sus', 3736), ('5', 2580), ('1', 2362), ('dim', 510), ('aug', 195)]\n"
     ]
    },
    {
     "data": {
      "image/png": "[encoded data removed]",
      "text/plain": [
       "<Figure size 864x432 with 1 Axes>"
      ]
     },
     "metadata": {
      "needs_background": "light"
     },
     "output_type": "display_data"
    }
   ],
   "source": [
    "plot_bar(quality_sort)\n",
    "plt.title(\"Frequency of common qualities in the McGill Billboard database\")\n",
    "plt.xlabel(\"quality\")\n",
    "plt.ylabel(\"frequency\")\n",
    "print(quality_sort)"
   ]
  },
  {
   "cell_type": "markdown",
   "metadata": {},
   "source": [
    "## Add chord sequence features to pandas dataframe"
   ]
  },
  {
   "cell_type": "code",
   "execution_count": 11,
   "metadata": {
    "scrolled": true
   },
   "outputs": [
    {
     "name": "stdout",
     "output_type": "stream",
     "text": [
      "line 0 done\n",
      "line 100 done\n",
      "line 200 done\n",
      "line 300 done\n",
      "line 400 done\n",
      "line 500 done\n",
      "line 600 done\n",
      "line 700 done\n",
      "line 800 done\n",
      "Time elapsed: 191.57593274116516\n"
     ]
    }
   ],
   "source": [
    "start = time.time() # start time\n",
    "\n",
    "# instantiate feature dataframe for all songs\n",
    "df_features = pd.DataFrame()\n",
    "# iterate over all song chord progressions\n",
    "for idx, song_seq in enumerate(song_seq_all):\n",
    "    # if dict not empty\n",
    "    if song_seq:\n",
    "        # initialize row\n",
    "        df_row = pd.DataFrame()\n",
    "        # iterate over all key/value pairs\n",
    "        for kv in song_seq.items():\n",
    "            # populate dataframe\n",
    "            df_row.loc[0,str(kv[0])] = kv[1]\n",
    "        # concatentate df_features\n",
    "        df_features = df_features.append(\n",
    "            other=df_row,\n",
    "            ignore_index=True,\n",
    "            sort=True\n",
    "        )\n",
    "    else:\n",
    "        df_features = df_features.append(pd.Series(),ignore_index=True)\n",
    "    # print statement\n",
    "    if not np.mod(idx,100):\n",
    "        print(\"line \" + str(idx) + \" done\")\n",
    "        \n",
    "end = time.time() # end time\n",
    "print(\"Time elapsed: \" + str(end - start)) # time elapsed\n",
    "\n",
    "# fill NaN values with 0\n",
    "df_features = df_features.fillna(value=0)"
   ]
  },
  {
   "cell_type": "markdown",
   "metadata": {},
   "source": [
    "#### Show head of dataframe"
   ]
  },
  {
   "cell_type": "code",
   "execution_count": 12,
   "metadata": {},
   "outputs": [
    {
     "data": {
      "text/html": [
       "<div>\n",
       "<style scoped>\n",
       "    .dataframe tbody tr th:only-of-type {\n",
       "        vertical-align: middle;\n",
       "    }\n",
       "\n",
       "    .dataframe tbody tr th {\n",
       "        vertical-align: top;\n",
       "    }\n",
       "\n",
       "    .dataframe thead th {\n",
       "        text-align: right;\n",
       "    }\n",
       "</style>\n",
       "<table border=\"1\" class=\"dataframe\">\n",
       "  <thead>\n",
       "    <tr style=\"text-align: right;\">\n",
       "      <th></th>\n",
       "      <th>((0, '1'), (0, '5'))</th>\n",
       "      <th>((0, '1'), (0, '5'), (0, '1'))</th>\n",
       "      <th>((0, '1'), (0, '5'), (0, '1'), (0, '5'))</th>\n",
       "      <th>((0, '1'), (0, '5'), (0, '1'), (5, '1'))</th>\n",
       "      <th>((0, '1'), (0, '5'), (0, '1'), (5, 'maj'))</th>\n",
       "      <th>((0, '1'), (0, '5'), (0, 'min'))</th>\n",
       "      <th>((0, '1'), (0, '5'), (0, 'min'), (7, 'min'))</th>\n",
       "      <th>((0, '1'), (0, '5'), (0, 'min'), (8, 'maj'))</th>\n",
       "      <th>((0, '1'), (0, '5'), (3, 'maj'))</th>\n",
       "      <th>((0, '1'), (0, '5'), (3, 'maj'), (10, 'maj'))</th>\n",
       "      <th>...</th>\n",
       "      <th>((9, 'sus'), (9, 'min'), (4, 'min'))</th>\n",
       "      <th>((9, 'sus'), (9, 'min'), (4, 'min'), (7, 'sus'))</th>\n",
       "      <th>((9, 'sus'), (9, 'min'), (4, 'sus'))</th>\n",
       "      <th>((9, 'sus'), (9, 'min'), (4, 'sus'), (9, 'sus'))</th>\n",
       "      <th>((9, 'sus'), (9, 'min'), (5, 'sus'))</th>\n",
       "      <th>((9, 'sus'), (9, 'min'), (5, 'sus'), (5, 'maj'))</th>\n",
       "      <th>((9, 'sus'), (9, 'min'), (7, 'maj'))</th>\n",
       "      <th>((9, 'sus'), (9, 'min'), (7, 'maj'), (5, '5'))</th>\n",
       "      <th>((9, 'sus'), (9, 'min'), (9, 'sus'))</th>\n",
       "      <th>((9, 'sus'), (9, 'min'), (9, 'sus'), (9, 'min'))</th>\n",
       "    </tr>\n",
       "  </thead>\n",
       "  <tbody>\n",
       "    <tr>\n",
       "      <th>0</th>\n",
       "      <td>0.0</td>\n",
       "      <td>0.0</td>\n",
       "      <td>0.0</td>\n",
       "      <td>0.0</td>\n",
       "      <td>0.0</td>\n",
       "      <td>0.0</td>\n",
       "      <td>0.0</td>\n",
       "      <td>0.0</td>\n",
       "      <td>0.0</td>\n",
       "      <td>0.0</td>\n",
       "      <td>...</td>\n",
       "      <td>0.0</td>\n",
       "      <td>0.0</td>\n",
       "      <td>0.0</td>\n",
       "      <td>0.0</td>\n",
       "      <td>0.0</td>\n",
       "      <td>0.0</td>\n",
       "      <td>0.0</td>\n",
       "      <td>0.0</td>\n",
       "      <td>0.0</td>\n",
       "      <td>0.0</td>\n",
       "    </tr>\n",
       "    <tr>\n",
       "      <th>1</th>\n",
       "      <td>0.0</td>\n",
       "      <td>0.0</td>\n",
       "      <td>0.0</td>\n",
       "      <td>0.0</td>\n",
       "      <td>0.0</td>\n",
       "      <td>0.0</td>\n",
       "      <td>0.0</td>\n",
       "      <td>0.0</td>\n",
       "      <td>0.0</td>\n",
       "      <td>0.0</td>\n",
       "      <td>...</td>\n",
       "      <td>0.0</td>\n",
       "      <td>0.0</td>\n",
       "      <td>0.0</td>\n",
       "      <td>0.0</td>\n",
       "      <td>0.0</td>\n",
       "      <td>0.0</td>\n",
       "      <td>0.0</td>\n",
       "      <td>0.0</td>\n",
       "      <td>0.0</td>\n",
       "      <td>0.0</td>\n",
       "    </tr>\n",
       "    <tr>\n",
       "      <th>2</th>\n",
       "      <td>0.0</td>\n",
       "      <td>0.0</td>\n",
       "      <td>0.0</td>\n",
       "      <td>0.0</td>\n",
       "      <td>0.0</td>\n",
       "      <td>0.0</td>\n",
       "      <td>0.0</td>\n",
       "      <td>0.0</td>\n",
       "      <td>0.0</td>\n",
       "      <td>0.0</td>\n",
       "      <td>...</td>\n",
       "      <td>0.0</td>\n",
       "      <td>0.0</td>\n",
       "      <td>0.0</td>\n",
       "      <td>0.0</td>\n",
       "      <td>0.0</td>\n",
       "      <td>0.0</td>\n",
       "      <td>0.0</td>\n",
       "      <td>0.0</td>\n",
       "      <td>0.0</td>\n",
       "      <td>0.0</td>\n",
       "    </tr>\n",
       "    <tr>\n",
       "      <th>3</th>\n",
       "      <td>0.0</td>\n",
       "      <td>0.0</td>\n",
       "      <td>0.0</td>\n",
       "      <td>0.0</td>\n",
       "      <td>0.0</td>\n",
       "      <td>0.0</td>\n",
       "      <td>0.0</td>\n",
       "      <td>0.0</td>\n",
       "      <td>0.0</td>\n",
       "      <td>0.0</td>\n",
       "      <td>...</td>\n",
       "      <td>0.0</td>\n",
       "      <td>0.0</td>\n",
       "      <td>0.0</td>\n",
       "      <td>0.0</td>\n",
       "      <td>0.0</td>\n",
       "      <td>0.0</td>\n",
       "      <td>0.0</td>\n",
       "      <td>0.0</td>\n",
       "      <td>0.0</td>\n",
       "      <td>0.0</td>\n",
       "    </tr>\n",
       "    <tr>\n",
       "      <th>4</th>\n",
       "      <td>0.0</td>\n",
       "      <td>0.0</td>\n",
       "      <td>0.0</td>\n",
       "      <td>0.0</td>\n",
       "      <td>0.0</td>\n",
       "      <td>0.0</td>\n",
       "      <td>0.0</td>\n",
       "      <td>0.0</td>\n",
       "      <td>0.0</td>\n",
       "      <td>0.0</td>\n",
       "      <td>...</td>\n",
       "      <td>0.0</td>\n",
       "      <td>0.0</td>\n",
       "      <td>0.0</td>\n",
       "      <td>0.0</td>\n",
       "      <td>0.0</td>\n",
       "      <td>0.0</td>\n",
       "      <td>0.0</td>\n",
       "      <td>0.0</td>\n",
       "      <td>0.0</td>\n",
       "      <td>0.0</td>\n",
       "    </tr>\n",
       "  </tbody>\n",
       "</table>\n",
       "<p>5 rows × 17385 columns</p>\n",
       "</div>"
      ],
      "text/plain": [
       "   ((0, '1'), (0, '5'))  ((0, '1'), (0, '5'), (0, '1'))  \\\n",
       "0                   0.0                             0.0   \n",
       "1                   0.0                             0.0   \n",
       "2                   0.0                             0.0   \n",
       "3                   0.0                             0.0   \n",
       "4                   0.0                             0.0   \n",
       "\n",
       "   ((0, '1'), (0, '5'), (0, '1'), (0, '5'))  \\\n",
       "0                                       0.0   \n",
       "1                                       0.0   \n",
       "2                                       0.0   \n",
       "3                                       0.0   \n",
       "4                                       0.0   \n",
       "\n",
       "   ((0, '1'), (0, '5'), (0, '1'), (5, '1'))  \\\n",
       "0                                       0.0   \n",
       "1                                       0.0   \n",
       "2                                       0.0   \n",
       "3                                       0.0   \n",
       "4                                       0.0   \n",
       "\n",
       "   ((0, '1'), (0, '5'), (0, '1'), (5, 'maj'))  \\\n",
       "0                                         0.0   \n",
       "1                                         0.0   \n",
       "2                                         0.0   \n",
       "3                                         0.0   \n",
       "4                                         0.0   \n",
       "\n",
       "   ((0, '1'), (0, '5'), (0, 'min'))  \\\n",
       "0                               0.0   \n",
       "1                               0.0   \n",
       "2                               0.0   \n",
       "3                               0.0   \n",
       "4                               0.0   \n",
       "\n",
       "   ((0, '1'), (0, '5'), (0, 'min'), (7, 'min'))  \\\n",
       "0                                           0.0   \n",
       "1                                           0.0   \n",
       "2                                           0.0   \n",
       "3                                           0.0   \n",
       "4                                           0.0   \n",
       "\n",
       "   ((0, '1'), (0, '5'), (0, 'min'), (8, 'maj'))  \\\n",
       "0                                           0.0   \n",
       "1                                           0.0   \n",
       "2                                           0.0   \n",
       "3                                           0.0   \n",
       "4                                           0.0   \n",
       "\n",
       "   ((0, '1'), (0, '5'), (3, 'maj'))  \\\n",
       "0                               0.0   \n",
       "1                               0.0   \n",
       "2                               0.0   \n",
       "3                               0.0   \n",
       "4                               0.0   \n",
       "\n",
       "   ((0, '1'), (0, '5'), (3, 'maj'), (10, 'maj'))  ...  \\\n",
       "0                                            0.0  ...   \n",
       "1                                            0.0  ...   \n",
       "2                                            0.0  ...   \n",
       "3                                            0.0  ...   \n",
       "4                                            0.0  ...   \n",
       "\n",
       "   ((9, 'sus'), (9, 'min'), (4, 'min'))  \\\n",
       "0                                   0.0   \n",
       "1                                   0.0   \n",
       "2                                   0.0   \n",
       "3                                   0.0   \n",
       "4                                   0.0   \n",
       "\n",
       "   ((9, 'sus'), (9, 'min'), (4, 'min'), (7, 'sus'))  \\\n",
       "0                                               0.0   \n",
       "1                                               0.0   \n",
       "2                                               0.0   \n",
       "3                                               0.0   \n",
       "4                                               0.0   \n",
       "\n",
       "   ((9, 'sus'), (9, 'min'), (4, 'sus'))  \\\n",
       "0                                   0.0   \n",
       "1                                   0.0   \n",
       "2                                   0.0   \n",
       "3                                   0.0   \n",
       "4                                   0.0   \n",
       "\n",
       "   ((9, 'sus'), (9, 'min'), (4, 'sus'), (9, 'sus'))  \\\n",
       "0                                               0.0   \n",
       "1                                               0.0   \n",
       "2                                               0.0   \n",
       "3                                               0.0   \n",
       "4                                               0.0   \n",
       "\n",
       "   ((9, 'sus'), (9, 'min'), (5, 'sus'))  \\\n",
       "0                                   0.0   \n",
       "1                                   0.0   \n",
       "2                                   0.0   \n",
       "3                                   0.0   \n",
       "4                                   0.0   \n",
       "\n",
       "   ((9, 'sus'), (9, 'min'), (5, 'sus'), (5, 'maj'))  \\\n",
       "0                                               0.0   \n",
       "1                                               0.0   \n",
       "2                                               0.0   \n",
       "3                                               0.0   \n",
       "4                                               0.0   \n",
       "\n",
       "   ((9, 'sus'), (9, 'min'), (7, 'maj'))  \\\n",
       "0                                   0.0   \n",
       "1                                   0.0   \n",
       "2                                   0.0   \n",
       "3                                   0.0   \n",
       "4                                   0.0   \n",
       "\n",
       "   ((9, 'sus'), (9, 'min'), (7, 'maj'), (5, '5'))  \\\n",
       "0                                             0.0   \n",
       "1                                             0.0   \n",
       "2                                             0.0   \n",
       "3                                             0.0   \n",
       "4                                             0.0   \n",
       "\n",
       "   ((9, 'sus'), (9, 'min'), (9, 'sus'))  \\\n",
       "0                                   0.0   \n",
       "1                                   0.0   \n",
       "2                                   0.0   \n",
       "3                                   0.0   \n",
       "4                                   0.0   \n",
       "\n",
       "   ((9, 'sus'), (9, 'min'), (9, 'sus'), (9, 'min'))  \n",
       "0                                               0.0  \n",
       "1                                               0.0  \n",
       "2                                               0.0  \n",
       "3                                               0.0  \n",
       "4                                               0.0  \n",
       "\n",
       "[5 rows x 17385 columns]"
      ]
     },
     "execution_count": 12,
     "metadata": {},
     "output_type": "execute_result"
    }
   ],
   "source": [
    "df_features.head()"
   ]
  },
  {
   "cell_type": "markdown",
   "metadata": {},
   "source": [
    "*large number of features relative to observations, very sparse matrix, \"curse of dimensionality\"; use PCA for feature reduction*"
   ]
  },
  {
   "cell_type": "markdown",
   "metadata": {},
   "source": [
    "## Prepare data for machine learning modeling"
   ]
  },
  {
   "cell_type": "code",
   "execution_count": 28,
   "metadata": {},
   "outputs": [],
   "source": [
    "# import modules from sci-kit learn\n",
    "from sklearn.model_selection import train_test_split, KFold, cross_validate, GridSearchCV\n",
    "from sklearn.metrics import r2_score, make_scorer\n",
    "from sklearn.decomposition import PCA\n",
    "\n",
    "from sklearn.linear_model import LinearRegression\n",
    "from sklearn.neighbors import KNeighborsRegressor, KNeighborsClassifier\n",
    "from sklearn.ensemble import RandomForestRegressor, RandomForestClassifier, AdaBoostClassifier"
   ]
  },
  {
   "cell_type": "markdown",
   "metadata": {},
   "source": [
    "#### Principal Component Analysis (PCA) for feature reduction"
   ]
  },
  {
   "cell_type": "code",
   "execution_count": 59,
   "metadata": {},
   "outputs": [
    {
     "data": {
      "text/html": [
       "<div>\n",
       "<style scoped>\n",
       "    .dataframe tbody tr th:only-of-type {\n",
       "        vertical-align: middle;\n",
       "    }\n",
       "\n",
       "    .dataframe tbody tr th {\n",
       "        vertical-align: top;\n",
       "    }\n",
       "\n",
       "    .dataframe thead th {\n",
       "        text-align: right;\n",
       "    }\n",
       "</style>\n",
       "<table border=\"1\" class=\"dataframe\">\n",
       "  <thead>\n",
       "    <tr style=\"text-align: right;\">\n",
       "      <th></th>\n",
       "      <th>pc1</th>\n",
       "      <th>pc2</th>\n",
       "      <th>pc3</th>\n",
       "      <th>pc4</th>\n",
       "      <th>pc5</th>\n",
       "      <th>pc6</th>\n",
       "      <th>pc7</th>\n",
       "      <th>pc8</th>\n",
       "      <th>pc9</th>\n",
       "      <th>pc10</th>\n",
       "      <th>...</th>\n",
       "      <th>pc91</th>\n",
       "      <th>pc92</th>\n",
       "      <th>pc93</th>\n",
       "      <th>pc94</th>\n",
       "      <th>pc95</th>\n",
       "      <th>pc96</th>\n",
       "      <th>pc97</th>\n",
       "      <th>pc98</th>\n",
       "      <th>pc99</th>\n",
       "      <th>pc100</th>\n",
       "    </tr>\n",
       "  </thead>\n",
       "  <tbody>\n",
       "    <tr>\n",
       "      <th>0</th>\n",
       "      <td>-9.093352</td>\n",
       "      <td>-1.350986</td>\n",
       "      <td>-2.623216</td>\n",
       "      <td>0.722677</td>\n",
       "      <td>-3.839283</td>\n",
       "      <td>-3.840705</td>\n",
       "      <td>6.223648</td>\n",
       "      <td>-1.921344</td>\n",
       "      <td>-2.355101</td>\n",
       "      <td>2.221731</td>\n",
       "      <td>...</td>\n",
       "      <td>1.007090</td>\n",
       "      <td>-1.148323</td>\n",
       "      <td>0.793052</td>\n",
       "      <td>-0.522220</td>\n",
       "      <td>-0.665886</td>\n",
       "      <td>0.852045</td>\n",
       "      <td>0.682331</td>\n",
       "      <td>1.206655</td>\n",
       "      <td>0.284954</td>\n",
       "      <td>-0.489369</td>\n",
       "    </tr>\n",
       "    <tr>\n",
       "      <th>1</th>\n",
       "      <td>4.246911</td>\n",
       "      <td>-8.630045</td>\n",
       "      <td>-4.961611</td>\n",
       "      <td>1.306483</td>\n",
       "      <td>-2.620419</td>\n",
       "      <td>-1.018287</td>\n",
       "      <td>-1.612581</td>\n",
       "      <td>0.824411</td>\n",
       "      <td>-1.045965</td>\n",
       "      <td>-1.259221</td>\n",
       "      <td>...</td>\n",
       "      <td>0.781345</td>\n",
       "      <td>-0.161639</td>\n",
       "      <td>-0.290954</td>\n",
       "      <td>-1.207926</td>\n",
       "      <td>-0.383505</td>\n",
       "      <td>0.045482</td>\n",
       "      <td>-1.153342</td>\n",
       "      <td>0.341470</td>\n",
       "      <td>-1.086119</td>\n",
       "      <td>-0.805744</td>\n",
       "    </tr>\n",
       "    <tr>\n",
       "      <th>2</th>\n",
       "      <td>-2.980933</td>\n",
       "      <td>17.920002</td>\n",
       "      <td>3.301077</td>\n",
       "      <td>-8.379466</td>\n",
       "      <td>1.637306</td>\n",
       "      <td>-0.826603</td>\n",
       "      <td>-1.302264</td>\n",
       "      <td>8.298871</td>\n",
       "      <td>-3.397128</td>\n",
       "      <td>-0.561742</td>\n",
       "      <td>...</td>\n",
       "      <td>-0.269644</td>\n",
       "      <td>0.407150</td>\n",
       "      <td>-1.022617</td>\n",
       "      <td>0.251974</td>\n",
       "      <td>1.001830</td>\n",
       "      <td>1.359859</td>\n",
       "      <td>0.289562</td>\n",
       "      <td>0.586801</td>\n",
       "      <td>0.558748</td>\n",
       "      <td>-0.045453</td>\n",
       "    </tr>\n",
       "    <tr>\n",
       "      <th>3</th>\n",
       "      <td>20.526971</td>\n",
       "      <td>21.738586</td>\n",
       "      <td>2.432121</td>\n",
       "      <td>18.884582</td>\n",
       "      <td>-2.996941</td>\n",
       "      <td>12.469330</td>\n",
       "      <td>-0.160977</td>\n",
       "      <td>-2.962257</td>\n",
       "      <td>0.031045</td>\n",
       "      <td>1.972720</td>\n",
       "      <td>...</td>\n",
       "      <td>2.054504</td>\n",
       "      <td>-4.276470</td>\n",
       "      <td>5.727543</td>\n",
       "      <td>0.562058</td>\n",
       "      <td>-6.224654</td>\n",
       "      <td>1.416986</td>\n",
       "      <td>-3.788549</td>\n",
       "      <td>-1.659176</td>\n",
       "      <td>-3.837358</td>\n",
       "      <td>-2.844985</td>\n",
       "    </tr>\n",
       "    <tr>\n",
       "      <th>4</th>\n",
       "      <td>5.501799</td>\n",
       "      <td>4.271461</td>\n",
       "      <td>-0.910193</td>\n",
       "      <td>-2.506989</td>\n",
       "      <td>-0.622670</td>\n",
       "      <td>-1.248510</td>\n",
       "      <td>-0.746119</td>\n",
       "      <td>-2.239324</td>\n",
       "      <td>0.458401</td>\n",
       "      <td>-0.163811</td>\n",
       "      <td>...</td>\n",
       "      <td>2.739336</td>\n",
       "      <td>1.926246</td>\n",
       "      <td>-0.292187</td>\n",
       "      <td>3.023955</td>\n",
       "      <td>0.574138</td>\n",
       "      <td>-0.742621</td>\n",
       "      <td>1.609566</td>\n",
       "      <td>-3.844642</td>\n",
       "      <td>0.573297</td>\n",
       "      <td>-0.537559</td>\n",
       "    </tr>\n",
       "  </tbody>\n",
       "</table>\n",
       "<p>5 rows × 100 columns</p>\n",
       "</div>"
      ],
      "text/plain": [
       "         pc1        pc2       pc3        pc4       pc5        pc6       pc7  \\\n",
       "0  -9.093352  -1.350986 -2.623216   0.722677 -3.839283  -3.840705  6.223648   \n",
       "1   4.246911  -8.630045 -4.961611   1.306483 -2.620419  -1.018287 -1.612581   \n",
       "2  -2.980933  17.920002  3.301077  -8.379466  1.637306  -0.826603 -1.302264   \n",
       "3  20.526971  21.738586  2.432121  18.884582 -2.996941  12.469330 -0.160977   \n",
       "4   5.501799   4.271461 -0.910193  -2.506989 -0.622670  -1.248510 -0.746119   \n",
       "\n",
       "        pc8       pc9      pc10  ...      pc91      pc92      pc93      pc94  \\\n",
       "0 -1.921344 -2.355101  2.221731  ...  1.007090 -1.148323  0.793052 -0.522220   \n",
       "1  0.824411 -1.045965 -1.259221  ...  0.781345 -0.161639 -0.290954 -1.207926   \n",
       "2  8.298871 -3.397128 -0.561742  ... -0.269644  0.407150 -1.022617  0.251974   \n",
       "3 -2.962257  0.031045  1.972720  ...  2.054504 -4.276470  5.727543  0.562058   \n",
       "4 -2.239324  0.458401 -0.163811  ...  2.739336  1.926246 -0.292187  3.023955   \n",
       "\n",
       "       pc95      pc96      pc97      pc98      pc99     pc100  \n",
       "0 -0.665886  0.852045  0.682331  1.206655  0.284954 -0.489369  \n",
       "1 -0.383505  0.045482 -1.153342  0.341470 -1.086119 -0.805744  \n",
       "2  1.001830  1.359859  0.289562  0.586801  0.558748 -0.045453  \n",
       "3 -6.224654  1.416986 -3.788549 -1.659176 -3.837358 -2.844985  \n",
       "4  0.574138 -0.742621  1.609566 -3.844642  0.573297 -0.537559  \n",
       "\n",
       "[5 rows x 100 columns]"
      ]
     },
     "execution_count": 59,
     "metadata": {},
     "output_type": "execute_result"
    }
   ],
   "source": [
    "# apply PCA to features\n",
    "my_pca = PCA(n_components = 100)\n",
    "\n",
    "# apply PCA on chord progression features\n",
    "pc = my_pca.fit_transform(df_features)\n",
    "\n",
    "# store principal components as dataframe\n",
    "col_names = [\"pc\" + str(idx) for idx in range(1,pc.shape[1]+1)] # get PC names\n",
    "pc_df = pd.DataFrame(data=pc, columns=col_names)                # make dataframe\n",
    "pc_df.head()"
   ]
  },
  {
   "cell_type": "code",
   "execution_count": 60,
   "metadata": {},
   "outputs": [
    {
     "data": {
      "image/png": "[encoded data removed]",
      "text/plain": [
       "<Figure size 864x432 with 1 Axes>"
      ]
     },
     "metadata": {
      "needs_background": "light"
     },
     "output_type": "display_data"
    }
   ],
   "source": [
    "# plot explained variance\n",
    "evr_list = my_pca.explained_variance_ratio_\n",
    "my_data = [(name,evr) for name,evr in zip(col_names,evr_list)]\n",
    "plot_bar(my_data)\n",
    "plt.title(f\"PC Explained Variance (sum={str(np.sum(evr_list))})\");\n",
    "plt.xlabel(\"Principal component\");\n",
    "plt.ylabel(\"Explained variance ratio\");"
   ]
  },
  {
   "cell_type": "code",
   "execution_count": 61,
   "metadata": {},
   "outputs": [],
   "source": [
    "# ----------------- ALL DATA ------------------\n",
    "X_all = pc_df  # PC data\n",
    "actual_rank = songs_meta_filter_df[\"actual_rank\"]  # actual rank (continuous)\n",
    "decade = songs_meta_filter_df[\"decade\"]  # decade (categorical)\n",
    "actual_rank_category = songs_meta_filter_df[\"actual_rank_category\"]  # actual rank category (categorical)"
   ]
  },
  {
   "cell_type": "markdown",
   "metadata": {},
   "source": [
    "## Build regressors to predict chart rank"
   ]
  },
  {
   "cell_type": "markdown",
   "metadata": {},
   "source": [
    "#### MULTIVARIATE LINEAR REGRESSION using original features"
   ]
  },
  {
   "cell_type": "code",
   "execution_count": 62,
   "metadata": {},
   "outputs": [
    {
     "data": {
      "text/html": [
       "<div>\n",
       "<style scoped>\n",
       "    .dataframe tbody tr th:only-of-type {\n",
       "        vertical-align: middle;\n",
       "    }\n",
       "\n",
       "    .dataframe tbody tr th {\n",
       "        vertical-align: top;\n",
       "    }\n",
       "\n",
       "    .dataframe thead th {\n",
       "        text-align: right;\n",
       "    }\n",
       "</style>\n",
       "<table border=\"1\" class=\"dataframe\">\n",
       "  <thead>\n",
       "    <tr style=\"text-align: right;\">\n",
       "      <th></th>\n",
       "      <th>fit_time</th>\n",
       "      <th>score_time</th>\n",
       "      <th>test_score</th>\n",
       "    </tr>\n",
       "  </thead>\n",
       "  <tbody>\n",
       "    <tr>\n",
       "      <th>0</th>\n",
       "      <td>0.018780</td>\n",
       "      <td>0.001801</td>\n",
       "      <td>-0.547225</td>\n",
       "    </tr>\n",
       "    <tr>\n",
       "      <th>1</th>\n",
       "      <td>0.010155</td>\n",
       "      <td>0.001540</td>\n",
       "      <td>-20.537352</td>\n",
       "    </tr>\n",
       "    <tr>\n",
       "      <th>2</th>\n",
       "      <td>0.007266</td>\n",
       "      <td>0.001558</td>\n",
       "      <td>-0.353183</td>\n",
       "    </tr>\n",
       "    <tr>\n",
       "      <th>3</th>\n",
       "      <td>0.028107</td>\n",
       "      <td>0.001826</td>\n",
       "      <td>-9.948629</td>\n",
       "    </tr>\n",
       "    <tr>\n",
       "      <th>4</th>\n",
       "      <td>0.018673</td>\n",
       "      <td>0.001509</td>\n",
       "      <td>-0.848761</td>\n",
       "    </tr>\n",
       "    <tr>\n",
       "      <th>5</th>\n",
       "      <td>0.009053</td>\n",
       "      <td>0.001954</td>\n",
       "      <td>-1.492715</td>\n",
       "    </tr>\n",
       "    <tr>\n",
       "      <th>6</th>\n",
       "      <td>0.011223</td>\n",
       "      <td>0.014086</td>\n",
       "      <td>-0.476030</td>\n",
       "    </tr>\n",
       "    <tr>\n",
       "      <th>7</th>\n",
       "      <td>0.032412</td>\n",
       "      <td>0.001790</td>\n",
       "      <td>-1.536028</td>\n",
       "    </tr>\n",
       "    <tr>\n",
       "      <th>8</th>\n",
       "      <td>0.009512</td>\n",
       "      <td>0.005373</td>\n",
       "      <td>-2.048759</td>\n",
       "    </tr>\n",
       "    <tr>\n",
       "      <th>9</th>\n",
       "      <td>0.006154</td>\n",
       "      <td>0.002107</td>\n",
       "      <td>-0.137387</td>\n",
       "    </tr>\n",
       "  </tbody>\n",
       "</table>\n",
       "</div>"
      ],
      "text/plain": [
       "   fit_time  score_time  test_score\n",
       "0  0.018780    0.001801   -0.547225\n",
       "1  0.010155    0.001540  -20.537352\n",
       "2  0.007266    0.001558   -0.353183\n",
       "3  0.028107    0.001826   -9.948629\n",
       "4  0.018673    0.001509   -0.848761\n",
       "5  0.009053    0.001954   -1.492715\n",
       "6  0.011223    0.014086   -0.476030\n",
       "7  0.032412    0.001790   -1.536028\n",
       "8  0.009512    0.005373   -2.048759\n",
       "9  0.006154    0.002107   -0.137387"
      ]
     },
     "execution_count": 62,
     "metadata": {},
     "output_type": "execute_result"
    }
   ],
   "source": [
    "# instantiate a KFold instance\n",
    "kf = KFold(n_splits=10, shuffle=True,random_state=10)\n",
    "# instantiate a linear regression instance\n",
    "lr = LinearRegression()\n",
    "# perform cross-validation using linear regression on original chord sequence data\n",
    "cv_lr = cross_validate(\n",
    "    estimator=lr,\n",
    "    X=X_all, y=actual_rank,\n",
    "    cv=kf,\n",
    "    scoring=make_scorer(r2_score)\n",
    ")\n",
    "cv_lr_df = pd.DataFrame(cv_lr)\n",
    "cv_lr_df"
   ]
  },
  {
   "cell_type": "markdown",
   "metadata": {},
   "source": [
    "#### K-NEAREST NEIGHBOR REGRESSOR"
   ]
  },
  {
   "cell_type": "code",
   "execution_count": 63,
   "metadata": {},
   "outputs": [
    {
     "data": {
      "image/png": "[encoded data removed]",
      "text/plain": [
       "<Figure size 432x288 with 1 Axes>"
      ]
     },
     "metadata": {
      "needs_background": "light"
     },
     "output_type": "display_data"
    }
   ],
   "source": [
    "# Create kf instance \n",
    "kf = KFold(n_splits=10, shuffle=True, random_state=42)\n",
    "# Create knn instance \n",
    "knn = KNeighborsRegressor()\n",
    "# Create grid search instance \n",
    "gscv = GridSearchCV(knn, {\"n_neighbors\": range(1, 20)}, cv=kf, n_jobs=-1)\n",
    "gscv.fit(X_all, actual_rank)\n",
    "# Get cross-validation data\n",
    "cv_df = pd.DataFrame(gscv.cv_results_)\n",
    "# Plot results of grid search\n",
    "cv_df.plot.line(x=\"param_n_neighbors\", y=\"mean_test_score\");\n",
    "plt.title(\"KNN grid search over n_neighbors\");\n",
    "plt.ylabel(\"R^2\");"
   ]
  },
  {
   "cell_type": "markdown",
   "metadata": {},
   "source": [
    "#### RANDOM FOREST REGRESSOR"
   ]
  },
  {
   "cell_type": "code",
   "execution_count": 64,
   "metadata": {},
   "outputs": [
    {
     "data": {
      "image/png": "[encoded data removed]",
      "text/plain": [
       "<Figure size 432x288 with 1 Axes>"
      ]
     },
     "metadata": {
      "needs_background": "light"
     },
     "output_type": "display_data"
    }
   ],
   "source": [
    "# Create kf instance\n",
    "kf = KFold(n_splits=10, shuffle=True, random_state=42)\n",
    "# Create rf instance\n",
    "rf = RandomForestRegressor(n_estimators=20)\n",
    "# Create grid search instance\n",
    "gscv = GridSearchCV(rf,{\"max_depth\": range(100,1001,100)},cv=kf, n_jobs=-1)\n",
    "# Run grid search\n",
    "gscv.fit(X_all, actual_rank)\n",
    "# Get cross-validation data\n",
    "cv_df = pd.DataFrame(gscv.cv_results_)\n",
    "# Plot results of grid search\n",
    "cv_df.plot.line(x=\"param_max_depth\", y=\"mean_test_score\");\n",
    "plt.title(\"Random forest grid search over max_depth\");\n",
    "plt.ylabel(\"R^2\");\n",
    "\n",
    "# # Create a heatmap-style table\n",
    "# pivoted_df = cv_df.pivot(index=\"param_max_depth\",\n",
    "#            columns=\"param_n_estimators\",\n",
    "#            values=\"mean_test_score\").round(3)\n",
    "# pivoted_df.style.background_gradient(\n",
    "#     cmap=\"nipy_spectral\",\n",
    "#     axis=None\n",
    "# )"
   ]
  },
  {
   "cell_type": "markdown",
   "metadata": {},
   "source": [
    "## Build classifiers to predict chart rank category and decade"
   ]
  },
  {
   "cell_type": "markdown",
   "metadata": {},
   "source": [
    "#### K-NEAREST NEIGHBOR CLASSIFIER"
   ]
  },
  {
   "cell_type": "code",
   "execution_count": 65,
   "metadata": {},
   "outputs": [
    {
     "data": {
      "image/png": "[encoded data removed]",
      "text/plain": [
       "<Figure size 432x288 with 1 Axes>"
      ]
     },
     "metadata": {
      "needs_background": "light"
     },
     "output_type": "display_data"
    }
   ],
   "source": [
    "# -------------------- DECADE --------------------\n",
    "# Create kf instance \n",
    "kf = KFold(n_splits=10, shuffle=True, random_state=42)\n",
    "# Create knn instance \n",
    "knn = KNeighborsClassifier()\n",
    "# Create grid search instance \n",
    "gscv = GridSearchCV(knn, {\"n_neighbors\": range(1, 20)}, cv=kf, n_jobs=-1)\n",
    "gscv.fit(X_all, decade)\n",
    "# Get cross-validation data\n",
    "cv_df = pd.DataFrame(gscv.cv_results_)\n",
    "# Plot results\n",
    "cv_df.plot.line(x=\"param_n_neighbors\", y=\"mean_test_score\");\n",
    "plt.title(\"KNN grid search over n_neighbors, decade\");\n",
    "plt.ylabel(\"R^2\");"
   ]
  },
  {
   "cell_type": "code",
   "execution_count": 66,
   "metadata": {},
   "outputs": [
    {
     "data": {
      "image/png": "[encoded data removed]",
      "text/plain": [
       "<Figure size 432x288 with 1 Axes>"
      ]
     },
     "metadata": {
      "needs_background": "light"
     },
     "output_type": "display_data"
    }
   ],
   "source": [
    "# -------------------- ACTUAL_RANK_CATEGORY --------------------\n",
    "# Create kf instance \n",
    "kf = KFold(n_splits=10, shuffle=True, random_state=42)\n",
    "# Create knn instance \n",
    "knn = KNeighborsClassifier()\n",
    "# Create grid search instance \n",
    "gscv = GridSearchCV(knn, {\"n_neighbors\": range(1, 20)}, cv=kf, n_jobs=-1)\n",
    "gscv.fit(X_all, actual_rank_category)\n",
    "# Get cross-validation data\n",
    "cv_df = pd.DataFrame(gscv.cv_results_)\n",
    "# Plot results\n",
    "cv_df.plot.line(x=\"param_n_neighbors\", y=\"mean_test_score\");\n",
    "plt.title(\"KNN grid search over n_neighbors, actual_rank_category\");\n",
    "plt.ylabel(\"R^2\");"
   ]
  },
  {
   "cell_type": "markdown",
   "metadata": {},
   "source": [
    "#### RANDOM FOREST CLASSIFIER"
   ]
  },
  {
   "cell_type": "code",
   "execution_count": 81,
   "metadata": {},
   "outputs": [
    {
     "data": {
      "image/png": "[encoded data removed]",
      "text/plain": [
       "<Figure size 432x288 with 1 Axes>"
      ]
     },
     "metadata": {
      "needs_background": "light"
     },
     "output_type": "display_data"
    }
   ],
   "source": [
    "# -------------------- DECADE --------------------\n",
    "# Create kf instance \n",
    "kf = KFold(n_splits=10, shuffle=True, random_state=42)\n",
    "# Create rf instance \n",
    "rf = RandomForestClassifier(n_estimators=20)\n",
    "# Create grid search instance\n",
    "gscv = GridSearchCV(rf, {\"max_depth\": range(1,21)}, cv=kf, n_jobs=-1)\n",
    "gscv.fit(X_all, decade)\n",
    "# Get cross-validation data\n",
    "cv_df = pd.DataFrame(gscv.cv_results_)\n",
    "# Get k values versus mean_test_scores\n",
    "cv_df.plot.line(x=\"param_max_depth\", y=\"mean_test_score\");\n",
    "plt.title(\"Random forest grid search over max_depth, decade\");\n",
    "plt.ylabel(\"R^2\");"
   ]
  },
  {
   "cell_type": "code",
   "execution_count": 82,
   "metadata": {},
   "outputs": [
    {
     "data": {
      "image/png": "[encoded data removed]",
      "text/plain": [
       "<Figure size 432x288 with 1 Axes>"
      ]
     },
     "metadata": {
      "needs_background": "light"
     },
     "output_type": "display_data"
    }
   ],
   "source": [
    "# -------------------- ACTUAL_RANK_CATEGORY --------------------\n",
    "# Create kf instance \n",
    "kf = KFold(n_splits=10, shuffle=True, random_state=42)\n",
    "# Create rf instance \n",
    "rf = RandomForestClassifier(n_estimators=20)\n",
    "# Create grid search instance\n",
    "gscv = GridSearchCV(rf, {\"max_depth\": range(1,21)}, cv=kf, n_jobs=-1)\n",
    "gscv.fit(X_all, actual_rank_category)\n",
    "# Get cross-validation data\n",
    "cv_df = pd.DataFrame(gscv.cv_results_)\n",
    "# Get k values versus mean_test_scores\n",
    "cv_df.plot.line(x=\"param_max_depth\", y=\"mean_test_score\");\n",
    "plt.title(\"Random forest grid search over max_depth, actual_rank_cateogry\");\n",
    "plt.ylabel(\"R^2\");"
   ]
  },
  {
   "cell_type": "markdown",
   "metadata": {},
   "source": [
    "#### ADABOOST CLASSIFIER (using default decision tree classifier as base)"
   ]
  },
  {
   "cell_type": "code",
   "execution_count": 73,
   "metadata": {},
   "outputs": [
    {
     "data": {
      "image/png": "[encoded data removed]",
      "text/plain": [
       "<Figure size 432x288 with 1 Axes>"
      ]
     },
     "metadata": {
      "needs_background": "light"
     },
     "output_type": "display_data"
    }
   ],
   "source": [
    "# -------------------- DECADE --------------------\n",
    "# Create kf instance \n",
    "kf = KFold(n_splits=10, shuffle=True, random_state=42)\n",
    "# Create rf instance \n",
    "ada = AdaBoostClassifier(n_estimators=20)\n",
    "# Create grid search instance\n",
    "gscv = GridSearchCV(ada, {\"n_estimators\": range(1,21)}, cv=kf, n_jobs=-1)\n",
    "gscv.fit(X_all, decade)\n",
    "# Get cross-validation data\n",
    "cv_df = pd.DataFrame(gscv.cv_results_)\n",
    "# Get k values versus mean_test_scores\n",
    "cv_df.plot.line(x=\"param_n_estimators\", y=\"mean_test_score\");\n",
    "plt.title(\"AdaBoost grid search over n_estimators, decade\");\n",
    "plt.ylabel(\"R^2\");"
   ]
  },
  {
   "cell_type": "code",
   "execution_count": 74,
   "metadata": {},
   "outputs": [
    {
     "data": {
      "image/png": "[encoded data removed]",
      "text/plain": [
       "<Figure size 432x288 with 1 Axes>"
      ]
     },
     "metadata": {
      "needs_background": "light"
     },
     "output_type": "display_data"
    }
   ],
   "source": [
    "# -------------------- ACTUAL_RANK_CATEGORY --------------------\n",
    "# Create kf instance \n",
    "kf = KFold(n_splits=10, shuffle=True, random_state=42)\n",
    "# Create rf instance \n",
    "ada = AdaBoostClassifier(n_estimators=20)\n",
    "# Create grid search instance\n",
    "gscv = GridSearchCV(ada, {\"n_estimators\": range(1,21)}, cv=kf, n_jobs=-1)\n",
    "gscv.fit(X_all, actual_rank_category)\n",
    "# Get cross-validation data\n",
    "cv_df = pd.DataFrame(gscv.cv_results_)\n",
    "# Get k values versus mean_test_scores\n",
    "cv_df.plot.line(x=\"param_n_estimators\", y=\"mean_test_score\");\n",
    "plt.title(\"AdaBoost grid search over n_estimators, actual_rank_category\");\n",
    "plt.ylabel(\"R^2\");"
   ]
  },
  {
   "cell_type": "markdown",
   "metadata": {},
   "source": [
    "Potential problems with analysis:\n",
    "- more features (1365) than observations (890)\n",
    "- feature matrix was very sparse (a result of songs only containing a handful of unique chord sequences out of all possibilities, and not having many sequences in common with other songs)\n",
    "\n",
    "Improvements:\n",
    "- better feature extraction and feature reduction techniques\n",
    "\n",
    "Future questions to address:\n",
    "- can you predict a song's rank with the amount of repeated chords? or homogeneity of its chord structure?"
   ]
  },
  {
   "cell_type": "markdown",
   "metadata": {},
   "source": [
    "## Trash"
   ]
  },
  {
   "cell_type": "code",
   "execution_count": null,
   "metadata": {},
   "outputs": [],
   "source": [
    "# def parse_data(path):\n",
    "#     # initialize global lists\n",
    "#     all_chord = []\n",
    "#     all_quality = []\n",
    "#     # read chord file line by line\n",
    "#     with open(path) as fp:\n",
    "#         # iterate over every line\n",
    "#         for line in fp:\n",
    "#             # set new tonic, if applicable\n",
    "#             if \"# tonic:\" in line:\n",
    "#                 tonic = CHORD_DICT[line.rsplit(\" \")[-1][:-1]]\n",
    "#             # initialize line-specific lists\n",
    "#             chord_line = []\n",
    "#             quality_line = []\n",
    "#             # find all indices where there is a \"|\"\n",
    "#             idx_bar = [pos for pos, char in enumerate(line) if char == \"|\"]\n",
    "#             # iterate over bars\n",
    "#             for i in range(len(idx_bar)-1):\n",
    "#                 # select a bar from the whole line\n",
    "#                 bar = line[idx_bar[i]+1:idx_bar[i+1]]\n",
    "#                 # find all indices where there is a \":\"\n",
    "#                 idx_chord = [pos for pos, char in enumerate(bar) if char == \":\"]\n",
    "#                 # iterate over chords in a bar\n",
    "#                 for j in idx_chord:\n",
    "#                     # grab chord (convert to numeral relative to tonic)\n",
    "#                     chord = \"\"\n",
    "#                     offset = 1\n",
    "#                     my_char = bar[j-offset]\n",
    "#                     while my_char != \" \":\n",
    "#                         chord += my_char\n",
    "#                         offset += 1\n",
    "#                         my_char = bar[j-offset]\n",
    "#                     chord_num = CHORD_DICT[chord[::-1]]\n",
    "#                     chord_rel = chord_num - tonic\n",
    "#                     if chord_rel < 0:\n",
    "#                         chord_line.append(chord_rel + 12)\n",
    "#                     else:\n",
    "#                         chord_line.append(chord_rel)\n",
    "\n",
    "#                     # grab chord quality\n",
    "#                     quality = \"\"\n",
    "#                     offset = 1\n",
    "#                     my_char = bar[j+offset]\n",
    "#                     while my_char != \" \":\n",
    "#                         quality += my_char\n",
    "#                         offset += 1\n",
    "#                         my_char = bar[j+offset]\n",
    "#                     quality_line.append(quality)\n",
    "#             # append to global list\n",
    "#             if chord_line:\n",
    "#                 all_chord.append(chord_line)\n",
    "#             if quality_line:\n",
    "#                 all_quality.append(quality_line)\n",
    "    \n",
    "#     return all_chord, all_quality"
   ]
  },
  {
   "cell_type": "code",
   "execution_count": null,
   "metadata": {},
   "outputs": [],
   "source": [
    "# start = time.time() # start time\n",
    "\n",
    "# # instantiate feature dataframe for all songs\n",
    "# df_features2 = pd.DataFrame()\n",
    "# # iterate over all song chord progressions\n",
    "# for idx, song_seq in enumerate(song_seq_all):\n",
    "#     # iterate over all key/value pairs\n",
    "#     for kv in song_seq.items():\n",
    "#         # populate dataframe\n",
    "#         df_features2.loc[idx,str(kv[0])] = kv[1]\n",
    "\n",
    "# end = time.time() # end time\n",
    "# print(end - start) # time elapsed\n",
    "\n",
    "# # fill NaN values with 0\n",
    "# df_features2 = df_features.fillna(value=0)\n",
    "\n",
    "# # join df_features with song_meta_filter_df\n",
    "# df_features2 = songs_meta_filter_df.copy().join(df_features)"
   ]
  },
  {
   "cell_type": "code",
   "execution_count": null,
   "metadata": {},
   "outputs": [],
   "source": [
    "# # get all unique chord progressions\n",
    "# temp = {}\n",
    "# for song_seq in song_seq_all:\n",
    "#     temp.update(song_seq)\n",
    "# seq_unique = list(temp.keys())"
   ]
  },
  {
   "cell_type": "code",
   "execution_count": null,
   "metadata": {},
   "outputs": [],
   "source": [
    "# mlr = LinearRegression() # instantiate\n",
    "# mlr.fit(X_all,y_all) # fit data\n",
    "# y_pred = mlr.predict(X_all) # predict data\n",
    "# r2_score(y_all,y_pred) # evaluate fit using R^2"
   ]
  },
  {
   "cell_type": "code",
   "execution_count": null,
   "metadata": {},
   "outputs": [],
   "source": [
    "# mlr = LinearRegression() # instantiate\n",
    "# mlr.fit(X_train,y_train) # fit data\n",
    "# y_pred = mlr.predict(X_test) # predict data\n",
    "# r2_score(y_test,y_pred)"
   ]
  },
  {
   "cell_type": "code",
   "execution_count": null,
   "metadata": {},
   "outputs": [],
   "source": [
    "# ## (temp) Apply PCA on chord progression features\n",
    "\n",
    "# from sklearn.decomposition import PCA\n",
    "\n",
    "# # instantiate a PCA instance\n",
    "# my_pca = PCA(n_components = 0.9)\n",
    "\n",
    "# # apply PCA on chord progression features\n",
    "# pc = my_pca.fit_transform(df_features)\n",
    "\n",
    "# # store principal components as dataframe\n",
    "# col_names = [\"pc\" + str(idx) for idx in range(1,pc.shape[1]+1)] # get PC names\n",
    "# pc_df = pd.DataFrame(data=pc, columns=col_names)                # make dataframe\n",
    "\n",
    "# ## (temp) Apply ICA on chord progression features\n",
    "\n",
    "# from sklearn.decomposition import FastICA\n",
    "\n",
    "# # instantiate an ICA instance\n",
    "# my_ica = FastICA(n_components=20)\n",
    "\n",
    "# # apply ICA on chord progression features\n",
    "# ic = my_ica.fit_transform(df_features)\n",
    "\n",
    "# # store independent components as dataframe\n",
    "# col_names = [\"ic\" + str(idx) for idx in range(1,ic.shape[1]+1)] # get PC names\n",
    "# ic_df = pd.DataFrame(data=ic, columns=col_names)                # make dataframe"
   ]
  },
  {
   "cell_type": "code",
   "execution_count": null,
   "metadata": {
    "scrolled": true
   },
   "outputs": [],
   "source": [
    "# #### (temp) MULTIVARIATE LINEAR REGRESSION using PCA features\n",
    "\n",
    "# # instantiate a KFold instance\n",
    "# kf = KFold(n_splits=10, shuffle=True,random_state=42)\n",
    "# # instantiate a linear regression instance\n",
    "# lr = LinearRegression()\n",
    "# # perform cross-validation using linear regression on PC data\n",
    "# cv_lr = cross_validate(\n",
    "#     estimator=lr,\n",
    "#     X=pc_df, y=y_all,\n",
    "#     cv=kf,\n",
    "#     scoring=make_scorer(r2_score)\n",
    "# )\n",
    "# cv_lr_df = pd.DataFrame(cv_lr)\n",
    "# cv_lr_df\n",
    "\n",
    "# #### (temp) MULTIVARIATE LINEAR REGRESSION using ICA features\n",
    "\n",
    "# # instantiate a KFold instance\n",
    "# kf = KFold(n_splits=10, shuffle=True,random_state=42)\n",
    "# # instantiate a linear regression instance\n",
    "# lr = LinearRegression()\n",
    "# # perform cross-validation using linear regression on IC data\n",
    "# cv_lr = cross_validate(\n",
    "#     estimator=lr,\n",
    "#     X=ic_df, y=y_all,\n",
    "#     cv=kf,\n",
    "#     scoring=make_scorer(r2_score)\n",
    "# )\n",
    "# cv_lr_df = pd.DataFrame(cv_lr)\n",
    "# cv_lr_df"
   ]
  },
  {
   "cell_type": "code",
   "execution_count": 61,
   "metadata": {},
   "outputs": [],
   "source": [
    "# ------------ TRAIN-TEST SPLIT -------------\n",
    "# # continuous data\n",
    "# X_train, X_test, y_train, y_test = train_test_split(\n",
    "#     X_all, y_all,\n",
    "#     test_size = 0.1,\n",
    "#     random_state = 42\n",
    "# )\n",
    "# # categorical data\n",
    "# X_cat_train, X_cat_test, y_cat_train, y_cat_test = train_test_split(\n",
    "#     X_all, y_cat_all,\n",
    "#     test_size = 0.1,\n",
    "#     random_state = 42\n",
    "# )"
   ]
  }
 ],
 "metadata": {
  "kernelspec": {
   "display_name": "Python 3",
   "language": "python",
   "name": "python3"
  },
  "language_info": {
   "codemirror_mode": {
    "name": "ipython",
    "version": 3
   },
   "file_extension": ".py",
   "mimetype": "text/x-python",
   "name": "python",
   "nbconvert_exporter": "python",
   "pygments_lexer": "ipython3",
   "version": "3.6.9"
  }
 },
 "nbformat": 4,
 "nbformat_minor": 4
}
