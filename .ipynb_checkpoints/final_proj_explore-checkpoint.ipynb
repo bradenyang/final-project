{
 "cells": [
  {
   "cell_type": "markdown",
   "metadata": {},
   "source": [
    "## TODO\n",
    " - Normalize sequence counts based on the total number of sequences of a specific length (to account for song size)\n",
    " - Ignore repeated chords?"
   ]
  },
  {
   "cell_type": "markdown",
   "metadata": {},
   "source": [
    "## Import modules"
   ]
  },
  {
   "cell_type": "code",
   "execution_count": 250,
   "metadata": {},
   "outputs": [],
   "source": [
    "import numpy as np\n",
    "import pandas as pd\n",
    "import os.path\n",
    "import time\n",
    "import seaborn as sns\n",
    "import matplotlib as plt\n",
    "from collections import Counter"
   ]
  },
  {
   "cell_type": "markdown",
   "metadata": {},
   "source": [
    "## Define global variables"
   ]
  },
  {
   "cell_type": "code",
   "execution_count": 251,
   "metadata": {},
   "outputs": [],
   "source": [
    "# dictionary of chord (key) to numeral (value)\n",
    "CHORD_DICT = {\n",
    "    'A':0,\n",
    "    'A#':1,\n",
    "    'Bb':1,\n",
    "    'B':2,\n",
    "    'Cb':2,\n",
    "    'C':3,\n",
    "    'C#':4,\n",
    "    'Db':4,\n",
    "    'D':5,\n",
    "    'D#':6,\n",
    "    'Eb':6,\n",
    "    'E':7,\n",
    "    'Fb':7,\n",
    "    'F':8,\n",
    "    'F#':9,\n",
    "    'Gb':8,\n",
    "    'G':10,\n",
    "    'G#':11,\n",
    "    'Ab':11,\n",
    "}\n",
    "\n",
    "# dictionary of quality to simplified quality\n",
    "QUALITY_DICT = {\n",
    "    'min7':'min',\n",
    "    'sus4':'sus',\n",
    "    'maj7':'maj',\n",
    "    'maj6':'maj',\n",
    "    'min9':'min',\n",
    "    'maj9':'maj',\n",
    "    '9':'7',\n",
    "    '11':'7',\n",
    "    'sus2':'sus',\n",
    "    '13':'7',\n",
    "    'min6':'min',\n",
    "    'min11':'min',\n",
    "    'hdim7':'dim',\n",
    "    'maj13':'maj',\n",
    "    'dim7':'dim',\n",
    "    'minmaj7':'min',\n",
    "    'min13':'min'\n",
    "}\n",
    "\n",
    "# absolute path to McGill Billboard data\n",
    "MCGILL_PATH = os.path.expanduser(\"~\") + \"/biof509/final-project/data/McGill-Billboard\"\n",
    "\n",
    "# bool to indicate whether to simplify quality of chords\n",
    "QUALITY_SIMPLIFY = True\n",
    "\n",
    "# bool to indicate whether to normalize data based on the total number of sequences of a\n",
    "#   certain length found in a song (reflective of the size of a song)\n",
    "NORM = False\n",
    "\n",
    "# list of sequence lengths to search for\n",
    "SEQ_LEN_LIST = [1,2,3]\n",
    "\n",
    "# number of chart rank categories to bin into\n",
    "NUM_CATEGORIES = 5"
   ]
  },
  {
   "cell_type": "markdown",
   "metadata": {},
   "source": [
    "## Define Functions"
   ]
  },
  {
   "cell_type": "code",
   "execution_count": 252,
   "metadata": {},
   "outputs": [],
   "source": [
    "def convert_numeral(chord,tonic):\n",
    "    \"\"\"\n",
    "    Function convert_numeral converts a chord (string) into a\n",
    "    numeric representation (int) that is relative to the tonic key (string)\n",
    "    \n",
    "    For example, if chord = \"F\" and tonic = \"Bb\", then the output would be\n",
    "    the integer 7\n",
    "    -----------------------\n",
    "    Input\n",
    "        chord: string of the chord to be converted to a numeral\n",
    "        tonic: string of the tonic key\n",
    "    Output\n",
    "        numeral: int representation of \"chord\"\n",
    "    \"\"\"\n",
    "    numeral = CHORD_DICT[chord] - CHORD_DICT[tonic]\n",
    "    if numeral < 0:\n",
    "        return numeral + 12\n",
    "    else:\n",
    "        return numeral\n",
    "\n",
    "def parse_data(path):\n",
    "    \"\"\"\n",
    "    Funtion parse_data parses text file provided from the McGill Billboard\n",
    "    project and returns two lists of lists containing a sequence of chords\n",
    "    and their qualities respectively\n",
    "    -----------------------\n",
    "    Input\n",
    "        path: string containing absolute path to text file to parse\n",
    "    \n",
    "    Output\n",
    "        chords: list of lists; each inner list corresponds to a chord sequence\n",
    "            in an individual line of the song, and contains 2-element tuples\n",
    "            that give the relative chord numeral and its quality\n",
    "    \"\"\"\n",
    "    # initialize global list\n",
    "    chords = []\n",
    "    # iterate over every line\n",
    "    for line in open(path):\n",
    "        # set new tonic, if applicable\n",
    "        if \"# tonic:\" in line:\n",
    "            tonic = line.rsplit(\" \")[-1][:-1]\n",
    "        # initialize line-specific lists\n",
    "        chords_line = []\n",
    "        # split bars (separated by \"|\")\n",
    "        bars = line.rsplit(\"|\")[1:-1]\n",
    "        # iterate over bars\n",
    "        for bar in bars:\n",
    "            # split chords+quality (separated by space)\n",
    "            cqs = bar.rsplit(\" \")[1:-1]\n",
    "            # iterate over chords+quality\n",
    "            for cq in cqs:\n",
    "                # check for existence of \":\"\n",
    "                if \":\" in cq:\n",
    "                    # get chord and convert to relative numeral\n",
    "                    c = convert_numeral(cq.rsplit(\":\")[0],tonic)\n",
    "                    # get quality\n",
    "                    q = cq.rsplit(\":\")[-1]\n",
    "                    if QUALITY_SIMPLIFY:\n",
    "                        q = q.split(\"(\")[0]\n",
    "                        q = q.split(\"/\")[0]\n",
    "                        if q in QUALITY_DICT.keys():\n",
    "                            q = QUALITY_DICT[q]\n",
    "                    # append to line list as tuple\n",
    "                    chords_line.append((c,q))\n",
    "        # append line list to global list (ignore empty lines)\n",
    "        if chords_line:\n",
    "            chords.append(chords_line)\n",
    "\n",
    "    return chords\n",
    "\n",
    "def get_chord_seq(chords,seq_len):\n",
    "    \"\"\"\n",
    "    Function get_chord_seq parses through a song's chord structure and returns a\n",
    "    dictionary, with keys representing chord sequences in nested tuples, and values\n",
    "    representing the counts of each chord sequence found in a particular song.\n",
    "    User can specify the length of chord sequence to search for\n",
    "    \n",
    "    -----------------------\n",
    "    Input\n",
    "        chords: list containing a song's chord structure\n",
    "        seq_len: int specifying the length of chord sequence to search for\n",
    "    \n",
    "    Output\n",
    "        seq_dict: dict containing specific chord sequences as keys and the counts of\n",
    "            each sequence found within the song as values\n",
    "    \"\"\"\n",
    "    # initialize dict\n",
    "    seq_dict = {}\n",
    "    # iterate over lines\n",
    "    for line in chords:\n",
    "        # if length of sequence greater than length of line, ignore line\n",
    "        if seq_len > len(line):\n",
    "            pass\n",
    "        else:\n",
    "            # raster over sequences and store in dict\n",
    "            for i in range(len(line) - seq_len + 1):\n",
    "                seq = tuple(line[i:(i+seq_len)]) # get sequence as tuple\n",
    "                if seq in seq_dict:\n",
    "                    seq_dict[seq] += 1\n",
    "                else:\n",
    "                    seq_dict[seq] = 1\n",
    "   \n",
    "    return seq_dict\n",
    "\n",
    "def get_decade(d):\n",
    "    \"\"\"\n",
    "    Function get_decade returns a string representing the decade of an input date (also\n",
    "    string); for example, if '1968-03-01' is inputed, then the output would be '1960'\n",
    "    \n",
    "    -----------------------\n",
    "    Input\n",
    "        d: string, input date in the format 'yyyy-mm-dd'\n",
    "    \n",
    "    Output\n",
    "        decade: string, output decade\n",
    "    \"\"\"\n",
    "    # remove substring past first \"-\"\n",
    "    y = float(d.split(\"-\")[0])\n",
    "    \n",
    "    # round to the nearest decade\n",
    "    decade = str(int(10*np.floor(y/10)))\n",
    "    \n",
    "    return decade"
   ]
  },
  {
   "cell_type": "markdown",
   "metadata": {},
   "source": [
    "## Load in CSV file of metadata"
   ]
  },
  {
   "cell_type": "code",
   "execution_count": 253,
   "metadata": {},
   "outputs": [],
   "source": [
    "# load CSV\n",
    "songs_meta_df = pd.read_csv(\"data/billboard-2.0-index.csv\");\n",
    "\n",
    "# filter out rows that have NaN in the \"actual_rank\" column\n",
    "songs_meta_filter_df = songs_meta_df[songs_meta_df.actual_rank.notnull()].copy().reset_index()\n",
    "\n",
    "# get song indices\n",
    "song_id = songs_meta_filter_df.id.values\n",
    "\n",
    "# get decade and append new column\n",
    "dates = songs_meta_filter_df.chart_date\n",
    "decade = [get_decade(date) for date in dates]\n",
    "decade_ser = pd.Series(decade, name=\"decade\")\n",
    "songs_meta_filter_df = songs_meta_filter_df.join(decade_ser)\n",
    "\n",
    "# get chart rank category and append new column\n",
    "rank_bin = np.digitize(x = songs_meta_filter_df[\"actual_rank\"], bins = np.linspace(0,100,NUM_CATEGORIES+1))\n",
    "rank_bin_ser = pd.Series(rank_bin, name=\"actual_rank_category\")\n",
    "songs_meta_filter_df = songs_meta_filter_df.join(rank_bin_ser)"
   ]
  },
  {
   "cell_type": "markdown",
   "metadata": {},
   "source": [
    "## Parse all text files"
   ]
  },
  {
   "cell_type": "code",
   "execution_count": 254,
   "metadata": {},
   "outputs": [],
   "source": [
    "# initialize dicts to keep track of global counts\n",
    "num_cq = {}\n",
    "num_chord = {}\n",
    "num_quality = {}\n",
    "\n",
    "# initialize list of dicts to keep track of song chord sequences\n",
    "song_seq_all = []"
   ]
  },
  {
   "cell_type": "code",
   "execution_count": 255,
   "metadata": {},
   "outputs": [],
   "source": [
    "# iterate through all songs\n",
    "for song in song_id:\n",
    "    # parse song\n",
    "    chords = parse_data(MCGILL_PATH + f\"/{str(song).zfill(4)}/salami_chords.txt\")\n",
    "    \n",
    "    # -------- EXTRACT SONG-SPECIFIC CHORD SEQUENCES --------\n",
    "    # initialize song chord sequence dict\n",
    "    song_seq = {}\n",
    "    \n",
    "    # iterate over different sequence lengths, add to song_seq\n",
    "    for seq_len in SEQ_LEN_LIST:\n",
    "        dict_temp = get_chord_seq(chords,seq_len)\n",
    "        song_seq.update(dict_temp)\n",
    "    \n",
    "    # append song_seq to song_seq_all\n",
    "    song_seq_all.append(song_seq)\n",
    "    \n",
    "    # ----------------- FIND GLOBAL COUNTS ------------------\n",
    "    # iterate through lines in a song\n",
    "    for line in chords:\n",
    "        # iterate through individual chords\n",
    "        for chord in line:\n",
    "            # populate dicts\n",
    "            if chord in num_cq:\n",
    "                num_cq[chord] += 1\n",
    "            else:\n",
    "                num_cq[chord] = 1\n",
    "            \n",
    "            if chord[0] in num_chord:\n",
    "                num_chord[chord[0]] += 1\n",
    "            else:\n",
    "                num_chord[chord[0]] = 1\n",
    "            \n",
    "            if chord[1] in num_quality:\n",
    "                num_quality[chord[1]] += 1\n",
    "            else:\n",
    "                num_quality[chord[1]] = 1"
   ]
  },
  {
   "cell_type": "code",
   "execution_count": 256,
   "metadata": {},
   "outputs": [],
   "source": [
    "# sort key-value pairs by values\n",
    "cq_sort = sorted(num_cq.items(), key = lambda kv: kv[1], reverse=True)\n",
    "quality_sort = sorted(num_quality.items(), key = lambda kv: kv[1], reverse=True)\n",
    "chord_sort = sorted(num_chord.items(), key = lambda kv: kv[1], reverse=True)"
   ]
  },
  {
   "cell_type": "code",
   "execution_count": 257,
   "metadata": {},
   "outputs": [],
   "source": [
    "# # get all unique chord progressions\n",
    "# temp = {}\n",
    "# for song_seq in song_seq_all:\n",
    "#     temp.update(song_seq)\n",
    "# seq_unique = list(temp.keys())"
   ]
  },
  {
   "cell_type": "code",
   "execution_count": 258,
   "metadata": {},
   "outputs": [],
   "source": [
    "# get counts of all unique chord sequences\n",
    "seq_total_count = Counter({})\n",
    "for song in song_seq_all:\n",
    "    seq_total_count = seq_total_count + Counter(song)"
   ]
  },
  {
   "cell_type": "code",
   "execution_count": 259,
   "metadata": {},
   "outputs": [
    {
     "data": {
      "image/png": "[encoded data removed]",
      "text/plain": [
       "<Figure size 432x288 with 1 Axes>"
      ]
     },
     "metadata": {
      "needs_background": "light"
     },
     "output_type": "display_data"
    }
   ],
   "source": [
    "# plot frequency distribution of all chords from all songs\n",
    "%matplotlib inline\n",
    "my_data = [pair[1] for pair in cq_sort]\n",
    "my_labels = [str(pair[0]) for pair in cq_sort]\n",
    "plt.pyplot.bar(\n",
    "    x = range(len(my_data)),\n",
    "    height = my_data\n",
    ");"
   ]
  },
  {
   "cell_type": "markdown",
   "metadata": {},
   "source": [
    "## Add chord sequence features to pandas dataframe"
   ]
  },
  {
   "cell_type": "code",
   "execution_count": 260,
   "metadata": {
    "scrolled": true
   },
   "outputs": [
    {
     "name": "stdout",
     "output_type": "stream",
     "text": [
      "line 0 done\n",
      "line 100 done\n",
      "line 200 done\n",
      "line 300 done\n",
      "line 400 done\n",
      "line 500 done\n",
      "line 600 done\n",
      "line 700 done\n",
      "line 800 done\n",
      "Time elapsed: 103.71329188346863\n"
     ]
    }
   ],
   "source": [
    "start = time.time() # start time\n",
    "\n",
    "# instantiate feature dataframe for all songs\n",
    "df_features = pd.DataFrame()\n",
    "# iterate over all song chord progressions\n",
    "for idx, song_seq in enumerate(song_seq_all):\n",
    "    # if dict not empty\n",
    "    if song_seq:\n",
    "        # initialize row\n",
    "        df_row = pd.DataFrame()\n",
    "        # iterate over all key/value pairs\n",
    "        for kv in song_seq.items():\n",
    "            # populate dataframe\n",
    "            df_row.loc[0,str(kv[0])] = kv[1]\n",
    "        # concatentate df_features\n",
    "        df_features = df_features.append(\n",
    "            other=df_row,\n",
    "            ignore_index=True,\n",
    "            sort=True\n",
    "        )\n",
    "    else:\n",
    "        df_features = df_features.append(pd.Series(),ignore_index=True)\n",
    "    # print statement\n",
    "    if not np.mod(idx,100):\n",
    "        print(\"line \" + str(idx) + \" done\")\n",
    "        \n",
    "end = time.time() # end time\n",
    "print(\"Time elapsed: \" + str(end - start)) # time elapsed\n",
    "\n",
    "# fill NaN values with 0\n",
    "df_features = df_features.fillna(value=0)"
   ]
  },
  {
   "cell_type": "markdown",
   "metadata": {},
   "source": [
    "## Apply PCA on chord progression features"
   ]
  },
  {
   "cell_type": "code",
   "execution_count": 261,
   "metadata": {},
   "outputs": [],
   "source": [
    "from sklearn.decomposition import PCA\n",
    "\n",
    "# instantiate a PCA instance\n",
    "my_pca = PCA(n_components = 0.9)\n",
    "\n",
    "# apply PCA on chord progression features\n",
    "pc = my_pca.fit_transform(df_features)\n",
    "\n",
    "# store principal components as dataframe\n",
    "col_names = [\"pc\" + str(idx) for idx in range(1,pc.shape[1]+1)] # get PC names\n",
    "pc_df = pd.DataFrame(data=pc, columns=col_names)                # make dataframe\n",
    "# data_final = songs_meta_filter_df.copy().join(pc_df)            # make copy of metadata df and append"
   ]
  },
  {
   "cell_type": "markdown",
   "metadata": {},
   "source": [
    "## Build regressors to predict chart rank"
   ]
  },
  {
   "cell_type": "code",
   "execution_count": 262,
   "metadata": {},
   "outputs": [],
   "source": [
    "# all data\n",
    "X_all = df_features\n",
    "y_all = songs_meta_filter_df[\"actual_rank\"]\n",
    "\n",
    "# train-test split data\n",
    "from sklearn.model_selection import train_test_split\n",
    "X_train, X_test, y_train, y_test = train_test_split(\n",
    "    X, y,\n",
    "    test_size = 0.1,\n",
    "    random_state = 42\n",
    ")\n",
    "\n",
    "# train-test split PC data\n",
    "X_pc_train, X_pc_test = train_test_split(\n",
    "    pc_df,\n",
    "    test_size = 0.1,\n",
    "    random_state = 42\n",
    ")"
   ]
  },
  {
   "cell_type": "code",
   "execution_count": 263,
   "metadata": {},
   "outputs": [],
   "source": [
    "# store principal components as dataframe\n",
    "col_names = [\"pc\" + str(idx) for idx in range(1,pc.shape[1]+1)] # get PC names\n",
    "pc_df = pd.DataFrame(data=pc, columns=col_names)                # make dataframe\n",
    "data_final = songs_meta_filter_df.copy().join(pc_df)            # make copy of metadata df and append"
   ]
  },
  {
   "cell_type": "markdown",
   "metadata": {},
   "source": [
    "#### MULTIVARIATE LINEAR REGRESSION using original features"
   ]
  },
  {
   "cell_type": "code",
   "execution_count": 264,
   "metadata": {},
   "outputs": [
    {
     "data": {
      "text/plain": [
       "0.8811395499543282"
      ]
     },
     "execution_count": 264,
     "metadata": {},
     "output_type": "execute_result"
    }
   ],
   "source": [
    "from sklearn.linear_model import LinearRegression\n",
    "\n",
    "mlr = LinearRegression() # instantiate\n",
    "mlr.fit(X_all,y_all) # fit data\n",
    "y_pred = mlr.predict(X_all) # predict data\n",
    "\n",
    "from sklearn.metrics import r2_score\n",
    "r2_score(y_all,y_pred)"
   ]
  },
  {
   "cell_type": "code",
   "execution_count": 265,
   "metadata": {},
   "outputs": [
    {
     "data": {
      "text/plain": [
       "-0.004938392883587328"
      ]
     },
     "execution_count": 265,
     "metadata": {},
     "output_type": "execute_result"
    }
   ],
   "source": [
    "mlr = LinearRegression() # instantiate\n",
    "mlr.fit(X_train,y_train) # fit data\n",
    "y_pred = mlr.predict(X_test) # predict data\n",
    "r2_score(y_test,y_pred)"
   ]
  },
  {
   "cell_type": "code",
   "execution_count": 266,
   "metadata": {},
   "outputs": [],
   "source": [
    "# perform cross-validation\n"
   ]
  },
  {
   "cell_type": "markdown",
   "metadata": {},
   "source": [
    "#### MULTIVARIATE LINEAR REGRESSION using PCA features"
   ]
  },
  {
   "cell_type": "code",
   "execution_count": 267,
   "metadata": {},
   "outputs": [],
   "source": [
    "X = pc_df\n",
    "mlr_pca = LinearRegression() # instantiate\n",
    "mlr_pca.fit(X,y) # fit data\n",
    "y_pred = mlr_pca.predict(X) # predict data"
   ]
  },
  {
   "cell_type": "code",
   "execution_count": 268,
   "metadata": {
    "scrolled": true
   },
   "outputs": [
    {
     "data": {
      "text/plain": [
       "0.11670993160338328"
      ]
     },
     "execution_count": 268,
     "metadata": {},
     "output_type": "execute_result"
    }
   ],
   "source": [
    "r2_score(y,y_pred)"
   ]
  },
  {
   "cell_type": "markdown",
   "metadata": {},
   "source": [
    "#### K-NEAREST NEIGHBOR REGRESSOR"
   ]
  },
  {
   "cell_type": "code",
   "execution_count": 269,
   "metadata": {},
   "outputs": [
    {
     "data": {
      "image/png": "[encoded data removed]",
      "text/plain": [
       "<Figure size 432x288 with 1 Axes>"
      ]
     },
     "metadata": {
      "needs_background": "light"
     },
     "output_type": "display_data"
    }
   ],
   "source": [
    "from sklearn.model_selection import KFold, GridSearchCV\n",
    "from sklearn.neighbors import KNeighborsRegressor\n",
    "from sklearn.preprocessing import StandardScaler\n",
    "\n",
    "# Create kf instance \n",
    "kf = KFold(n_splits=10, shuffle=True, random_state=42)\n",
    "# Create knn instance \n",
    "knn = KNeighborsRegressor()\n",
    "# Create grid search instance \n",
    "gscv = GridSearchCV(knn, {\"n_neighbors\": range(1, 20)}, cv=kf, n_jobs=-1)\n",
    "gscv.fit(X_all, y_all)\n",
    "# Get cross-validation data\n",
    "cv_df = pd.DataFrame(gscv.cv_results_)\n",
    "# Get k values versus mean_test_scores\n",
    "cv_df.plot.line(x=\"param_n_neighbors\", y=\"mean_test_score\");"
   ]
  },
  {
   "cell_type": "markdown",
   "metadata": {},
   "source": [
    "#### RANDOM FOREST REGRESSOR"
   ]
  },
  {
   "cell_type": "code",
   "execution_count": 270,
   "metadata": {},
   "outputs": [
    {
     "data": {
      "text/html": [
       "<style  type=\"text/css\" >\n",
       "    #T_8c2d6318_14c5_11ea_9fa8_a45e60dfb011row0_col0 {\n",
       "            background-color:  #f10000;\n",
       "            color:  #f1f1f1;\n",
       "        }    #T_8c2d6318_14c5_11ea_9fa8_a45e60dfb011row1_col0 {\n",
       "            background-color:  #ff2d00;\n",
       "            color:  #f1f1f1;\n",
       "        }    #T_8c2d6318_14c5_11ea_9fa8_a45e60dfb011row2_col0 {\n",
       "            background-color:  #d30000;\n",
       "            color:  #f1f1f1;\n",
       "        }    #T_8c2d6318_14c5_11ea_9fa8_a45e60dfb011row3_col0 {\n",
       "            background-color:  #f10000;\n",
       "            color:  #f1f1f1;\n",
       "        }    #T_8c2d6318_14c5_11ea_9fa8_a45e60dfb011row4_col0 {\n",
       "            background-color:  #cccccc;\n",
       "            color:  #000000;\n",
       "        }    #T_8c2d6318_14c5_11ea_9fa8_a45e60dfb011row5_col0 {\n",
       "            background-color:  #b0ff00;\n",
       "            color:  #000000;\n",
       "        }    #T_8c2d6318_14c5_11ea_9fa8_a45e60dfb011row6_col0 {\n",
       "            background-color:  #cc3c3c;\n",
       "            color:  #f1f1f1;\n",
       "        }    #T_8c2d6318_14c5_11ea_9fa8_a45e60dfb011row7_col0 {\n",
       "            background-color:  #2cff00;\n",
       "            color:  #000000;\n",
       "        }    #T_8c2d6318_14c5_11ea_9fa8_a45e60dfb011row8_col0 {\n",
       "            background-color:  #ffc100;\n",
       "            color:  #000000;\n",
       "        }    #T_8c2d6318_14c5_11ea_9fa8_a45e60dfb011row9_col0 {\n",
       "            background-color:  #fcd200;\n",
       "            color:  #000000;\n",
       "        }    #T_8c2d6318_14c5_11ea_9fa8_a45e60dfb011row10_col0 {\n",
       "            background-color:  #00fa00;\n",
       "            color:  #000000;\n",
       "        }    #T_8c2d6318_14c5_11ea_9fa8_a45e60dfb011row11_col0 {\n",
       "            background-color:  #00e200;\n",
       "            color:  #000000;\n",
       "        }    #T_8c2d6318_14c5_11ea_9fa8_a45e60dfb011row12_col0 {\n",
       "            background-color:  #00ec00;\n",
       "            color:  #000000;\n",
       "        }    #T_8c2d6318_14c5_11ea_9fa8_a45e60dfb011row13_col0 {\n",
       "            background-color:  #008add;\n",
       "            color:  #000000;\n",
       "        }    #T_8c2d6318_14c5_11ea_9fa8_a45e60dfb011row14_col0 {\n",
       "            background-color:  #00c700;\n",
       "            color:  #000000;\n",
       "        }    #T_8c2d6318_14c5_11ea_9fa8_a45e60dfb011row15_col0 {\n",
       "            background-color:  #0000b9;\n",
       "            color:  #f1f1f1;\n",
       "        }    #T_8c2d6318_14c5_11ea_9fa8_a45e60dfb011row16_col0 {\n",
       "            background-color:  #0000b9;\n",
       "            color:  #f1f1f1;\n",
       "        }    #T_8c2d6318_14c5_11ea_9fa8_a45e60dfb011row17_col0 {\n",
       "            background-color:  #000000;\n",
       "            color:  #f1f1f1;\n",
       "        }    #T_8c2d6318_14c5_11ea_9fa8_a45e60dfb011row18_col0 {\n",
       "            background-color:  #009ecf;\n",
       "            color:  #000000;\n",
       "        }</style><table id=\"T_8c2d6318_14c5_11ea_9fa8_a45e60dfb011\" ><thead>    <tr>        <th class=\"blank level0\" ></th>        <th class=\"col_heading level0 col0\" >mean_test_score</th>    </tr>    <tr>        <th class=\"index_name level0\" >param_max_depth</th>        <th class=\"blank\" ></th>    </tr></thead><tbody>\n",
       "                <tr>\n",
       "                        <th id=\"T_8c2d6318_14c5_11ea_9fa8_a45e60dfb011level0_row0\" class=\"row_heading level0 row0\" >1</th>\n",
       "                        <td id=\"T_8c2d6318_14c5_11ea_9fa8_a45e60dfb011row0_col0\" class=\"data row0 col0\" >-0.008</td>\n",
       "            </tr>\n",
       "            <tr>\n",
       "                        <th id=\"T_8c2d6318_14c5_11ea_9fa8_a45e60dfb011level0_row1\" class=\"row_heading level0 row1\" >2</th>\n",
       "                        <td id=\"T_8c2d6318_14c5_11ea_9fa8_a45e60dfb011row1_col0\" class=\"data row1 col0\" >-0.01</td>\n",
       "            </tr>\n",
       "            <tr>\n",
       "                        <th id=\"T_8c2d6318_14c5_11ea_9fa8_a45e60dfb011level0_row2\" class=\"row_heading level0 row2\" >3</th>\n",
       "                        <td id=\"T_8c2d6318_14c5_11ea_9fa8_a45e60dfb011row2_col0\" class=\"data row2 col0\" >-0.005</td>\n",
       "            </tr>\n",
       "            <tr>\n",
       "                        <th id=\"T_8c2d6318_14c5_11ea_9fa8_a45e60dfb011level0_row3\" class=\"row_heading level0 row3\" >4</th>\n",
       "                        <td id=\"T_8c2d6318_14c5_11ea_9fa8_a45e60dfb011row3_col0\" class=\"data row3 col0\" >-0.008</td>\n",
       "            </tr>\n",
       "            <tr>\n",
       "                        <th id=\"T_8c2d6318_14c5_11ea_9fa8_a45e60dfb011level0_row4\" class=\"row_heading level0 row4\" >5</th>\n",
       "                        <td id=\"T_8c2d6318_14c5_11ea_9fa8_a45e60dfb011row4_col0\" class=\"data row4 col0\" >-0.001</td>\n",
       "            </tr>\n",
       "            <tr>\n",
       "                        <th id=\"T_8c2d6318_14c5_11ea_9fa8_a45e60dfb011level0_row5\" class=\"row_heading level0 row5\" >6</th>\n",
       "                        <td id=\"T_8c2d6318_14c5_11ea_9fa8_a45e60dfb011row5_col0\" class=\"data row5 col0\" >-0.02</td>\n",
       "            </tr>\n",
       "            <tr>\n",
       "                        <th id=\"T_8c2d6318_14c5_11ea_9fa8_a45e60dfb011level0_row6\" class=\"row_heading level0 row6\" >7</th>\n",
       "                        <td id=\"T_8c2d6318_14c5_11ea_9fa8_a45e60dfb011row6_col0\" class=\"data row6 col0\" >-0.003</td>\n",
       "            </tr>\n",
       "            <tr>\n",
       "                        <th id=\"T_8c2d6318_14c5_11ea_9fa8_a45e60dfb011level0_row7\" class=\"row_heading level0 row7\" >8</th>\n",
       "                        <td id=\"T_8c2d6318_14c5_11ea_9fa8_a45e60dfb011row7_col0\" class=\"data row7 col0\" >-0.022</td>\n",
       "            </tr>\n",
       "            <tr>\n",
       "                        <th id=\"T_8c2d6318_14c5_11ea_9fa8_a45e60dfb011level0_row8\" class=\"row_heading level0 row8\" >9</th>\n",
       "                        <td id=\"T_8c2d6318_14c5_11ea_9fa8_a45e60dfb011row8_col0\" class=\"data row8 col0\" >-0.014</td>\n",
       "            </tr>\n",
       "            <tr>\n",
       "                        <th id=\"T_8c2d6318_14c5_11ea_9fa8_a45e60dfb011level0_row9\" class=\"row_heading level0 row9\" >10</th>\n",
       "                        <td id=\"T_8c2d6318_14c5_11ea_9fa8_a45e60dfb011row9_col0\" class=\"data row9 col0\" >-0.015</td>\n",
       "            </tr>\n",
       "            <tr>\n",
       "                        <th id=\"T_8c2d6318_14c5_11ea_9fa8_a45e60dfb011level0_row10\" class=\"row_heading level0 row10\" >11</th>\n",
       "                        <td id=\"T_8c2d6318_14c5_11ea_9fa8_a45e60dfb011row10_col0\" class=\"data row10 col0\" >-0.023</td>\n",
       "            </tr>\n",
       "            <tr>\n",
       "                        <th id=\"T_8c2d6318_14c5_11ea_9fa8_a45e60dfb011level0_row11\" class=\"row_heading level0 row11\" >12</th>\n",
       "                        <td id=\"T_8c2d6318_14c5_11ea_9fa8_a45e60dfb011row11_col0\" class=\"data row11 col0\" >-0.025</td>\n",
       "            </tr>\n",
       "            <tr>\n",
       "                        <th id=\"T_8c2d6318_14c5_11ea_9fa8_a45e60dfb011level0_row12\" class=\"row_heading level0 row12\" >13</th>\n",
       "                        <td id=\"T_8c2d6318_14c5_11ea_9fa8_a45e60dfb011row12_col0\" class=\"data row12 col0\" >-0.024</td>\n",
       "            </tr>\n",
       "            <tr>\n",
       "                        <th id=\"T_8c2d6318_14c5_11ea_9fa8_a45e60dfb011level0_row13\" class=\"row_heading level0 row13\" >14</th>\n",
       "                        <td id=\"T_8c2d6318_14c5_11ea_9fa8_a45e60dfb011row13_col0\" class=\"data row13 col0\" >-0.04</td>\n",
       "            </tr>\n",
       "            <tr>\n",
       "                        <th id=\"T_8c2d6318_14c5_11ea_9fa8_a45e60dfb011level0_row14\" class=\"row_heading level0 row14\" >15</th>\n",
       "                        <td id=\"T_8c2d6318_14c5_11ea_9fa8_a45e60dfb011row14_col0\" class=\"data row14 col0\" >-0.027</td>\n",
       "            </tr>\n",
       "            <tr>\n",
       "                        <th id=\"T_8c2d6318_14c5_11ea_9fa8_a45e60dfb011level0_row15\" class=\"row_heading level0 row15\" >16</th>\n",
       "                        <td id=\"T_8c2d6318_14c5_11ea_9fa8_a45e60dfb011row15_col0\" class=\"data row15 col0\" >-0.046</td>\n",
       "            </tr>\n",
       "            <tr>\n",
       "                        <th id=\"T_8c2d6318_14c5_11ea_9fa8_a45e60dfb011level0_row16\" class=\"row_heading level0 row16\" >17</th>\n",
       "                        <td id=\"T_8c2d6318_14c5_11ea_9fa8_a45e60dfb011row16_col0\" class=\"data row16 col0\" >-0.046</td>\n",
       "            </tr>\n",
       "            <tr>\n",
       "                        <th id=\"T_8c2d6318_14c5_11ea_9fa8_a45e60dfb011level0_row17\" class=\"row_heading level0 row17\" >18</th>\n",
       "                        <td id=\"T_8c2d6318_14c5_11ea_9fa8_a45e60dfb011row17_col0\" class=\"data row17 col0\" >-0.055</td>\n",
       "            </tr>\n",
       "            <tr>\n",
       "                        <th id=\"T_8c2d6318_14c5_11ea_9fa8_a45e60dfb011level0_row18\" class=\"row_heading level0 row18\" >19</th>\n",
       "                        <td id=\"T_8c2d6318_14c5_11ea_9fa8_a45e60dfb011row18_col0\" class=\"data row18 col0\" >-0.038</td>\n",
       "            </tr>\n",
       "    </tbody></table>"
      ],
      "text/plain": [
       "<pandas.io.formats.style.Styler at 0x1a2debf0f0>"
      ]
     },
     "execution_count": 270,
     "metadata": {},
     "output_type": "execute_result"
    }
   ],
   "source": [
    "from sklearn.model_selection import KFold, GridSearchCV\n",
    "from sklearn.ensemble import RandomForestRegressor\n",
    "\n",
    "# Create kf instance \n",
    "kf = KFold(n_splits=10, shuffle=True, random_state=42)\n",
    "# Create rf instance \n",
    "rf = RandomForestRegressor(n_estimators=20)\n",
    "# Create grid search instance \n",
    "gscv = GridSearchCV(\n",
    "    rf, \n",
    "    {\"max_depth\": range(1, 20)},\n",
    "    cv=kf, \n",
    "    n_jobs=-1\n",
    ")\n",
    "gscv.fit(X_all, y_all)\n",
    "# Get cross-validation data\n",
    "cv_df = pd.DataFrame(gscv.cv_results_)\n",
    "\n",
    "# Create a heatmap-style table\n",
    "piv_df = cv_df.pivot_table(index=[\"param_max_depth\"],\n",
    "           values=\"mean_test_score\").round(3)\n",
    "piv_df.style.background_gradient(cmap=\"nipy_spectral\", axis=None)"
   ]
  },
  {
   "cell_type": "markdown",
   "metadata": {},
   "source": [
    "## Build classifiers to predict chart rank category and decade"
   ]
  },
  {
   "cell_type": "code",
   "execution_count": 271,
   "metadata": {},
   "outputs": [],
   "source": [
    "# all data\n",
    "X_all = df_features\n",
    "y_all = songs_meta_filter_df[\"decade\"]\n",
    "\n",
    "# train-test split data\n",
    "from sklearn.model_selection import train_test_split\n",
    "X_train, X_test, y_train, y_test = train_test_split(\n",
    "    X, y,\n",
    "    test_size = 0.1,\n",
    "    random_state = 42\n",
    ")\n",
    "\n",
    "# train-test split PC data\n",
    "X_pc_train, X_pc_test = train_test_split(\n",
    "    pc_df,\n",
    "    test_size = 0.1,\n",
    "    random_state = 42\n",
    ")"
   ]
  },
  {
   "cell_type": "code",
   "execution_count": 272,
   "metadata": {
    "scrolled": false
   },
   "outputs": [
    {
     "data": {
      "image/png": "[encoded data removed]",
      "text/plain": [
       "<Figure size 432x288 with 1 Axes>"
      ]
     },
     "metadata": {
      "needs_background": "light"
     },
     "output_type": "display_data"
    }
   ],
   "source": [
    "from sklearn.neighbors import KNeighborsClassifier\n",
    "\n",
    "# Create kf instance \n",
    "kf = KFold(n_splits=10, shuffle=True, random_state=42)\n",
    "# Create knn instance \n",
    "knn = KNeighborsClassifier()\n",
    "# Create grid search instance \n",
    "gscv = GridSearchCV(knn, {\"n_neighbors\": range(1, 20)}, cv=kf, n_jobs=-1)\n",
    "gscv.fit(X_all, y_all)\n",
    "# Get cross-validation data\n",
    "cv_df = pd.DataFrame(gscv.cv_results_)\n",
    "# Get k values versus mean_test_scores\n",
    "cv_df.plot.line(x=\"param_n_neighbors\", y=\"mean_test_score\");"
   ]
  },
  {
   "cell_type": "code",
   "execution_count": 275,
   "metadata": {},
   "outputs": [],
   "source": [
    "# TODO: test out knn classifier with n_neighbors = 9"
   ]
  },
  {
   "cell_type": "markdown",
   "metadata": {},
   "source": [
    "## Trash"
   ]
  },
  {
   "cell_type": "code",
   "execution_count": 173,
   "metadata": {},
   "outputs": [],
   "source": [
    "# def parse_data(path):\n",
    "#     # initialize global lists\n",
    "#     all_chord = []\n",
    "#     all_quality = []\n",
    "#     # read chord file line by line\n",
    "#     with open(path) as fp:\n",
    "#         # iterate over every line\n",
    "#         for line in fp:\n",
    "#             # set new tonic, if applicable\n",
    "#             if \"# tonic:\" in line:\n",
    "#                 tonic = CHORD_DICT[line.rsplit(\" \")[-1][:-1]]\n",
    "#             # initialize line-specific lists\n",
    "#             chord_line = []\n",
    "#             quality_line = []\n",
    "#             # find all indices where there is a \"|\"\n",
    "#             idx_bar = [pos for pos, char in enumerate(line) if char == \"|\"]\n",
    "#             # iterate over bars\n",
    "#             for i in range(len(idx_bar)-1):\n",
    "#                 # select a bar from the whole line\n",
    "#                 bar = line[idx_bar[i]+1:idx_bar[i+1]]\n",
    "#                 # find all indices where there is a \":\"\n",
    "#                 idx_chord = [pos for pos, char in enumerate(bar) if char == \":\"]\n",
    "#                 # iterate over chords in a bar\n",
    "#                 for j in idx_chord:\n",
    "#                     # grab chord (convert to numeral relative to tonic)\n",
    "#                     chord = \"\"\n",
    "#                     offset = 1\n",
    "#                     my_char = bar[j-offset]\n",
    "#                     while my_char != \" \":\n",
    "#                         chord += my_char\n",
    "#                         offset += 1\n",
    "#                         my_char = bar[j-offset]\n",
    "#                     chord_num = CHORD_DICT[chord[::-1]]\n",
    "#                     chord_rel = chord_num - tonic\n",
    "#                     if chord_rel < 0:\n",
    "#                         chord_line.append(chord_rel + 12)\n",
    "#                     else:\n",
    "#                         chord_line.append(chord_rel)\n",
    "\n",
    "#                     # grab chord quality\n",
    "#                     quality = \"\"\n",
    "#                     offset = 1\n",
    "#                     my_char = bar[j+offset]\n",
    "#                     while my_char != \" \":\n",
    "#                         quality += my_char\n",
    "#                         offset += 1\n",
    "#                         my_char = bar[j+offset]\n",
    "#                     quality_line.append(quality)\n",
    "#             # append to global list\n",
    "#             if chord_line:\n",
    "#                 all_chord.append(chord_line)\n",
    "#             if quality_line:\n",
    "#                 all_quality.append(quality_line)\n",
    "    \n",
    "#     return all_chord, all_quality"
   ]
  },
  {
   "cell_type": "code",
   "execution_count": 96,
   "metadata": {},
   "outputs": [],
   "source": [
    "# start = time.time() # start time\n",
    "\n",
    "# # instantiate feature dataframe for all songs\n",
    "# df_features2 = pd.DataFrame()\n",
    "# # iterate over all song chord progressions\n",
    "# for idx, song_seq in enumerate(song_seq_all):\n",
    "#     # iterate over all key/value pairs\n",
    "#     for kv in song_seq.items():\n",
    "#         # populate dataframe\n",
    "#         df_features2.loc[idx,str(kv[0])] = kv[1]\n",
    "\n",
    "# end = time.time() # end time\n",
    "# print(end - start) # time elapsed\n",
    "\n",
    "# # fill NaN values with 0\n",
    "# df_features2 = df_features.fillna(value=0)\n",
    "\n",
    "# # join df_features with song_meta_filter_df\n",
    "# df_features2 = songs_meta_filter_df.copy().join(df_features)"
   ]
  }
 ],
 "metadata": {
  "kernelspec": {
   "display_name": "Python 3",
   "language": "python",
   "name": "python3"
  },
  "language_info": {
   "codemirror_mode": {
    "name": "ipython",
    "version": 3
   },
   "file_extension": ".py",
   "mimetype": "text/x-python",
   "name": "python",
   "nbconvert_exporter": "python",
   "pygments_lexer": "ipython3",
   "version": "3.6.9"
  }
 },
 "nbformat": 4,
 "nbformat_minor": 4
}
