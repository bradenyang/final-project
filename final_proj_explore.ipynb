{
 "cells": [
  {
   "cell_type": "markdown",
   "metadata": {},
   "source": [
    "## TODO\n",
    " - Convert chord letters to numerals based on home key\n",
    "     - handle key changes?\n",
    " - Handle enharmonics\n",
    " - Parse through all songs that have data (refer to the CSV)"
   ]
  },
  {
   "cell_type": "markdown",
   "metadata": {},
   "source": [
    "## Import modules"
   ]
  },
  {
   "cell_type": "code",
   "execution_count": 18,
   "metadata": {},
   "outputs": [],
   "source": [
    "import numpy as np\n",
    "import pandas as pd"
   ]
  },
  {
   "cell_type": "markdown",
   "metadata": {},
   "source": [
    "## Define global variables"
   ]
  },
  {
   "cell_type": "code",
   "execution_count": 49,
   "metadata": {},
   "outputs": [],
   "source": [
    "# dictionary of chord (key) to numeral (value)\n",
    "CHORD_DICT = {\n",
    "    'A':0,\n",
    "    'A#':1,\n",
    "    'Bb':1,\n",
    "    'B':2,\n",
    "    'Cb':2,\n",
    "    'C':3,\n",
    "    'C#':4,\n",
    "    'Db':4,\n",
    "    'D':5,\n",
    "    'D#':6,\n",
    "    'Eb':6,\n",
    "    'E':7,\n",
    "    'Fb':7,\n",
    "    'F':8,\n",
    "    'F#':9,\n",
    "    'Gb':8,\n",
    "    'G':10,\n",
    "    'G#':11,\n",
    "    'Ab':11,\n",
    "}"
   ]
  },
  {
   "cell_type": "markdown",
   "metadata": {},
   "source": [
    "## Define Data Parser Function"
   ]
  },
  {
   "cell_type": "code",
   "execution_count": 78,
   "metadata": {},
   "outputs": [],
   "source": [
    "def parse_data(path):\n",
    "    # initialize global lists\n",
    "    all_chord = []\n",
    "    all_quality = []\n",
    "    # read chord file line by line\n",
    "    with open(path) as fp:\n",
    "        # iterate over every line\n",
    "        for line in fp:\n",
    "            # set new tonic, if applicable\n",
    "            if \"# tonic:\" in line:\n",
    "                tonic = CHORD_DICT[line.rsplit(\" \")[-1][:-1]]\n",
    "                print(tonic)\n",
    "            # initialize line-specific lists\n",
    "            chord_line = []\n",
    "            quality_line = []\n",
    "            # find all indices where there is a \"|\"\n",
    "            idx_bar = [pos for pos, char in enumerate(line) if char == \"|\"]\n",
    "            # iterate over bars\n",
    "            for i in range(len(idx_bar)-1):\n",
    "                # select a bar from the whole line\n",
    "                bar = line[idx_bar[i]+1:idx_bar[i+1]]\n",
    "                # find all indices where there is a \":\"\n",
    "                idx_chord = [pos for pos, char in enumerate(bar) if char == \":\"]\n",
    "                # iterate over chords in a bar\n",
    "                for j in idx_chord:\n",
    "                    # grab chord (convert to numeral relative to tonic)\n",
    "                    chord = \"\"\n",
    "                    offset = 1\n",
    "                    my_char = bar[j-offset]\n",
    "                    while my_char != \" \":\n",
    "                        chord += my_char\n",
    "                        offset += 1\n",
    "                        my_char = bar[j-offset]\n",
    "                    chord_num = CHORD_DICT[chord[::-1]]\n",
    "                    chord_rel = chord_num - tonic\n",
    "                    if chord_rel < 0:\n",
    "                        chord_line.append(chord_rel + 12)\n",
    "                    else:\n",
    "                        chord_line.append(chord_rel)\n",
    "\n",
    "                    # grab chord quality\n",
    "                    quality = \"\"\n",
    "                    offset = 1\n",
    "                    my_char = bar[j+offset]\n",
    "                    while my_char != \" \":\n",
    "                        quality += my_char\n",
    "                        offset += 1\n",
    "                        my_char = bar[j+offset]\n",
    "                    quality_line.append(quality)\n",
    "            # append to global list\n",
    "            if chord_line:\n",
    "                all_chord.append(chord_line)\n",
    "            if quality_line:\n",
    "                all_quality.append(quality_line)\n",
    "    \n",
    "    return all_chord, all_quality"
   ]
  },
  {
   "cell_type": "code",
   "execution_count": null,
   "metadata": {},
   "outputs": [],
   "source": [
    "# a more elegant parser using built-in str functions such as rsplit\n",
    "def parse_data_temp(path):"
   ]
  },
  {
   "cell_type": "markdown",
   "metadata": {},
   "source": [
    "## Load in CSV file of all songs"
   ]
  },
  {
   "cell_type": "code",
   "execution_count": 4,
   "metadata": {},
   "outputs": [],
   "source": [
    "# load CSV\n",
    "songs_df = pd.read_csv(\"data/billboard-2.0-index.csv\");"
   ]
  },
  {
   "cell_type": "code",
   "execution_count": 13,
   "metadata": {},
   "outputs": [],
   "source": [
    "# filter out rows that have NaN in the \"actual_rank\" column\n",
    "songs_filter_df = songs_df[songs_df.actual_rank.notnull()]"
   ]
  },
  {
   "cell_type": "code",
   "execution_count": 23,
   "metadata": {},
   "outputs": [],
   "source": [
    "# get song indices\n",
    "song_id = songs_filter_df.id.as_matrix()"
   ]
  },
  {
   "cell_type": "markdown",
   "metadata": {},
   "source": [
    "## Make integer keys for all unique chords/qualities"
   ]
  },
  {
   "cell_type": "code",
   "execution_count": 26,
   "metadata": {},
   "outputs": [],
   "source": [
    "all_chord = []\n",
    "all_quality = []\n",
    "# iterate through all songs\n",
    "for song in song_id:\n",
    "    chord, quality = parse_data(f\"/Users/bradenyang/biof509/final-project/data/McGill-Billboard/{str(song).zfill(4)}/salami_chords.txt\")\n",
    "    for i in range(len(chord)):\n",
    "        all_chord += chord[i]\n",
    "        all_quality += quality[i]\n",
    "\n",
    "chord_unique = set(all_chord)\n",
    "quality_unique = set(all_quality)"
   ]
  },
  {
   "cell_type": "markdown",
   "metadata": {},
   "source": [
    "## Scratch"
   ]
  },
  {
   "cell_type": "code",
   "execution_count": 21,
   "metadata": {},
   "outputs": [],
   "source": [
    "my_str = \"123.887596371\t| G:maj | G:maj | C:maj | C:maj |, voice)\""
   ]
  },
  {
   "cell_type": "code",
   "execution_count": 28,
   "metadata": {},
   "outputs": [],
   "source": [
    "idx = [pos for pos, char in enumerate(my_str) if char == \"|\"]"
   ]
  },
  {
   "cell_type": "code",
   "execution_count": 34,
   "metadata": {},
   "outputs": [
    {
     "data": {
      "text/plain": [
       "2"
      ]
     },
     "execution_count": 34,
     "metadata": {},
     "output_type": "execute_result"
    }
   ],
   "source": [
    "my_str[idx[0]+1:idx[1]]"
   ]
  },
  {
   "cell_type": "code",
   "execution_count": 43,
   "metadata": {},
   "outputs": [],
   "source": [
    "foo = \"\""
   ]
  },
  {
   "cell_type": "code",
   "execution_count": 45,
   "metadata": {},
   "outputs": [],
   "source": [
    "foo += \"s\""
   ]
  },
  {
   "cell_type": "code",
   "execution_count": 46,
   "metadata": {},
   "outputs": [
    {
     "data": {
      "text/plain": [
       "'s'"
      ]
     },
     "execution_count": 46,
     "metadata": {},
     "output_type": "execute_result"
    }
   ],
   "source": [
    "foo"
   ]
  },
  {
   "cell_type": "code",
   "execution_count": 41,
   "metadata": {},
   "outputs": [],
   "source": [
    "foo.append(\"t\")"
   ]
  },
  {
   "cell_type": "code",
   "execution_count": 58,
   "metadata": {},
   "outputs": [],
   "source": [
    "my_str = \" A:sus4(b7,9) \""
   ]
  },
  {
   "cell_type": "code",
   "execution_count": 64,
   "metadata": {},
   "outputs": [],
   "source": [
    "x = my_str.rsplit(\":\")"
   ]
  },
  {
   "cell_type": "code",
   "execution_count": 66,
   "metadata": {},
   "outputs": [
    {
     "data": {
      "text/plain": [
       "'sus4(b7,9) '"
      ]
     },
     "execution_count": 66,
     "metadata": {},
     "output_type": "execute_result"
    }
   ],
   "source": [
    "x[-1]"
   ]
  },
  {
   "cell_type": "code",
   "execution_count": 62,
   "metadata": {},
   "outputs": [
    {
     "data": {
      "text/plain": [
       "'3 4 6 7'"
      ]
     },
     "execution_count": 62,
     "metadata": {},
     "output_type": "execute_result"
    }
   ],
   "source": [
    "\" 3 4 6 7\".strip()"
   ]
  },
  {
   "cell_type": "code",
   "execution_count": 79,
   "metadata": {},
   "outputs": [
    {
     "name": "stdout",
     "output_type": "stream",
     "text": [
      "5\n",
      "1\n",
      "5\n"
     ]
    }
   ],
   "source": [
    "chord, quality = parse_data(f\"/Users/bradenyang/biof509/final-project/data/McGill-Billboard/0260/salami_chords.txt\")"
   ]
  },
  {
   "cell_type": "code",
   "execution_count": 77,
   "metadata": {},
   "outputs": [
    {
     "data": {
      "text/plain": [
       "[[2, 2, 2, 2],\n",
       " [2, 2, 0, 0],\n",
       " [2, 2, 0, 0],\n",
       " [2, 7, 0, 0],\n",
       " [2, 7, 9, 9],\n",
       " [2, 2, 0, 0],\n",
       " [2, 2, 0, 0],\n",
       " [2, 7, 0, 0],\n",
       " [2, 7, 9, 9],\n",
       " [0, 7, 5, 0, 0, 7, 5, 0],\n",
       " [0, 7, 5, 0, 0, 7, 5],\n",
       " [9, 11, 11],\n",
       " [2, 7, 0, 0],\n",
       " [2, 7, 9, 9],\n",
       " [2, 7, 0, 0],\n",
       " [2, 7, 9, 9],\n",
       " [2, 7, 0, 0],\n",
       " [2, 7, 0, 0],\n",
       " [2, 7, 9, 9]]"
      ]
     },
     "execution_count": 77,
     "metadata": {},
     "output_type": "execute_result"
    }
   ],
   "source": [
    "chord"
   ]
  },
  {
   "cell_type": "code",
   "execution_count": 74,
   "metadata": {},
   "outputs": [
    {
     "name": "stdout",
     "output_type": "stream",
     "text": [
      "D\n"
     ]
    }
   ],
   "source": [
    "print(my_str[:-1])"
   ]
  },
  {
   "cell_type": "code",
   "execution_count": null,
   "metadata": {},
   "outputs": [],
   "source": []
  }
 ],
 "metadata": {
  "kernelspec": {
   "display_name": "Python 3",
   "language": "python",
   "name": "python3"
  },
  "language_info": {
   "codemirror_mode": {
    "name": "ipython",
    "version": 3
   },
   "file_extension": ".py",
   "mimetype": "text/x-python",
   "name": "python",
   "nbconvert_exporter": "python",
   "pygments_lexer": "ipython3",
   "version": "3.6.9"
  }
 },
 "nbformat": 4,
 "nbformat_minor": 2
}
