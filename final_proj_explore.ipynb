{
 "cells": [
  {
   "cell_type": "markdown",
   "metadata": {},
   "source": [
    "## TODO\n",
    " - Handle repeated chords (*)\n",
    " - Find out what these chords mean: 1, 5\n",
    " - Normalize sequence counts based on the total number of sequences of a specific length (to account for song size)\n",
    " - Apply PCA on chord progressions features to reduce dimensionality"
   ]
  },
  {
   "cell_type": "markdown",
   "metadata": {},
   "source": [
    "## Import modules"
   ]
  },
  {
   "cell_type": "code",
   "execution_count": 161,
   "metadata": {},
   "outputs": [],
   "source": [
    "import numpy as np\n",
    "import pandas as pd\n",
    "import os.path\n",
    "# import sklearn"
   ]
  },
  {
   "cell_type": "markdown",
   "metadata": {},
   "source": [
    "## Define global variables"
   ]
  },
  {
   "cell_type": "code",
   "execution_count": 164,
   "metadata": {},
   "outputs": [],
   "source": [
    "# dictionary of chord (key) to numeral (value)\n",
    "CHORD_DICT = {\n",
    "    'A':0,\n",
    "    'A#':1,\n",
    "    'Bb':1,\n",
    "    'B':2,\n",
    "    'Cb':2,\n",
    "    'C':3,\n",
    "    'C#':4,\n",
    "    'Db':4,\n",
    "    'D':5,\n",
    "    'D#':6,\n",
    "    'Eb':6,\n",
    "    'E':7,\n",
    "    'Fb':7,\n",
    "    'F':8,\n",
    "    'F#':9,\n",
    "    'Gb':8,\n",
    "    'G':10,\n",
    "    'G#':11,\n",
    "    'Ab':11,\n",
    "}\n",
    "\n",
    "# absolute path to McGill Billboard data\n",
    "MCGILL_PATH = os.path.expanduser(\"~\") + \"/biof509/final-project/data/McGill-Billboard\"\n",
    "\n",
    "# bool to indicate whether to simplify quality of chords\n",
    "QUALITY_SIMPLIFY = True\n",
    "\n",
    "# bool to indicate whether to normalize data based on "
   ]
  },
  {
   "cell_type": "markdown",
   "metadata": {},
   "source": [
    "## Define Data Parser Functions"
   ]
  },
  {
   "cell_type": "code",
   "execution_count": 165,
   "metadata": {},
   "outputs": [],
   "source": [
    "def convert_numeral(chord,tonic):\n",
    "    \"\"\"\n",
    "    Function convert_numeral converts a chord (string) into a\n",
    "    numeric representation (int) that is relative to the tonic key (string)\n",
    "    \n",
    "    For example, if chord = \"F\" and tonic = \"Bb\", then the output would be\n",
    "    the integer 7\n",
    "    -----------------------\n",
    "    Input\n",
    "        chord: string of the chord to be converted to a numeral\n",
    "        tonic: string of the tonic key\n",
    "    Output\n",
    "        numeral: int representation of \"chord\"\n",
    "    \"\"\"\n",
    "    numeral = CHORD_DICT[chord] - CHORD_DICT[tonic]\n",
    "    if numeral < 0:\n",
    "        return numeral + 12\n",
    "    else:\n",
    "        return numeral\n",
    "\n",
    "def parse_data(path):\n",
    "    \"\"\"\n",
    "    Funtion parse_data parses text file provided from the McGill Billboard\n",
    "    project and returns two lists of lists containing a sequence of chords\n",
    "    and their qualities respectively\n",
    "    -----------------------\n",
    "    Input\n",
    "        path: string containing absolute path to text file to parse\n",
    "    \n",
    "    Output\n",
    "        chords: list of lists; each inner list corresponds to a chord sequence\n",
    "            in an individual line of the song, and contains 2-element tuples\n",
    "            that give the relative chord numeral and its quality\n",
    "    \"\"\"\n",
    "    # initialize global list\n",
    "    chords = []\n",
    "    # iterate over every line\n",
    "    for line in open(path):\n",
    "        # set new tonic, if applicable\n",
    "        if \"# tonic:\" in line:\n",
    "            tonic = line.rsplit(\" \")[-1][:-1]\n",
    "        # initialize line-specific lists\n",
    "        chords_line = []\n",
    "        # split bars (separated by \"|\")\n",
    "        bars = line.rsplit(\"|\")[1:-1]\n",
    "        # iterate over bars\n",
    "        for bar in bars:\n",
    "            # split chords+quality (separated by space)\n",
    "            cqs = bar.rsplit(\" \")[1:-1]\n",
    "            # iterate over chords+quality\n",
    "            for cq in cqs:\n",
    "                # check for existence of \":\"\n",
    "                if \":\" in cq:\n",
    "                    # get chord and convert to relative numeral\n",
    "                    c = convert_numeral(cq.rsplit(\":\")[0],tonic)\n",
    "                    # get quality\n",
    "                    q = cq.rsplit(\":\")[-1]\n",
    "                    if QUALITY_SIMPLIFY:\n",
    "                        q = q.split(\"(\")[0]\n",
    "                        q = q.split(\"/\")[0]\n",
    "                    # append to line list as tuple\n",
    "                    chords_line.append((c,q))\n",
    "        # append line list to global list (ignore empty lines)\n",
    "        if chords_line:\n",
    "            chords.append(chords_line)\n",
    "\n",
    "    return chords"
   ]
  },
  {
   "cell_type": "markdown",
   "metadata": {},
   "source": [
    "## Define feature extractor functions"
   ]
  },
  {
   "cell_type": "code",
   "execution_count": 166,
   "metadata": {},
   "outputs": [],
   "source": [
    "def get_chord_seq(chords,seq_len):\n",
    "    \"\"\"\n",
    "    TODO\n",
    "    -----------------------\n",
    "    Input\n",
    "        chords: --\n",
    "        seq_len: --\n",
    "    \n",
    "    Output\n",
    "        seq_dict: --\n",
    "    \"\"\"\n",
    "    # initialize dict\n",
    "    seq_dict = {}\n",
    "    # iterate over lines\n",
    "    for line in chords:\n",
    "        # if length of sequence greater than length of line, ignore line\n",
    "        if seq_len > len(line):\n",
    "            pass\n",
    "        else:\n",
    "            # raster over sequences and store in dict\n",
    "            for i in range(len(line) - seq_len + 1):\n",
    "                seq = tuple(line[i:(i+seq_len)]) # get sequence as tuple\n",
    "                if seq in seq_dict:\n",
    "                    seq_dict[seq] += 1\n",
    "                else:\n",
    "                    seq_dict[seq] = 1\n",
    "   \n",
    "    return seq_dict"
   ]
  },
  {
   "cell_type": "markdown",
   "metadata": {},
   "source": [
    "## Load in CSV file of metadata"
   ]
  },
  {
   "cell_type": "code",
   "execution_count": 167,
   "metadata": {},
   "outputs": [],
   "source": [
    "# load CSV\n",
    "songs_df = pd.read_csv(\"data/billboard-2.0-index.csv\");\n",
    "\n",
    "# filter out rows that have NaN in the \"actual_rank\" column\n",
    "songs_filter_df = songs_df[songs_df.actual_rank.notnull()].copy()\n",
    "\n",
    "# get song indices\n",
    "song_id = songs_filter_df.id.values"
   ]
  },
  {
   "cell_type": "markdown",
   "metadata": {},
   "source": [
    "## Parse all text files"
   ]
  },
  {
   "cell_type": "code",
   "execution_count": 168,
   "metadata": {},
   "outputs": [],
   "source": [
    "# initialize dicts to keep track of global counts\n",
    "num_cq = {}\n",
    "num_chord = {}\n",
    "num_quality = {}\n",
    "\n",
    "# initialize list of dicts to keep track of song chord sequences\n",
    "song_seq_all = []"
   ]
  },
  {
   "cell_type": "code",
   "execution_count": 169,
   "metadata": {},
   "outputs": [],
   "source": [
    "# iterate through all songs\n",
    "for song in song_id:\n",
    "    # parse song\n",
    "    chords = parse_data(MCGILL_PATH + f\"/{str(song).zfill(4)}/salami_chords.txt\")\n",
    "    \n",
    "    # -------- EXTRACT SONG-SPECIFIC CHORD SEQUENCES --------\n",
    "    # initialize song chord sequence dict\n",
    "    song_seq = {}\n",
    "    \n",
    "    # iterate over different sequence lengths, add to song_seq\n",
    "    for seq_len in range(1,5):\n",
    "        dict_temp = get_chord_seq(chords,seq_len)\n",
    "        song_seq.update(dict_temp)\n",
    "    \n",
    "    # append song_seq to song_seq_all\n",
    "    song_seq_all.append(song_seq)\n",
    "    \n",
    "    # ----------------- FIND GLOBAL COUNTS ------------------\n",
    "    # iterate through lines in a song\n",
    "    for line in chords:\n",
    "        # iterate through individual chords\n",
    "        for chord in line:\n",
    "            # populate dicts\n",
    "            if chord in num_cq:\n",
    "                num_cq[chord] += 1\n",
    "            else:\n",
    "                num_cq[chord] = 1\n",
    "            \n",
    "            if chord[0] in num_chord:\n",
    "                num_chord[chord[0]] += 1\n",
    "            else:\n",
    "                num_chord[chord[0]] = 1\n",
    "            \n",
    "            if chord[1] in num_quality:\n",
    "                num_quality[chord[1]] += 1\n",
    "            else:\n",
    "                num_quality[chord[1]] = 1"
   ]
  },
  {
   "cell_type": "code",
   "execution_count": 170,
   "metadata": {},
   "outputs": [],
   "source": [
    "# sort key-value pairs by values\n",
    "cq_sort = sorted(num_cq.items(), key = lambda kv: kv[1], reverse=True)\n",
    "quality_sort = sorted(num_quality.items(), key = lambda kv: kv[1], reverse=True)\n",
    "chord_sort = sorted(num_chord.items(), key = lambda kv: kv[1], reverse=True)"
   ]
  },
  {
   "cell_type": "code",
   "execution_count": 171,
   "metadata": {},
   "outputs": [],
   "source": [
    "# get all unique chord progressions\n",
    "temp = {}\n",
    "for song_seq in song_seq_all:\n",
    "    temp.update(song_seq)\n",
    "seq_unique = temp.keys()"
   ]
  },
  {
   "cell_type": "markdown",
   "metadata": {},
   "source": [
    "## Add chord sequence features to pandas dataframe"
   ]
  },
  {
   "cell_type": "code",
   "execution_count": 172,
   "metadata": {},
   "outputs": [],
   "source": [
    "# iterate over all song chord progressions\n",
    "for idx, song_seq in enumerate(song_seq_all):\n",
    "    # iterate over all key/value pairs\n",
    "    for kv in song_seq.items():\n",
    "        # check if column exists; if so, populate; if not, add column then populate\n",
    "        if kv[0] in songs_filter_df:\n",
    "            songs_filter_df.loc[idx,kv[0]] = kv[1]\n",
    "        else:\n",
    "            songs_filter_df[kv[0]] = 0\n",
    "            songs_filter_df.loc[idx,kv[0]] = kv[1]"
   ]
  },
  {
   "cell_type": "markdown",
   "metadata": {},
   "source": [
    "## Apply PCA on chord progression features"
   ]
  },
  {
   "cell_type": "markdown",
   "metadata": {},
   "source": [
    "## Build predictive models"
   ]
  },
  {
   "cell_type": "markdown",
   "metadata": {},
   "source": [
    "## Scratch"
   ]
  },
  {
   "cell_type": "markdown",
   "metadata": {},
   "source": [
    "## Trash"
   ]
  },
  {
   "cell_type": "code",
   "execution_count": 173,
   "metadata": {},
   "outputs": [],
   "source": [
    "# def parse_data(path):\n",
    "#     # initialize global lists\n",
    "#     all_chord = []\n",
    "#     all_quality = []\n",
    "#     # read chord file line by line\n",
    "#     with open(path) as fp:\n",
    "#         # iterate over every line\n",
    "#         for line in fp:\n",
    "#             # set new tonic, if applicable\n",
    "#             if \"# tonic:\" in line:\n",
    "#                 tonic = CHORD_DICT[line.rsplit(\" \")[-1][:-1]]\n",
    "#             # initialize line-specific lists\n",
    "#             chord_line = []\n",
    "#             quality_line = []\n",
    "#             # find all indices where there is a \"|\"\n",
    "#             idx_bar = [pos for pos, char in enumerate(line) if char == \"|\"]\n",
    "#             # iterate over bars\n",
    "#             for i in range(len(idx_bar)-1):\n",
    "#                 # select a bar from the whole line\n",
    "#                 bar = line[idx_bar[i]+1:idx_bar[i+1]]\n",
    "#                 # find all indices where there is a \":\"\n",
    "#                 idx_chord = [pos for pos, char in enumerate(bar) if char == \":\"]\n",
    "#                 # iterate over chords in a bar\n",
    "#                 for j in idx_chord:\n",
    "#                     # grab chord (convert to numeral relative to tonic)\n",
    "#                     chord = \"\"\n",
    "#                     offset = 1\n",
    "#                     my_char = bar[j-offset]\n",
    "#                     while my_char != \" \":\n",
    "#                         chord += my_char\n",
    "#                         offset += 1\n",
    "#                         my_char = bar[j-offset]\n",
    "#                     chord_num = CHORD_DICT[chord[::-1]]\n",
    "#                     chord_rel = chord_num - tonic\n",
    "#                     if chord_rel < 0:\n",
    "#                         chord_line.append(chord_rel + 12)\n",
    "#                     else:\n",
    "#                         chord_line.append(chord_rel)\n",
    "\n",
    "#                     # grab chord quality\n",
    "#                     quality = \"\"\n",
    "#                     offset = 1\n",
    "#                     my_char = bar[j+offset]\n",
    "#                     while my_char != \" \":\n",
    "#                         quality += my_char\n",
    "#                         offset += 1\n",
    "#                         my_char = bar[j+offset]\n",
    "#                     quality_line.append(quality)\n",
    "#             # append to global list\n",
    "#             if chord_line:\n",
    "#                 all_chord.append(chord_line)\n",
    "#             if quality_line:\n",
    "#                 all_quality.append(quality_line)\n",
    "    \n",
    "#     return all_chord, all_quality"
   ]
  }
 ],
 "metadata": {
  "kernelspec": {
   "display_name": "Python 3",
   "language": "python",
   "name": "python3"
  },
  "language_info": {
   "codemirror_mode": {
    "name": "ipython",
    "version": 3
   },
   "file_extension": ".py",
   "mimetype": "text/x-python",
   "name": "python",
   "nbconvert_exporter": "python",
   "pygments_lexer": "ipython3",
   "version": "3.7.3"
  }
 },
 "nbformat": 4,
 "nbformat_minor": 4
}
