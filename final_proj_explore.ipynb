{
 "cells": [
  {
   "cell_type": "markdown",
   "metadata": {},
   "source": [
    "## TODO\n",
    " - Handle repeated chords (*)\n",
    " - Analyze sparcity of chord qualities and extensions\n",
    "     - if too sparce, then ignore extensions and simplify quality\n",
    " - "
   ]
  },
  {
   "cell_type": "markdown",
   "metadata": {},
   "source": [
    "## Import modules"
   ]
  },
  {
   "cell_type": "code",
   "execution_count": 51,
   "metadata": {},
   "outputs": [],
   "source": [
    "import numpy as np\n",
    "import pandas as pd"
   ]
  },
  {
   "cell_type": "markdown",
   "metadata": {},
   "source": [
    "## Define global variables"
   ]
  },
  {
   "cell_type": "code",
   "execution_count": 52,
   "metadata": {},
   "outputs": [],
   "source": [
    "# dictionary of chord (key) to numeral (value)\n",
    "CHORD_DICT = {\n",
    "    'A':0,\n",
    "    'A#':1,\n",
    "    'Bb':1,\n",
    "    'B':2,\n",
    "    'Cb':2,\n",
    "    'C':3,\n",
    "    'C#':4,\n",
    "    'Db':4,\n",
    "    'D':5,\n",
    "    'D#':6,\n",
    "    'Eb':6,\n",
    "    'E':7,\n",
    "    'Fb':7,\n",
    "    'F':8,\n",
    "    'F#':9,\n",
    "    'Gb':8,\n",
    "    'G':10,\n",
    "    'G#':11,\n",
    "    'Ab':11,\n",
    "}"
   ]
  },
  {
   "cell_type": "code",
   "execution_count": 96,
   "metadata": {},
   "outputs": [],
   "source": [
    "# absolute path to McGill Billboard data\n",
    "mcgill_path = \"/Users/bradenyang/biof509/final-project/data/McGill-Billboard\""
   ]
  },
  {
   "cell_type": "markdown",
   "metadata": {},
   "source": [
    "## Define Data Parser Functions"
   ]
  },
  {
   "cell_type": "code",
   "execution_count": 95,
   "metadata": {},
   "outputs": [],
   "source": [
    "def convert_numeral(chord,tonic):\n",
    "    \"\"\"\n",
    "    Function convert_numeral converts a chord (string) into a\n",
    "    numeric representation (int) that is relative to the tonic key (string)\n",
    "    \n",
    "    For example, if chord = \"F\" and tonic = \"Bb\", then the output would be\n",
    "    the integer 7\n",
    "    -----------------------\n",
    "    Input\n",
    "        chord: string of the chord to be converted to a numeral\n",
    "        tonic: string of the tonic key\n",
    "    Output\n",
    "        numeral: int representation of \"chord\"\n",
    "    \"\"\"\n",
    "    numeral = CHORD_DICT[chord] - CHORD_DICT[tonic]\n",
    "    if numeral < 0:\n",
    "        return numeral + 12\n",
    "    else:\n",
    "        return numeral\n",
    "\n",
    "def parse_data(path):\n",
    "    \"\"\"\n",
    "    Funtion parse_data parses text file provided from the McGill Billboard\n",
    "    project and returns two lists of lists containing a sequence of chords\n",
    "    and their qualities respectively\n",
    "    -----------------------\n",
    "    Input\n",
    "        path: string containing absolute path to text file to parse\n",
    "    \n",
    "    Output\n",
    "        all_chord: list containing chord sequences at each line of the text\n",
    "            file\n",
    "        all_quality: list containing corresponding chord qualities for the\n",
    "            chords appearing in \"all_chord\"\n",
    "    \"\"\"\n",
    "    # initialize global lists\n",
    "    all_chord = []\n",
    "    all_quality = []\n",
    "    # iterate over every line\n",
    "    for line in open(path):\n",
    "        # set new tonic, if applicable\n",
    "        if \"# tonic:\" in line:\n",
    "            tonic = line.rsplit(\" \")[-1][:-1]\n",
    "        # initialize line-specific lists\n",
    "        chord_line = []\n",
    "        quality_line = []\n",
    "        # split bars (separated by \"|\")\n",
    "        bars = line.rsplit(\"|\")[1:-1]\n",
    "        # iterate over bars\n",
    "        for bar in bars:\n",
    "            # split chords+quality (separated by space)\n",
    "            cqs = bar.rsplit(\" \")[1:-1]\n",
    "            # iterate over chords+quality\n",
    "            for cq in cqs:\n",
    "                # check for existence of \":\"\n",
    "                if \":\" in cq:\n",
    "                    # get chord, convert to relative numeral and append\n",
    "                    chord_line.append(convert_numeral(cq.rsplit(\":\")[0],tonic))\n",
    "                    # get quality and append\n",
    "                    quality_line.append(cq.rsplit(\":\")[-1])\n",
    "        # append line list to global list (ignore empty lines)\n",
    "        if chord_line:\n",
    "            all_chord.append(chord_line)\n",
    "            all_quality.append(quality_line)\n",
    "\n",
    "    return all_chord, all_quality"
   ]
  },
  {
   "cell_type": "markdown",
   "metadata": {},
   "source": [
    "## Load in CSV file of metadata"
   ]
  },
  {
   "cell_type": "code",
   "execution_count": 69,
   "metadata": {},
   "outputs": [],
   "source": [
    "# load CSV\n",
    "songs_df = pd.read_csv(\"data/billboard-2.0-index.csv\");"
   ]
  },
  {
   "cell_type": "code",
   "execution_count": 70,
   "metadata": {},
   "outputs": [],
   "source": [
    "# filter out rows that have NaN in the \"actual_rank\" column\n",
    "songs_filter_df = songs_df[songs_df.actual_rank.notnull()]"
   ]
  },
  {
   "cell_type": "code",
   "execution_count": 71,
   "metadata": {},
   "outputs": [],
   "source": [
    "# get song indices\n",
    "song_id = songs_filter_df.id.as_matrix()"
   ]
  },
  {
   "cell_type": "markdown",
   "metadata": {},
   "source": [
    "## Parse all text files"
   ]
  },
  {
   "cell_type": "code",
   "execution_count": 104,
   "metadata": {},
   "outputs": [],
   "source": [
    "# initialize dicts to keep track of global counts\n",
    "num_chord = {}\n",
    "num_quality = {}\n",
    "\n",
    "# iterate through all songs\n",
    "for song in song_id:\n",
    "    # parse song\n",
    "    all_chord, all_quality = parse_data(mcgill_path + f\"/{str(song).zfill(4)}/salami_chords.txt\")\n",
    "    # iterate through lines in a song\n",
    "    for (chord_line,quality_line) in zip(all_chord,all_quality):\n",
    "        # iterate through individual chords\n",
    "        for (chord,quality) in zip(chord_line,quality_line):\n",
    "            # populate dicts\n",
    "            if chord in num_chord:\n",
    "                num_chord[chord] += 1\n",
    "            else:\n",
    "                num_chord[chord] = 1\n",
    "                \n",
    "            if quality in num_quality:\n",
    "                num_quality[quality] += 1\n",
    "            else:\n",
    "                num_quality[quality] = 1"
   ]
  },
  {
   "cell_type": "code",
   "execution_count": 106,
   "metadata": {},
   "outputs": [
    {
     "data": {
      "text/plain": [
       "{0: 42440,\n",
       " 1: 765,\n",
       " 2: 7006,\n",
       " 3: 2603,\n",
       " 4: 3641,\n",
       " 5: 20280,\n",
       " 6: 653,\n",
       " 7: 18341,\n",
       " 8: 3362,\n",
       " 9: 6810,\n",
       " 10: 5778,\n",
       " 11: 628}"
      ]
     },
     "execution_count": 106,
     "metadata": {},
     "output_type": "execute_result"
    }
   ],
   "source": [
    "num_chord"
   ]
  },
  {
   "cell_type": "markdown",
   "metadata": {},
   "source": [
    "## Scratch"
   ]
  },
  {
   "cell_type": "code",
   "execution_count": 88,
   "metadata": {},
   "outputs": [],
   "source": [
    "my_dict = {}"
   ]
  },
  {
   "cell_type": "code",
   "execution_count": 90,
   "metadata": {},
   "outputs": [],
   "source": [
    "my_dict[\"foo\"] = 1"
   ]
  },
  {
   "cell_type": "code",
   "execution_count": 91,
   "metadata": {},
   "outputs": [],
   "source": [
    "my_dict[\"foo\"] += 1"
   ]
  },
  {
   "cell_type": "code",
   "execution_count": 98,
   "metadata": {},
   "outputs": [
    {
     "data": {
      "text/plain": [
       "'0001'"
      ]
     },
     "execution_count": 98,
     "metadata": {},
     "output_type": "execute_result"
    }
   ],
   "source": [
    "str(1).zfill(4)\n",
    "zip()"
   ]
  },
  {
   "cell_type": "markdown",
   "metadata": {},
   "source": [
    "## Trash"
   ]
  },
  {
   "cell_type": "code",
   "execution_count": 76,
   "metadata": {},
   "outputs": [],
   "source": [
    "# def parse_data(path):\n",
    "#     # initialize global lists\n",
    "#     all_chord = []\n",
    "#     all_quality = []\n",
    "#     # read chord file line by line\n",
    "#     with open(path) as fp:\n",
    "#         # iterate over every line\n",
    "#         for line in fp:\n",
    "#             # set new tonic, if applicable\n",
    "#             if \"# tonic:\" in line:\n",
    "#                 tonic = CHORD_DICT[line.rsplit(\" \")[-1][:-1]]\n",
    "#             # initialize line-specific lists\n",
    "#             chord_line = []\n",
    "#             quality_line = []\n",
    "#             # find all indices where there is a \"|\"\n",
    "#             idx_bar = [pos for pos, char in enumerate(line) if char == \"|\"]\n",
    "#             # iterate over bars\n",
    "#             for i in range(len(idx_bar)-1):\n",
    "#                 # select a bar from the whole line\n",
    "#                 bar = line[idx_bar[i]+1:idx_bar[i+1]]\n",
    "#                 # find all indices where there is a \":\"\n",
    "#                 idx_chord = [pos for pos, char in enumerate(bar) if char == \":\"]\n",
    "#                 # iterate over chords in a bar\n",
    "#                 for j in idx_chord:\n",
    "#                     # grab chord (convert to numeral relative to tonic)\n",
    "#                     chord = \"\"\n",
    "#                     offset = 1\n",
    "#                     my_char = bar[j-offset]\n",
    "#                     while my_char != \" \":\n",
    "#                         chord += my_char\n",
    "#                         offset += 1\n",
    "#                         my_char = bar[j-offset]\n",
    "#                     chord_num = CHORD_DICT[chord[::-1]]\n",
    "#                     chord_rel = chord_num - tonic\n",
    "#                     if chord_rel < 0:\n",
    "#                         chord_line.append(chord_rel + 12)\n",
    "#                     else:\n",
    "#                         chord_line.append(chord_rel)\n",
    "\n",
    "#                     # grab chord quality\n",
    "#                     quality = \"\"\n",
    "#                     offset = 1\n",
    "#                     my_char = bar[j+offset]\n",
    "#                     while my_char != \" \":\n",
    "#                         quality += my_char\n",
    "#                         offset += 1\n",
    "#                         my_char = bar[j+offset]\n",
    "#                     quality_line.append(quality)\n",
    "#             # append to global list\n",
    "#             if chord_line:\n",
    "#                 all_chord.append(chord_line)\n",
    "#             if quality_line:\n",
    "#                 all_quality.append(quality_line)\n",
    "    \n",
    "#     return all_chord, all_quality"
   ]
  }
 ],
 "metadata": {
  "kernelspec": {
   "display_name": "Python 3",
   "language": "python",
   "name": "python3"
  },
  "language_info": {
   "codemirror_mode": {
    "name": "ipython",
    "version": 3
   },
   "file_extension": ".py",
   "mimetype": "text/x-python",
   "name": "python",
   "nbconvert_exporter": "python",
   "pygments_lexer": "ipython3",
   "version": "3.6.9"
  }
 },
 "nbformat": 4,
 "nbformat_minor": 2
}
